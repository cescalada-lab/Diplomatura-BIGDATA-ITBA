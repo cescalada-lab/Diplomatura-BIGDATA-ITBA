{
  "nbformat": 4,
  "nbformat_minor": 0,
  "metadata": {
    "colab": {
      "name": "WordCloud Visualization Zoo (infovis-dbd_2022-1ed).ipynb",
      "provenance": [],
      "collapsed_sections": []
    },
    "kernelspec": {
      "name": "python3",
      "display_name": "Python 3"
    },
    "language_info": {
      "name": "python"
    }
  },
  "cells": [
    {
      "cell_type": "markdown",
      "source": [
        "# WordCloud Visualization\n",
        "## Trabajo Práctico N° 2:\n",
        "+ Consiste en armar un wordcloud con las palabras relizadas en el Trabajo Práctico N° 1."
      ],
      "metadata": {
        "id": "3AT1aXguGp-G"
      }
    },
    {
      "cell_type": "code",
      "metadata": {
        "id": "1esd1uLvUWl3"
      },
      "source": [
        "# source: https://www.datacamp.com/tutorial/wordcloud-python\n",
        "\n",
        "import numpy as np\n",
        "import pandas as pd\n",
        "from os import path\n",
        "from PIL import Image\n",
        "from wordcloud import WordCloud, STOPWORDS, ImageColorGenerator\n",
        "\n",
        "import matplotlib.pyplot as plt\n",
        "% matplotlib inline"
      ],
      "execution_count": null,
      "outputs": []
    },
    {
      "cell_type": "code",
      "metadata": {
        "id": "uD915ycaj0Cw"
      },
      "source": [
        "urls = ['https://rbatallanez.github.io/infovis/zoo.txt',\n",
        "'https://cescalada-lab.github.io/infovis/zoo.txt',\n",
        "'https://fabiangarofalo.github.io/infovis/zoo.txt',\n",
        "'https://fabianalejandrogomez.github.io/zoo-words/zoo-words.txt',\n",
        "'https://jpincardona.github.io/infovis/zoo.txt',\n",
        "'https://raw.githubusercontent.com/GuillermoVela/infovis/main/zoo.txt']\n",
        "\n",
        "# urls = ['https://aaizemberg.github.io/infovis/data/zoo.txt']"
      ],
      "execution_count": null,
      "outputs": []
    },
    {
      "cell_type": "code",
      "metadata": {
        "id": "C6eTGZ_uVdWZ"
      },
      "source": [
        "df = pd.DataFrame({'text': []})\n",
        "for url in urls:\n",
        "  df2 = pd.read_csv(url, header=None, names=['text'])\n",
        "  df = df.append( df2, ignore_index=True )"
      ],
      "execution_count": null,
      "outputs": []
    },
    {
      "cell_type": "code",
      "metadata": {
        "colab": {
          "base_uri": "https://localhost:8080/",
          "height": 206
        },
        "id": "sWpRRMA_W77u",
        "outputId": "8edfc7c1-c311-48cd-d48b-571c7ab5eb70"
      },
      "source": [
        "df.tail()"
      ],
      "execution_count": null,
      "outputs": [
        {
          "output_type": "execute_result",
          "data": {
            "text/plain": [
              "                        text\n",
              "103     brushing-and-linking\n",
              "104    Parallel coordinates \n",
              "105  cartographic projection\n",
              "106            stroked lines\n",
              "107           choropleth map"
            ],
            "text/html": [
              "\n",
              "  <div id=\"df-c15a0bbc-d172-4031-a78d-ff7411f52346\">\n",
              "    <div class=\"colab-df-container\">\n",
              "      <div>\n",
              "<style scoped>\n",
              "    .dataframe tbody tr th:only-of-type {\n",
              "        vertical-align: middle;\n",
              "    }\n",
              "\n",
              "    .dataframe tbody tr th {\n",
              "        vertical-align: top;\n",
              "    }\n",
              "\n",
              "    .dataframe thead th {\n",
              "        text-align: right;\n",
              "    }\n",
              "</style>\n",
              "<table border=\"1\" class=\"dataframe\">\n",
              "  <thead>\n",
              "    <tr style=\"text-align: right;\">\n",
              "      <th></th>\n",
              "      <th>text</th>\n",
              "    </tr>\n",
              "  </thead>\n",
              "  <tbody>\n",
              "    <tr>\n",
              "      <th>103</th>\n",
              "      <td>brushing-and-linking</td>\n",
              "    </tr>\n",
              "    <tr>\n",
              "      <th>104</th>\n",
              "      <td>Parallel coordinates</td>\n",
              "    </tr>\n",
              "    <tr>\n",
              "      <th>105</th>\n",
              "      <td>cartographic projection</td>\n",
              "    </tr>\n",
              "    <tr>\n",
              "      <th>106</th>\n",
              "      <td>stroked lines</td>\n",
              "    </tr>\n",
              "    <tr>\n",
              "      <th>107</th>\n",
              "      <td>choropleth map</td>\n",
              "    </tr>\n",
              "  </tbody>\n",
              "</table>\n",
              "</div>\n",
              "      <button class=\"colab-df-convert\" onclick=\"convertToInteractive('df-c15a0bbc-d172-4031-a78d-ff7411f52346')\"\n",
              "              title=\"Convert this dataframe to an interactive table.\"\n",
              "              style=\"display:none;\">\n",
              "        \n",
              "  <svg xmlns=\"http://www.w3.org/2000/svg\" height=\"24px\"viewBox=\"0 0 24 24\"\n",
              "       width=\"24px\">\n",
              "    <path d=\"M0 0h24v24H0V0z\" fill=\"none\"/>\n",
              "    <path d=\"M18.56 5.44l.94 2.06.94-2.06 2.06-.94-2.06-.94-.94-2.06-.94 2.06-2.06.94zm-11 1L8.5 8.5l.94-2.06 2.06-.94-2.06-.94L8.5 2.5l-.94 2.06-2.06.94zm10 10l.94 2.06.94-2.06 2.06-.94-2.06-.94-.94-2.06-.94 2.06-2.06.94z\"/><path d=\"M17.41 7.96l-1.37-1.37c-.4-.4-.92-.59-1.43-.59-.52 0-1.04.2-1.43.59L10.3 9.45l-7.72 7.72c-.78.78-.78 2.05 0 2.83L4 21.41c.39.39.9.59 1.41.59.51 0 1.02-.2 1.41-.59l7.78-7.78 2.81-2.81c.8-.78.8-2.07 0-2.86zM5.41 20L4 18.59l7.72-7.72 1.47 1.35L5.41 20z\"/>\n",
              "  </svg>\n",
              "      </button>\n",
              "      \n",
              "  <style>\n",
              "    .colab-df-container {\n",
              "      display:flex;\n",
              "      flex-wrap:wrap;\n",
              "      gap: 12px;\n",
              "    }\n",
              "\n",
              "    .colab-df-convert {\n",
              "      background-color: #E8F0FE;\n",
              "      border: none;\n",
              "      border-radius: 50%;\n",
              "      cursor: pointer;\n",
              "      display: none;\n",
              "      fill: #1967D2;\n",
              "      height: 32px;\n",
              "      padding: 0 0 0 0;\n",
              "      width: 32px;\n",
              "    }\n",
              "\n",
              "    .colab-df-convert:hover {\n",
              "      background-color: #E2EBFA;\n",
              "      box-shadow: 0px 1px 2px rgba(60, 64, 67, 0.3), 0px 1px 3px 1px rgba(60, 64, 67, 0.15);\n",
              "      fill: #174EA6;\n",
              "    }\n",
              "\n",
              "    [theme=dark] .colab-df-convert {\n",
              "      background-color: #3B4455;\n",
              "      fill: #D2E3FC;\n",
              "    }\n",
              "\n",
              "    [theme=dark] .colab-df-convert:hover {\n",
              "      background-color: #434B5C;\n",
              "      box-shadow: 0px 1px 3px 1px rgba(0, 0, 0, 0.15);\n",
              "      filter: drop-shadow(0px 1px 2px rgba(0, 0, 0, 0.3));\n",
              "      fill: #FFFFFF;\n",
              "    }\n",
              "  </style>\n",
              "\n",
              "      <script>\n",
              "        const buttonEl =\n",
              "          document.querySelector('#df-c15a0bbc-d172-4031-a78d-ff7411f52346 button.colab-df-convert');\n",
              "        buttonEl.style.display =\n",
              "          google.colab.kernel.accessAllowed ? 'block' : 'none';\n",
              "\n",
              "        async function convertToInteractive(key) {\n",
              "          const element = document.querySelector('#df-c15a0bbc-d172-4031-a78d-ff7411f52346');\n",
              "          const dataTable =\n",
              "            await google.colab.kernel.invokeFunction('convertToInteractive',\n",
              "                                                     [key], {});\n",
              "          if (!dataTable) return;\n",
              "\n",
              "          const docLinkHtml = 'Like what you see? Visit the ' +\n",
              "            '<a target=\"_blank\" href=https://colab.research.google.com/notebooks/data_table.ipynb>data table notebook</a>'\n",
              "            + ' to learn more about interactive tables.';\n",
              "          element.innerHTML = '';\n",
              "          dataTable['output_type'] = 'display_data';\n",
              "          await google.colab.output.renderOutput(dataTable, element);\n",
              "          const docLink = document.createElement('div');\n",
              "          docLink.innerHTML = docLinkHtml;\n",
              "          element.appendChild(docLink);\n",
              "        }\n",
              "      </script>\n",
              "    </div>\n",
              "  </div>\n",
              "  "
            ]
          },
          "metadata": {},
          "execution_count": 10
        }
      ]
    },
    {
      "cell_type": "code",
      "source": [
        "df.filter(items=['text']).squeeze().str.cat(sep=' ').lower()"
      ],
      "metadata": {
        "colab": {
          "base_uri": "https://localhost:8080/",
          "height": 161
        },
        "id": "0yHmmZZK1KLx",
        "outputId": "0b59aaa9-c729-458b-d55b-397854baa5ec"
      },
      "execution_count": null,
      "outputs": [
        {
          "output_type": "execute_result",
          "data": {
            "text/plain": [
              "'protovis index chart stream graphs small multiples horizon graphs stem-and-leaf plots quantile-quantile  q-q plots splom brushing-and-linking parallel coordinates flow map  reingold-tilford algorithm dendrogram  force-directed layout   astonishing rate nuanced visual encodings graphical perception protovis scalable vector graphics stream graph brushing-and-linking choropleth map dorling cartogram phylogenetic trees reingold-tilford algorithm force-directed layout stem-and-leaf q-q (quantile-quantile) brushing-and-linking choropleth maps adjacency diagrams enclosure diagrams arc diagrams reingold-tilford algorithm stream graph steam-and-leaf plots box-and-whisker plot q-q plots splom parallel coordinates choropleth maps node-link diagrams dendrogram adjacency diagrams network layout force-directed layouts protovis stream graphs stem-and-leaf plots quantile-quantile  q-q plots splom brushing-and-linking parallel coordinates flow map  reingold-tilford algorithm dendrogram  scalable vector graphics (svg) stacked graphs horizon graphs box-and-whisker plots stem-and-leaf plot quantile-quantile plots q-q plotd brushing-and-linking parallel coordinates  cartographic projection stroked lines choropleth map'"
            ],
            "application/vnd.google.colaboratory.intrinsic+json": {
              "type": "string"
            }
          },
          "metadata": {},
          "execution_count": 16
        }
      ]
    },
    {
      "cell_type": "code",
      "metadata": {
        "colab": {
          "base_uri": "https://localhost:8080/",
          "height": 248
        },
        "id": "Bj0vml5TUydZ",
        "outputId": "1687cd5a-e0b9-4806-add3-dffa2c99fa9f"
      },
      "source": [
        "# armo el texto para el WordCloud\n",
        "text = df.filter(items=['text']).squeeze().str.cat(sep=' ').lower()\n",
        "\n",
        "stopwords = { 'and'}\n",
        "\n",
        "# Create and generate a word cloud image:\n",
        "\n",
        "wordcloud = WordCloud(max_words=100, width=800,height=600, stopwords=stopwords).generate(text)\n",
        "# wordcloud = WordCloud(max_words=200, width=800,height=600, stopwords=stopwords).generate(text)\n",
        "# wordcloud = WordCloud(max_words=20, width=800, height=600, stopwords=stopwords, background_color=\"black\", collocations=True).generate(text)\n",
        "\n",
        "# Display the generated image:\n",
        "plt.imshow(wordcloud)\n",
        "plt.axis(\"off\")\n",
        "plt.show()"
      ],
      "execution_count": null,
      "outputs": [
        {
          "output_type": "display_data",
          "data": {
            "text/plain": [
              "<Figure size 432x288 with 1 Axes>"
            ],
            "image/png": "[encoded data removed]"
          },
          "metadata": {
            "needs_background": "light"
          }
        }
      ]
    },
    {
      "cell_type": "code",
      "metadata": {
        "colab": {
          "base_uri": "https://localhost:8080/"
        },
        "id": "F7fYiublVIbi",
        "outputId": "618d25d4-2e21-4731-b4f8-e9fd8d1739cf"
      },
      "source": [
        "# lo grabo como un .png\n",
        "#\n",
        "wordcloud.to_file(\"wordcloud_infovis-dbd-2022-07.png\")"
      ],
      "execution_count": null,
      "outputs": [
        {
          "output_type": "execute_result",
          "data": {
            "text/plain": [
              "<wordcloud.wordcloud.WordCloud at 0x7f74968f7090>"
            ]
          },
          "metadata": {},
          "execution_count": 20
        }
      ]
    },
    {
      "cell_type": "code",
      "metadata": {
        "id": "l9JhzGPjpGgc"
      },
      "source": [
        "# ?WordCloud"
      ],
      "execution_count": null,
      "outputs": []
    },
    {
      "cell_type": "code",
      "metadata": {
        "colab": {
          "base_uri": "https://localhost:8080/"
        },
        "id": "jwWbHmDSpSFB",
        "outputId": "7befe41a-a04e-45e0-f51e-525220f40bf2"
      },
      "source": [
        "wordcloud.words_"
      ],
      "execution_count": null,
      "outputs": [
        {
          "output_type": "execute_result",
          "data": {
            "text/plain": [
              "{'adjacency': 0.2,\n",
              " 'arc': 0.1,\n",
              " 'astonishing': 0.1,\n",
              " 'box': 0.2,\n",
              " 'brushing linking': 0.5,\n",
              " 'cartogram': 0.1,\n",
              " 'cartographic': 0.1,\n",
              " 'chart': 0.1,\n",
              " 'choropleth': 0.4,\n",
              " 'dendrogram': 0.3,\n",
              " 'diagrams': 0.5,\n",
              " 'directed': 0.3,\n",
              " 'dorling': 0.1,\n",
              " 'enclosure': 0.1,\n",
              " 'encodings': 0.1,\n",
              " 'flow': 0.2,\n",
              " 'force': 0.3,\n",
              " 'graph': 0.7,\n",
              " 'graphical': 0.1,\n",
              " 'graphics': 0.2,\n",
              " 'horizon': 0.2,\n",
              " 'index': 0.1,\n",
              " 'layout': 0.4,\n",
              " 'leaf': 0.1,\n",
              " 'lines': 0.1,\n",
              " 'link': 0.1,\n",
              " 'map': 0.6,\n",
              " 'multiples': 0.1,\n",
              " 'network': 0.1,\n",
              " 'node': 0.1,\n",
              " 'nuanced': 0.1,\n",
              " 'parallel coordinates': 0.4,\n",
              " 'perception': 0.1,\n",
              " 'phylogenetic': 0.1,\n",
              " 'plot': 1.0,\n",
              " 'plotd': 0.1,\n",
              " 'projection': 0.1,\n",
              " 'protovis': 0.3,\n",
              " 'quantile': 0.8,\n",
              " 'rate': 0.1,\n",
              " 'reingold tilford': 0.4,\n",
              " 'scalable': 0.2,\n",
              " 'small': 0.1,\n",
              " 'splom': 0.3,\n",
              " 'stacked': 0.1,\n",
              " 'steam': 0.1,\n",
              " 'stem leaf': 0.4,\n",
              " 'stream': 0.4,\n",
              " 'stroked': 0.1,\n",
              " 'svg': 0.1,\n",
              " 'tilford algorithm': 0.4,\n",
              " 'trees': 0.1,\n",
              " 'vector': 0.2,\n",
              " 'visual': 0.1,\n",
              " 'whisker': 0.2}"
            ]
          },
          "metadata": {},
          "execution_count": 21
        }
      ]
    },
    {
      "cell_type": "markdown",
      "metadata": {
        "id": "T6EDELwhkRuA"
      },
      "source": [
        "*Creating a visualization requires a number of nuanced judgments*  --> Crear una visualización requiere una serie de juicios matizados\n",
        "\n",
        "*One must determine which questions to ask, identify the appropriate data, and select effective visual encodings to map data values to graphical features such as position, size, shape, and color.*\n"
      ]
    }
  ]
}