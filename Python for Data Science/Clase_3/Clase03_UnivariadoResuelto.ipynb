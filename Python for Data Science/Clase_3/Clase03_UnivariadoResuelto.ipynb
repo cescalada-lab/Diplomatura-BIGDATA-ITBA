{
  "nbformat": 4,
  "nbformat_minor": 0,
  "metadata": {
    "kernelspec": {
      "display_name": "Python 3",
      "language": "python",
      "name": "python3"
    },
    "language_info": {
      "codemirror_mode": {
        "name": "ipython",
        "version": 3
      },
      "file_extension": ".py",
      "mimetype": "text/x-python",
      "name": "python",
      "nbconvert_exporter": "python",
      "pygments_lexer": "ipython3",
      "version": "3.6.10"
    },
    "colab": {
      "name": "Clase03_Univariado.ipynb",
      "provenance": [],
      "collapsed_sections": []
    }
  },
  "cells": [
    {
      "cell_type": "markdown",
      "metadata": {
        "id": "7XTr-1USTIU-"
      },
      "source": [
        "### Clase 03 - Análisis Univariados\n",
        "#### Realizar análisis de las variables de un dataset individualmente\n",
        "- Histogramas\n",
        "- Boxplots\n",
        "- Pie Chart\n",
        "- Creación e invocación de funciones en Python\n"
      ]
    },
    {
      "cell_type": "markdown",
      "metadata": {
        "id": "MG1_CrgBTIVG"
      },
      "source": [
        "#### Librería Matplotlib\n",
        "La librería <a href=\"https://matplotlib.org/\">matplotlib.org</a> es una de las librerías de Python más usada para visualizar \n",
        "datos a analizar.\n",
        "Cuando trabajamos en un notebook debemos agregar la línea\n",
        "<code>%matplotlib inline</code>"
      ]
    },
    {
      "cell_type": "code",
      "metadata": {
        "id": "xSE6H_cfTIVH"
      },
      "source": [
        "#Además de pandas, importamos matplotlib con prefijo plt\n",
        "import pandas as pd\n",
        "import matplotlib.pyplot as plt\n",
        "%matplotlib inline"
      ],
      "execution_count": 1,
      "outputs": []
    },
    {
      "cell_type": "markdown",
      "metadata": {
        "id": "zkIb7Ml9TIVJ"
      },
      "source": [
        "Una forma de ver cómo se distribuyen los valores de una variable y su frecuencias es el histograma.<br><br>\n",
        "Supongamos que tenemos las notas de un curso(cada nota corresponde a un examen).<br>\n",
        "Creamos el histograma de las notas usando la función <a href=\"https://matplotlib.org/3.3.1/api/_as_gen/matplotlib.pyplot.hist.html\">hist</a> de __matplotlib__. Se crean intervalos de los valores de las notas en el eje x y en el eje y se ubican las cantidad de valores que caen en ese intervalo.\n",
        "\n",
        "Para ejecutar el histograma:\n",
        "<code>plt.hist(...)</code>"
      ]
    },
    {
      "cell_type": "code",
      "metadata": {
        "id": "DkVtsNriTIVK",
        "colab": {
          "base_uri": "https://localhost:8080/",
          "height": 282
        },
        "outputId": "276f5ad2-f9c9-474a-83c4-1feabdb251f8"
      },
      "source": [
        "notas=[9,10,10,8,2,1,4,4,6,8,7,9,3,2,9] \n",
        "print('Cantidad de notas: ',len(notas))\n",
        "plt.hist(notas)#<-- \n",
        "plt.show()"
      ],
      "execution_count": 2,
      "outputs": [
        {
          "output_type": "stream",
          "name": "stdout",
          "text": [
            "Cantidad de notas:  15\n"
          ]
        },
        {
          "output_type": "display_data",
          "data": {
            "text/plain": [
              "<Figure size 432x288 with 1 Axes>"
            ],
            "image/png": "[encoded data removed]"
          },
          "metadata": {
            "needs_background": "light"
          }
        }
      ]
    },
    {
      "cell_type": "markdown",
      "metadata": {
        "id": "dKHbX5L9TIVL"
      },
      "source": [
        "Vamos a mejorar el histograma. \\\\\n",
        "* Como no se nota bien el borde podemos marcarlo con el parámetro __edgecolor='black'__<br>\n",
        "* Para relacionar mejor el __eje y__ ponemos un grid en el fondo: __plt.grid(True)__ o __plt.grid(axis='x')__ o __plt.grid(axis='y')__.<br>\n",
        "Con __plt.xticks()__ ponemos los valores del eje x.<br>\n",
        "Para eso creamos __valores_nota__ (con los valores posibles de las notas), utilizando la función __range__ de Python."
      ]
    },
    {
      "cell_type": "code",
      "source": [
        "valores_notas=range(1,11)\n",
        "plt.hist(notas,edgecolor='black')\n",
        "plt.grid(axis='y')\n",
        "plt.xticks(valores_notas)\n",
        "plt.show()"
      ],
      "metadata": {
        "colab": {
          "base_uri": "https://localhost:8080/",
          "height": 265
        },
        "id": "FnGnaqwRS8aX",
        "outputId": "a3e252b7-c750-4cf3-b8ea-b3ba1d6ef03b"
      },
      "execution_count": 6,
      "outputs": [
        {
          "output_type": "display_data",
          "data": {
            "text/plain": [
              "<Figure size 432x288 with 1 Axes>"
            ],
            "image/png": "[encoded data removed]"
          },
          "metadata": {
            "needs_background": "light"
          }
        }
      ]
    },
    {
      "cell_type": "markdown",
      "source": [
        "Queremos crear 3 intervalos para ver la cantidad de desaprobados (<4), aprobados (entre 4 y 7), excelente(entre 8 y 10)\n",
        "para eso se usa el parámentro __bins=__ que permite crear intervalos específicos. Le pasamos como parámetro una lista de intervalos cerrado-abierto.\n",
        "\n",
        "\n",
        "Los intervalos serían: [1,4), [4,8),[8,10)\n"
      ],
      "metadata": {
        "id": "YhcZFneGU0qv"
      }
    },
    {
      "cell_type": "code",
      "metadata": {
        "id": "nhF6PbhlTIVM",
        "colab": {
          "base_uri": "https://localhost:8080/",
          "height": 265
        },
        "outputId": "d13bd55b-4706-4c75-b7f3-d1c886f3e982"
      },
      "source": [
        "plt.grid(axis='y')\n",
        "plt.xticks(valores_notas)\n",
        "plt.hist(notas,edgecolor='black',bins=[1,4,8,10])\n",
        "#-->bins que cumplan con la consigna plt.hist(notas,edgecolor='black',bins=)\n",
        "plt.show()"
      ],
      "execution_count": 7,
      "outputs": [
        {
          "output_type": "display_data",
          "data": {
            "text/plain": [
              "<Figure size 432x288 with 1 Axes>"
            ],
            "image/png": "[encoded data removed]"
          },
          "metadata": {
            "needs_background": "light"
          }
        }
      ]
    },
    {
      "cell_type": "markdown",
      "metadata": {
        "id": "t83Mux85TIVN"
      },
      "source": [
        "Ponemos un título al histograma <br>\n",
        "Podemos usar diferentes métodos de creación de los intervalos. __Sturges__ usa ${1+log_{2}(n)}$ donde n es la cantidad de valores.<br>\n",
        "Mostramos las etiquetas con legend"
      ]
    },
    {
      "cell_type": "code",
      "metadata": {
        "id": "8MMa52BRTIVN",
        "colab": {
          "base_uri": "https://localhost:8080/",
          "height": 281
        },
        "outputId": "44b4779d-8447-46d2-ebec-3ba8583e766c"
      },
      "source": [
        "plt.grid(axis='y')\n",
        "#Ponemos un título al histograma\n",
        "plt.title('Histograma')\n",
        "#Podemos usar diferentes métodos de creación de los intervalos. Sturges usa [1+log2n] donde n es la cantidad de valores\n",
        "plt.hist(notas,edgecolor='black',bins='sturges',label='notas')\n",
        "#Mostramos las etiquetas\n",
        "plt.legend()\n",
        "plt.show()"
      ],
      "execution_count": 8,
      "outputs": [
        {
          "output_type": "display_data",
          "data": {
            "text/plain": [
              "<Figure size 432x288 with 1 Axes>"
            ],
            "image/png": "[encoded data removed]"
          },
          "metadata": {
            "needs_background": "light"
          }
        }
      ]
    },
    {
      "cell_type": "markdown",
      "metadata": {
        "id": "J7Mjlr0MTIVO"
      },
      "source": [
        "Ponemos el nombre del __eje x__ con __plt.xlabel__ y del __eje y__ con __plt.ylabel__<br>\n",
        "Usamos el parámetro __rwidth__ con valor 0.7 para separar un poco las barras"
      ]
    },
    {
      "cell_type": "code",
      "metadata": {
        "id": "982af9fmTIVO",
        "colab": {
          "base_uri": "https://localhost:8080/",
          "height": 295
        },
        "outputId": "269a81c4-fdbc-4232-93dc-64002ed032b5"
      },
      "source": [
        "plt.grid(axis='y')\n",
        "plt.title('Histograma')\n",
        "plt.xlabel('Notas')#<--xlabel\n",
        "plt.ylabel('Eje y')\n",
        "plt.hist(notas,edgecolor='black',bins='sturges',label='notas',rwidth=0.7)\n",
        "plt.legend()\n",
        "plt.show()"
      ],
      "execution_count": 9,
      "outputs": [
        {
          "output_type": "display_data",
          "data": {
            "text/plain": [
              "<Figure size 432x288 with 1 Axes>"
            ],
            "image/png": "[encoded data removed]"
          },
          "metadata": {
            "needs_background": "light"
          }
        }
      ]
    },
    {
      "cell_type": "markdown",
      "metadata": {
        "id": "rlyKiWKwTIVP"
      },
      "source": [
        "Si queremos que los intervalos acumulen (es decir que cuenten sus valores más los anteriores),\n",
        "usamos __cumulative=True__"
      ]
    },
    {
      "cell_type": "code",
      "metadata": {
        "id": "y-Fk2e0YTIVQ",
        "colab": {
          "base_uri": "https://localhost:8080/",
          "height": 295
        },
        "outputId": "5cdf9f03-2583-4450-fb00-d4a2ac8ddce1"
      },
      "source": [
        "#<--todo lo anterior más histograma acumulativo\n",
        "plt.grid(axis='y')\n",
        "plt.title('Histograma')\n",
        "plt.xlabel('Eje x: notas')#<--xlabel\n",
        "plt.ylabel('Eje y: cantidad')#<--ylabel\n",
        "plt.hist(notas,edgecolor='black',bins='sturges',label='notas',rwidth=0.9, cumulative=True )\n",
        "plt.legend()\n",
        "plt.show()"
      ],
      "execution_count": 10,
      "outputs": [
        {
          "output_type": "display_data",
          "data": {
            "text/plain": [
              "<Figure size 432x288 with 1 Axes>"
            ],
            "image/png": "[encoded data removed]"
          },
          "metadata": {
            "needs_background": "light"
          }
        }
      ]
    },
    {
      "cell_type": "markdown",
      "metadata": {
        "id": "i_3JsrqATIVQ"
      },
      "source": [
        "### Boxplot\n",
        "El <a href=\"https://matplotlib.org/3.3.1/api/_as_gen/matplotlib.pyplot.boxplot.html\">boxplot</a> es otro gráfico que resume el comportamiento de las variables. La caja tiene su límite superior en el quartil 0,75. El límite inferior está en el quartil 0,25 y en medio se encuentra la mediana (quartil 0,5).<br>\n",
        "El $espacioInter quartil$ es el $q3-q1$.<br>\n",
        "El extremo superior es el mayor valor menor que el quartil $0,75 + 1,5 * espacioIntercuartil$<br>\n",
        "El extremo inferior es el mínimo valor mayor el quartil $0,25 - 1,5 * espacioIntercuartil$<br>"
      ]
    },
    {
      "cell_type": "code",
      "source": [
        "notas.sort()\n",
        "print(notas)"
      ],
      "metadata": {
        "colab": {
          "base_uri": "https://localhost:8080/"
        },
        "id": "jwKJ7A47OnNN",
        "outputId": "f3841298-a7c0-4350-f30e-2a719e235d28"
      },
      "execution_count": 12,
      "outputs": [
        {
          "output_type": "stream",
          "name": "stdout",
          "text": [
            "[1, 2, 2, 3, 4, 4, 6, 7, 8, 8, 9, 9, 9, 10, 10]\n"
          ]
        }
      ]
    },
    {
      "cell_type": "code",
      "source": [
        "9+1.5*(9-3.5)"
      ],
      "metadata": {
        "colab": {
          "base_uri": "https://localhost:8080/"
        },
        "id": "HwNIPgkEO-gb",
        "outputId": "20631a99-0592-4616-cf4f-4598ae030687"
      },
      "execution_count": 13,
      "outputs": [
        {
          "output_type": "execute_result",
          "data": {
            "text/plain": [
              "17.25"
            ]
          },
          "metadata": {},
          "execution_count": 13
        }
      ]
    },
    {
      "cell_type": "code",
      "metadata": {
        "scrolled": true,
        "id": "Ld3oG45vTIVR",
        "colab": {
          "base_uri": "https://localhost:8080/",
          "height": 300
        },
        "outputId": "6b3d0bf6-2022-4b39-caa5-678c9a1f5801"
      },
      "source": [
        "print(notas)\n",
        "plt.boxplot(notas+[20])\n",
        "plt.yticks(range(1,21))\n",
        "plt.grid(axis='y')\n",
        "print(\"Boxplot\")"
      ],
      "execution_count": 53,
      "outputs": [
        {
          "output_type": "stream",
          "name": "stdout",
          "text": [
            "[1, 2, 2, 3, 4, 4, 6, 7, 8, 8, 9, 9, 9, 10, 10]\n",
            "Boxplot\n"
          ]
        },
        {
          "output_type": "display_data",
          "data": {
            "text/plain": [
              "<Figure size 432x288 with 1 Axes>"
            ],
            "image/png": "[encoded data removed]"
          },
          "metadata": {
            "needs_background": "light"
          }
        }
      ]
    },
    {
      "cell_type": "markdown",
      "metadata": {
        "id": "eQbRuY2DTIVR"
      },
      "source": [
        "### Iris\n",
        "Cargamos el dataset __iris.csv__ para graficar y poder analizar sus variables individualmente"
      ]
    },
    {
      "cell_type": "code",
      "metadata": {
        "id": "lM6iXuJXTIVR",
        "colab": {
          "base_uri": "https://localhost:8080/",
          "height": 424
        },
        "outputId": "a8e33607-429e-4d7e-9f82-0b8087bc0bb0"
      },
      "source": [
        "#Cargamos iris c\n",
        "iris=pd.read_csv(r'iris.csv',sep=';')\n",
        "iris"
      ],
      "execution_count": 16,
      "outputs": [
        {
          "output_type": "execute_result",
          "data": {
            "text/plain": [
              "     Sepal.Length  Sepal.Width  Petal.Length  Petal.Width    Species\n",
              "0             5.1          3.5           1.4          0.2     setosa\n",
              "1             4.9          3.0           1.4          0.2     setosa\n",
              "2             4.7          3.2           1.3          0.2     setosa\n",
              "3             4.6          3.1           1.5          0.2     setosa\n",
              "4             5.0          3.6           1.4          0.2     setosa\n",
              "..            ...          ...           ...          ...        ...\n",
              "145           6.7          3.0           5.2          2.3  virginica\n",
              "146           6.3          2.5           5.0          1.9  virginica\n",
              "147           6.5          3.0           5.2          2.0  virginica\n",
              "148           6.2          3.4           5.4          2.3  virginica\n",
              "149           5.9          3.0           5.1          1.8  virginica\n",
              "\n",
              "[150 rows x 5 columns]"
            ],
            "text/html": [
              "\n",
              "  <div id=\"df-dab261b6-855b-4926-a72f-d1a92864f49f\">\n",
              "    <div class=\"colab-df-container\">\n",
              "      <div>\n",
              "<style scoped>\n",
              "    .dataframe tbody tr th:only-of-type {\n",
              "        vertical-align: middle;\n",
              "    }\n",
              "\n",
              "    .dataframe tbody tr th {\n",
              "        vertical-align: top;\n",
              "    }\n",
              "\n",
              "    .dataframe thead th {\n",
              "        text-align: right;\n",
              "    }\n",
              "</style>\n",
              "<table border=\"1\" class=\"dataframe\">\n",
              "  <thead>\n",
              "    <tr style=\"text-align: right;\">\n",
              "      <th></th>\n",
              "      <th>Sepal.Length</th>\n",
              "      <th>Sepal.Width</th>\n",
              "      <th>Petal.Length</th>\n",
              "      <th>Petal.Width</th>\n",
              "      <th>Species</th>\n",
              "    </tr>\n",
              "  </thead>\n",
              "  <tbody>\n",
              "    <tr>\n",
              "      <th>0</th>\n",
              "      <td>5.1</td>\n",
              "      <td>3.5</td>\n",
              "      <td>1.4</td>\n",
              "      <td>0.2</td>\n",
              "      <td>setosa</td>\n",
              "    </tr>\n",
              "    <tr>\n",
              "      <th>1</th>\n",
              "      <td>4.9</td>\n",
              "      <td>3.0</td>\n",
              "      <td>1.4</td>\n",
              "      <td>0.2</td>\n",
              "      <td>setosa</td>\n",
              "    </tr>\n",
              "    <tr>\n",
              "      <th>2</th>\n",
              "      <td>4.7</td>\n",
              "      <td>3.2</td>\n",
              "      <td>1.3</td>\n",
              "      <td>0.2</td>\n",
              "      <td>setosa</td>\n",
              "    </tr>\n",
              "    <tr>\n",
              "      <th>3</th>\n",
              "      <td>4.6</td>\n",
              "      <td>3.1</td>\n",
              "      <td>1.5</td>\n",
              "      <td>0.2</td>\n",
              "      <td>setosa</td>\n",
              "    </tr>\n",
              "    <tr>\n",
              "      <th>4</th>\n",
              "      <td>5.0</td>\n",
              "      <td>3.6</td>\n",
              "      <td>1.4</td>\n",
              "      <td>0.2</td>\n",
              "      <td>setosa</td>\n",
              "    </tr>\n",
              "    <tr>\n",
              "      <th>...</th>\n",
              "      <td>...</td>\n",
              "      <td>...</td>\n",
              "      <td>...</td>\n",
              "      <td>...</td>\n",
              "      <td>...</td>\n",
              "    </tr>\n",
              "    <tr>\n",
              "      <th>145</th>\n",
              "      <td>6.7</td>\n",
              "      <td>3.0</td>\n",
              "      <td>5.2</td>\n",
              "      <td>2.3</td>\n",
              "      <td>virginica</td>\n",
              "    </tr>\n",
              "    <tr>\n",
              "      <th>146</th>\n",
              "      <td>6.3</td>\n",
              "      <td>2.5</td>\n",
              "      <td>5.0</td>\n",
              "      <td>1.9</td>\n",
              "      <td>virginica</td>\n",
              "    </tr>\n",
              "    <tr>\n",
              "      <th>147</th>\n",
              "      <td>6.5</td>\n",
              "      <td>3.0</td>\n",
              "      <td>5.2</td>\n",
              "      <td>2.0</td>\n",
              "      <td>virginica</td>\n",
              "    </tr>\n",
              "    <tr>\n",
              "      <th>148</th>\n",
              "      <td>6.2</td>\n",
              "      <td>3.4</td>\n",
              "      <td>5.4</td>\n",
              "      <td>2.3</td>\n",
              "      <td>virginica</td>\n",
              "    </tr>\n",
              "    <tr>\n",
              "      <th>149</th>\n",
              "      <td>5.9</td>\n",
              "      <td>3.0</td>\n",
              "      <td>5.1</td>\n",
              "      <td>1.8</td>\n",
              "      <td>virginica</td>\n",
              "    </tr>\n",
              "  </tbody>\n",
              "</table>\n",
              "<p>150 rows × 5 columns</p>\n",
              "</div>\n",
              "      <button class=\"colab-df-convert\" onclick=\"convertToInteractive('df-dab261b6-855b-4926-a72f-d1a92864f49f')\"\n",
              "              title=\"Convert this dataframe to an interactive table.\"\n",
              "              style=\"display:none;\">\n",
              "        \n",
              "  <svg xmlns=\"http://www.w3.org/2000/svg\" height=\"24px\"viewBox=\"0 0 24 24\"\n",
              "       width=\"24px\">\n",
              "    <path d=\"M0 0h24v24H0V0z\" fill=\"none\"/>\n",
              "    <path d=\"M18.56 5.44l.94 2.06.94-2.06 2.06-.94-2.06-.94-.94-2.06-.94 2.06-2.06.94zm-11 1L8.5 8.5l.94-2.06 2.06-.94-2.06-.94L8.5 2.5l-.94 2.06-2.06.94zm10 10l.94 2.06.94-2.06 2.06-.94-2.06-.94-.94-2.06-.94 2.06-2.06.94z\"/><path d=\"M17.41 7.96l-1.37-1.37c-.4-.4-.92-.59-1.43-.59-.52 0-1.04.2-1.43.59L10.3 9.45l-7.72 7.72c-.78.78-.78 2.05 0 2.83L4 21.41c.39.39.9.59 1.41.59.51 0 1.02-.2 1.41-.59l7.78-7.78 2.81-2.81c.8-.78.8-2.07 0-2.86zM5.41 20L4 18.59l7.72-7.72 1.47 1.35L5.41 20z\"/>\n",
              "  </svg>\n",
              "      </button>\n",
              "      \n",
              "  <style>\n",
              "    .colab-df-container {\n",
              "      display:flex;\n",
              "      flex-wrap:wrap;\n",
              "      gap: 12px;\n",
              "    }\n",
              "\n",
              "    .colab-df-convert {\n",
              "      background-color: #E8F0FE;\n",
              "      border: none;\n",
              "      border-radius: 50%;\n",
              "      cursor: pointer;\n",
              "      display: none;\n",
              "      fill: #1967D2;\n",
              "      height: 32px;\n",
              "      padding: 0 0 0 0;\n",
              "      width: 32px;\n",
              "    }\n",
              "\n",
              "    .colab-df-convert:hover {\n",
              "      background-color: #E2EBFA;\n",
              "      box-shadow: 0px 1px 2px rgba(60, 64, 67, 0.3), 0px 1px 3px 1px rgba(60, 64, 67, 0.15);\n",
              "      fill: #174EA6;\n",
              "    }\n",
              "\n",
              "    [theme=dark] .colab-df-convert {\n",
              "      background-color: #3B4455;\n",
              "      fill: #D2E3FC;\n",
              "    }\n",
              "\n",
              "    [theme=dark] .colab-df-convert:hover {\n",
              "      background-color: #434B5C;\n",
              "      box-shadow: 0px 1px 3px 1px rgba(0, 0, 0, 0.15);\n",
              "      filter: drop-shadow(0px 1px 2px rgba(0, 0, 0, 0.3));\n",
              "      fill: #FFFFFF;\n",
              "    }\n",
              "  </style>\n",
              "\n",
              "      <script>\n",
              "        const buttonEl =\n",
              "          document.querySelector('#df-dab261b6-855b-4926-a72f-d1a92864f49f button.colab-df-convert');\n",
              "        buttonEl.style.display =\n",
              "          google.colab.kernel.accessAllowed ? 'block' : 'none';\n",
              "\n",
              "        async function convertToInteractive(key) {\n",
              "          const element = document.querySelector('#df-dab261b6-855b-4926-a72f-d1a92864f49f');\n",
              "          const dataTable =\n",
              "            await google.colab.kernel.invokeFunction('convertToInteractive',\n",
              "                                                     [key], {});\n",
              "          if (!dataTable) return;\n",
              "\n",
              "          const docLinkHtml = 'Like what you see? Visit the ' +\n",
              "            '<a target=\"_blank\" href=https://colab.research.google.com/notebooks/data_table.ipynb>data table notebook</a>'\n",
              "            + ' to learn more about interactive tables.';\n",
              "          element.innerHTML = '';\n",
              "          dataTable['output_type'] = 'display_data';\n",
              "          await google.colab.output.renderOutput(dataTable, element);\n",
              "          const docLink = document.createElement('div');\n",
              "          docLink.innerHTML = docLinkHtml;\n",
              "          element.appendChild(docLink);\n",
              "        }\n",
              "      </script>\n",
              "    </div>\n",
              "  </div>\n",
              "  "
            ]
          },
          "metadata": {},
          "execution_count": 16
        }
      ]
    },
    {
      "cell_type": "code",
      "metadata": {
        "id": "Lxw2LacwTIVR",
        "colab": {
          "base_uri": "https://localhost:8080/",
          "height": 300
        },
        "outputId": "15cfd2b8-eff9-4bee-a90b-389c9edd52dc"
      },
      "source": [
        "#Observamos los valores de las variables con describe() de Pandas.\n",
        "iris.describe()"
      ],
      "execution_count": 17,
      "outputs": [
        {
          "output_type": "execute_result",
          "data": {
            "text/plain": [
              "       Sepal.Length  Sepal.Width  Petal.Length  Petal.Width\n",
              "count    150.000000   150.000000    150.000000   150.000000\n",
              "mean       5.843333     3.057333      3.758000     1.199333\n",
              "std        0.828066     0.435866      1.765298     0.762238\n",
              "min        4.300000     2.000000      1.000000     0.100000\n",
              "25%        5.100000     2.800000      1.600000     0.300000\n",
              "50%        5.800000     3.000000      4.350000     1.300000\n",
              "75%        6.400000     3.300000      5.100000     1.800000\n",
              "max        7.900000     4.400000      6.900000     2.500000"
            ],
            "text/html": [
              "\n",
              "  <div id=\"df-03e51935-1992-4657-83db-eceaaf617992\">\n",
              "    <div class=\"colab-df-container\">\n",
              "      <div>\n",
              "<style scoped>\n",
              "    .dataframe tbody tr th:only-of-type {\n",
              "        vertical-align: middle;\n",
              "    }\n",
              "\n",
              "    .dataframe tbody tr th {\n",
              "        vertical-align: top;\n",
              "    }\n",
              "\n",
              "    .dataframe thead th {\n",
              "        text-align: right;\n",
              "    }\n",
              "</style>\n",
              "<table border=\"1\" class=\"dataframe\">\n",
              "  <thead>\n",
              "    <tr style=\"text-align: right;\">\n",
              "      <th></th>\n",
              "      <th>Sepal.Length</th>\n",
              "      <th>Sepal.Width</th>\n",
              "      <th>Petal.Length</th>\n",
              "      <th>Petal.Width</th>\n",
              "    </tr>\n",
              "  </thead>\n",
              "  <tbody>\n",
              "    <tr>\n",
              "      <th>count</th>\n",
              "      <td>150.000000</td>\n",
              "      <td>150.000000</td>\n",
              "      <td>150.000000</td>\n",
              "      <td>150.000000</td>\n",
              "    </tr>\n",
              "    <tr>\n",
              "      <th>mean</th>\n",
              "      <td>5.843333</td>\n",
              "      <td>3.057333</td>\n",
              "      <td>3.758000</td>\n",
              "      <td>1.199333</td>\n",
              "    </tr>\n",
              "    <tr>\n",
              "      <th>std</th>\n",
              "      <td>0.828066</td>\n",
              "      <td>0.435866</td>\n",
              "      <td>1.765298</td>\n",
              "      <td>0.762238</td>\n",
              "    </tr>\n",
              "    <tr>\n",
              "      <th>min</th>\n",
              "      <td>4.300000</td>\n",
              "      <td>2.000000</td>\n",
              "      <td>1.000000</td>\n",
              "      <td>0.100000</td>\n",
              "    </tr>\n",
              "    <tr>\n",
              "      <th>25%</th>\n",
              "      <td>5.100000</td>\n",
              "      <td>2.800000</td>\n",
              "      <td>1.600000</td>\n",
              "      <td>0.300000</td>\n",
              "    </tr>\n",
              "    <tr>\n",
              "      <th>50%</th>\n",
              "      <td>5.800000</td>\n",
              "      <td>3.000000</td>\n",
              "      <td>4.350000</td>\n",
              "      <td>1.300000</td>\n",
              "    </tr>\n",
              "    <tr>\n",
              "      <th>75%</th>\n",
              "      <td>6.400000</td>\n",
              "      <td>3.300000</td>\n",
              "      <td>5.100000</td>\n",
              "      <td>1.800000</td>\n",
              "    </tr>\n",
              "    <tr>\n",
              "      <th>max</th>\n",
              "      <td>7.900000</td>\n",
              "      <td>4.400000</td>\n",
              "      <td>6.900000</td>\n",
              "      <td>2.500000</td>\n",
              "    </tr>\n",
              "  </tbody>\n",
              "</table>\n",
              "</div>\n",
              "      <button class=\"colab-df-convert\" onclick=\"convertToInteractive('df-03e51935-1992-4657-83db-eceaaf617992')\"\n",
              "              title=\"Convert this dataframe to an interactive table.\"\n",
              "              style=\"display:none;\">\n",
              "        \n",
              "  <svg xmlns=\"http://www.w3.org/2000/svg\" height=\"24px\"viewBox=\"0 0 24 24\"\n",
              "       width=\"24px\">\n",
              "    <path d=\"M0 0h24v24H0V0z\" fill=\"none\"/>\n",
              "    <path d=\"M18.56 5.44l.94 2.06.94-2.06 2.06-.94-2.06-.94-.94-2.06-.94 2.06-2.06.94zm-11 1L8.5 8.5l.94-2.06 2.06-.94-2.06-.94L8.5 2.5l-.94 2.06-2.06.94zm10 10l.94 2.06.94-2.06 2.06-.94-2.06-.94-.94-2.06-.94 2.06-2.06.94z\"/><path d=\"M17.41 7.96l-1.37-1.37c-.4-.4-.92-.59-1.43-.59-.52 0-1.04.2-1.43.59L10.3 9.45l-7.72 7.72c-.78.78-.78 2.05 0 2.83L4 21.41c.39.39.9.59 1.41.59.51 0 1.02-.2 1.41-.59l7.78-7.78 2.81-2.81c.8-.78.8-2.07 0-2.86zM5.41 20L4 18.59l7.72-7.72 1.47 1.35L5.41 20z\"/>\n",
              "  </svg>\n",
              "      </button>\n",
              "      \n",
              "  <style>\n",
              "    .colab-df-container {\n",
              "      display:flex;\n",
              "      flex-wrap:wrap;\n",
              "      gap: 12px;\n",
              "    }\n",
              "\n",
              "    .colab-df-convert {\n",
              "      background-color: #E8F0FE;\n",
              "      border: none;\n",
              "      border-radius: 50%;\n",
              "      cursor: pointer;\n",
              "      display: none;\n",
              "      fill: #1967D2;\n",
              "      height: 32px;\n",
              "      padding: 0 0 0 0;\n",
              "      width: 32px;\n",
              "    }\n",
              "\n",
              "    .colab-df-convert:hover {\n",
              "      background-color: #E2EBFA;\n",
              "      box-shadow: 0px 1px 2px rgba(60, 64, 67, 0.3), 0px 1px 3px 1px rgba(60, 64, 67, 0.15);\n",
              "      fill: #174EA6;\n",
              "    }\n",
              "\n",
              "    [theme=dark] .colab-df-convert {\n",
              "      background-color: #3B4455;\n",
              "      fill: #D2E3FC;\n",
              "    }\n",
              "\n",
              "    [theme=dark] .colab-df-convert:hover {\n",
              "      background-color: #434B5C;\n",
              "      box-shadow: 0px 1px 3px 1px rgba(0, 0, 0, 0.15);\n",
              "      filter: drop-shadow(0px 1px 2px rgba(0, 0, 0, 0.3));\n",
              "      fill: #FFFFFF;\n",
              "    }\n",
              "  </style>\n",
              "\n",
              "      <script>\n",
              "        const buttonEl =\n",
              "          document.querySelector('#df-03e51935-1992-4657-83db-eceaaf617992 button.colab-df-convert');\n",
              "        buttonEl.style.display =\n",
              "          google.colab.kernel.accessAllowed ? 'block' : 'none';\n",
              "\n",
              "        async function convertToInteractive(key) {\n",
              "          const element = document.querySelector('#df-03e51935-1992-4657-83db-eceaaf617992');\n",
              "          const dataTable =\n",
              "            await google.colab.kernel.invokeFunction('convertToInteractive',\n",
              "                                                     [key], {});\n",
              "          if (!dataTable) return;\n",
              "\n",
              "          const docLinkHtml = 'Like what you see? Visit the ' +\n",
              "            '<a target=\"_blank\" href=https://colab.research.google.com/notebooks/data_table.ipynb>data table notebook</a>'\n",
              "            + ' to learn more about interactive tables.';\n",
              "          element.innerHTML = '';\n",
              "          dataTable['output_type'] = 'display_data';\n",
              "          await google.colab.output.renderOutput(dataTable, element);\n",
              "          const docLink = document.createElement('div');\n",
              "          docLink.innerHTML = docLinkHtml;\n",
              "          element.appendChild(docLink);\n",
              "        }\n",
              "      </script>\n",
              "    </div>\n",
              "  </div>\n",
              "  "
            ]
          },
          "metadata": {},
          "execution_count": 17
        }
      ]
    },
    {
      "cell_type": "code",
      "metadata": {
        "id": "dwuKL66cTIVS",
        "colab": {
          "base_uri": "https://localhost:8080/"
        },
        "outputId": "9c57a289-182f-4a66-9bb8-c71686a4de95"
      },
      "source": [
        "#Podemos separar el análisis de las vbles. categóricas\n",
        "iris['Species'].describe()"
      ],
      "execution_count": 18,
      "outputs": [
        {
          "output_type": "execute_result",
          "data": {
            "text/plain": [
              "count        150\n",
              "unique         3\n",
              "top       setosa\n",
              "freq          50\n",
              "Name: Species, dtype: object"
            ]
          },
          "metadata": {},
          "execution_count": 18
        }
      ]
    },
    {
      "cell_type": "code",
      "metadata": {
        "id": "9I9h4XwJTIVT",
        "colab": {
          "base_uri": "https://localhost:8080/",
          "height": 175
        },
        "outputId": "9511f275-bee7-46c5-8dbb-9a6dae092ca8"
      },
      "source": [
        "#Otra forma\n",
        "iris.describe(include='object')"
      ],
      "execution_count": 19,
      "outputs": [
        {
          "output_type": "execute_result",
          "data": {
            "text/plain": [
              "       Species\n",
              "count      150\n",
              "unique       3\n",
              "top     setosa\n",
              "freq        50"
            ],
            "text/html": [
              "\n",
              "  <div id=\"df-f60493b7-ba2d-4976-82af-e2c28d5907e0\">\n",
              "    <div class=\"colab-df-container\">\n",
              "      <div>\n",
              "<style scoped>\n",
              "    .dataframe tbody tr th:only-of-type {\n",
              "        vertical-align: middle;\n",
              "    }\n",
              "\n",
              "    .dataframe tbody tr th {\n",
              "        vertical-align: top;\n",
              "    }\n",
              "\n",
              "    .dataframe thead th {\n",
              "        text-align: right;\n",
              "    }\n",
              "</style>\n",
              "<table border=\"1\" class=\"dataframe\">\n",
              "  <thead>\n",
              "    <tr style=\"text-align: right;\">\n",
              "      <th></th>\n",
              "      <th>Species</th>\n",
              "    </tr>\n",
              "  </thead>\n",
              "  <tbody>\n",
              "    <tr>\n",
              "      <th>count</th>\n",
              "      <td>150</td>\n",
              "    </tr>\n",
              "    <tr>\n",
              "      <th>unique</th>\n",
              "      <td>3</td>\n",
              "    </tr>\n",
              "    <tr>\n",
              "      <th>top</th>\n",
              "      <td>setosa</td>\n",
              "    </tr>\n",
              "    <tr>\n",
              "      <th>freq</th>\n",
              "      <td>50</td>\n",
              "    </tr>\n",
              "  </tbody>\n",
              "</table>\n",
              "</div>\n",
              "      <button class=\"colab-df-convert\" onclick=\"convertToInteractive('df-f60493b7-ba2d-4976-82af-e2c28d5907e0')\"\n",
              "              title=\"Convert this dataframe to an interactive table.\"\n",
              "              style=\"display:none;\">\n",
              "        \n",
              "  <svg xmlns=\"http://www.w3.org/2000/svg\" height=\"24px\"viewBox=\"0 0 24 24\"\n",
              "       width=\"24px\">\n",
              "    <path d=\"M0 0h24v24H0V0z\" fill=\"none\"/>\n",
              "    <path d=\"M18.56 5.44l.94 2.06.94-2.06 2.06-.94-2.06-.94-.94-2.06-.94 2.06-2.06.94zm-11 1L8.5 8.5l.94-2.06 2.06-.94-2.06-.94L8.5 2.5l-.94 2.06-2.06.94zm10 10l.94 2.06.94-2.06 2.06-.94-2.06-.94-.94-2.06-.94 2.06-2.06.94z\"/><path d=\"M17.41 7.96l-1.37-1.37c-.4-.4-.92-.59-1.43-.59-.52 0-1.04.2-1.43.59L10.3 9.45l-7.72 7.72c-.78.78-.78 2.05 0 2.83L4 21.41c.39.39.9.59 1.41.59.51 0 1.02-.2 1.41-.59l7.78-7.78 2.81-2.81c.8-.78.8-2.07 0-2.86zM5.41 20L4 18.59l7.72-7.72 1.47 1.35L5.41 20z\"/>\n",
              "  </svg>\n",
              "      </button>\n",
              "      \n",
              "  <style>\n",
              "    .colab-df-container {\n",
              "      display:flex;\n",
              "      flex-wrap:wrap;\n",
              "      gap: 12px;\n",
              "    }\n",
              "\n",
              "    .colab-df-convert {\n",
              "      background-color: #E8F0FE;\n",
              "      border: none;\n",
              "      border-radius: 50%;\n",
              "      cursor: pointer;\n",
              "      display: none;\n",
              "      fill: #1967D2;\n",
              "      height: 32px;\n",
              "      padding: 0 0 0 0;\n",
              "      width: 32px;\n",
              "    }\n",
              "\n",
              "    .colab-df-convert:hover {\n",
              "      background-color: #E2EBFA;\n",
              "      box-shadow: 0px 1px 2px rgba(60, 64, 67, 0.3), 0px 1px 3px 1px rgba(60, 64, 67, 0.15);\n",
              "      fill: #174EA6;\n",
              "    }\n",
              "\n",
              "    [theme=dark] .colab-df-convert {\n",
              "      background-color: #3B4455;\n",
              "      fill: #D2E3FC;\n",
              "    }\n",
              "\n",
              "    [theme=dark] .colab-df-convert:hover {\n",
              "      background-color: #434B5C;\n",
              "      box-shadow: 0px 1px 3px 1px rgba(0, 0, 0, 0.15);\n",
              "      filter: drop-shadow(0px 1px 2px rgba(0, 0, 0, 0.3));\n",
              "      fill: #FFFFFF;\n",
              "    }\n",
              "  </style>\n",
              "\n",
              "      <script>\n",
              "        const buttonEl =\n",
              "          document.querySelector('#df-f60493b7-ba2d-4976-82af-e2c28d5907e0 button.colab-df-convert');\n",
              "        buttonEl.style.display =\n",
              "          google.colab.kernel.accessAllowed ? 'block' : 'none';\n",
              "\n",
              "        async function convertToInteractive(key) {\n",
              "          const element = document.querySelector('#df-f60493b7-ba2d-4976-82af-e2c28d5907e0');\n",
              "          const dataTable =\n",
              "            await google.colab.kernel.invokeFunction('convertToInteractive',\n",
              "                                                     [key], {});\n",
              "          if (!dataTable) return;\n",
              "\n",
              "          const docLinkHtml = 'Like what you see? Visit the ' +\n",
              "            '<a target=\"_blank\" href=https://colab.research.google.com/notebooks/data_table.ipynb>data table notebook</a>'\n",
              "            + ' to learn more about interactive tables.';\n",
              "          element.innerHTML = '';\n",
              "          dataTable['output_type'] = 'display_data';\n",
              "          await google.colab.output.renderOutput(dataTable, element);\n",
              "          const docLink = document.createElement('div');\n",
              "          docLink.innerHTML = docLinkHtml;\n",
              "          element.appendChild(docLink);\n",
              "        }\n",
              "      </script>\n",
              "    </div>\n",
              "  </div>\n",
              "  "
            ]
          },
          "metadata": {},
          "execution_count": 19
        }
      ]
    },
    {
      "cell_type": "markdown",
      "metadata": {
        "id": "Nep5iV3cTIVT"
      },
      "source": [
        "Para mostrar la distribución de las especies dentro de nuestro dataset podemos usar el __Pie Chart__.\n",
        "En matplotlib <a href=\"https://matplotlib.org/stable/api/_as_gen/matplotlib.pyplot.pie.html\">pie</a> requiere que indiquemos la cantidad de valores por categoría (¿Podríamos obtener esas cantidades dinámicamente?). <br>\n",
        "Además tenemos que indicar el parámetro __colors__ y el parámetro __labels__. <br>\n",
        "Otros parámetros: explode, autopct, shadow"
      ]
    },
    {
      "cell_type": "code",
      "metadata": {
        "id": "W3eHFE2kTIVU",
        "colab": {
          "base_uri": "https://localhost:8080/",
          "height": 248
        },
        "outputId": "fc083c75-457a-4fb0-8764-101c8286b1e2"
      },
      "source": [
        "x=[30,20,10,40]\n",
        "plt.pie(x)\n",
        "plt.show()"
      ],
      "execution_count": 20,
      "outputs": [
        {
          "output_type": "display_data",
          "data": {
            "text/plain": [
              "<Figure size 432x288 with 1 Axes>"
            ],
            "image/png": "[encoded data removed]"
          },
          "metadata": {}
        }
      ]
    },
    {
      "cell_type": "code",
      "metadata": {
        "id": "x0aqhlGhTIVU",
        "colab": {
          "base_uri": "https://localhost:8080/"
        },
        "outputId": "37c335c3-797a-4b05-c45f-34a3dc836979"
      },
      "source": [
        "iris.groupby(['Species']).size()"
      ],
      "execution_count": 21,
      "outputs": [
        {
          "output_type": "execute_result",
          "data": {
            "text/plain": [
              "Species\n",
              "setosa        50\n",
              "versicolor    50\n",
              "virginica     50\n",
              "dtype: int64"
            ]
          },
          "metadata": {},
          "execution_count": 21
        }
      ]
    },
    {
      "cell_type": "code",
      "source": [
        "d=dict(iris.groupby(['Species']).size())\n",
        "d.values()"
      ],
      "metadata": {
        "colab": {
          "base_uri": "https://localhost:8080/"
        },
        "id": "FhDoOlCrRJTM",
        "outputId": "601e10fe-8da4-4ada-87bd-66ac6b0c0785"
      },
      "execution_count": 23,
      "outputs": [
        {
          "output_type": "execute_result",
          "data": {
            "text/plain": [
              "dict_values([50, 50, 50])"
            ]
          },
          "metadata": {},
          "execution_count": 23
        }
      ]
    },
    {
      "cell_type": "code",
      "metadata": {
        "id": "ufVMdfefTIVU",
        "colab": {
          "base_uri": "https://localhost:8080/",
          "height": 248
        },
        "outputId": "f14e60a0-1322-4946-c8bd-0c2992bfe301"
      },
      "source": [
        "d=dict(iris.groupby(['Species']).size())\n",
        "x=d.values()\n",
        "l=d.keys()\n",
        "colors = ['red', 'blue', 'lime']\n",
        "#ex=[0,0,0]\n",
        "ex=[0,0.2,0]\n",
        "plt.pie(x,colors=colors,labels=l,autopct='%1.1f%%',explode=ex,shadow=True)\n",
        "plt.show()"
      ],
      "execution_count": 25,
      "outputs": [
        {
          "output_type": "display_data",
          "data": {
            "text/plain": [
              "<Figure size 432x288 with 1 Axes>"
            ],
            "image/png": "[encoded data removed]"
          },
          "metadata": {}
        }
      ]
    },
    {
      "cell_type": "markdown",
      "metadata": {
        "id": "rodXMwRM3lon"
      },
      "source": [
        "### Ejercicio\n",
        "Hacer el histograma de Sepal.Width con color de barras rojo, espaciadas en 0.7, bins de sturges."
      ]
    },
    {
      "cell_type": "code",
      "metadata": {
        "id": "S4GTEaMqTIVU",
        "colab": {
          "base_uri": "https://localhost:8080/",
          "height": 312
        },
        "outputId": "5c8cd166-4905-40f2-e277-5d1dbd4e9ef5"
      },
      "source": [
        "#Hacemos el histograma de Sepal.Width\n",
        "#Cambiamos el color de las barras: color. Espaciamos las barras: rwidth\n",
        "#Ponemos grid en el fondo\n",
        "\n",
        "plt.title('Histograma de Sepal.Width')\n",
        "plt.xlabel('Eje x: Intervalos')\n",
        "plt.ylabel('Eje y: Valores para cada intervalo')\n",
        "plt.grid(axis='y') \n",
        "plt.yscale('linear')\n",
        "plt.hist(iris['Sepal.Width'],color='r',rwidth=0.7) #<---\n",
        "plt.legend()\n",
        "plt.show()"
      ],
      "execution_count": 27,
      "outputs": [
        {
          "output_type": "stream",
          "name": "stderr",
          "text": [
            "No handles with labels found to put in legend.\n"
          ]
        },
        {
          "output_type": "display_data",
          "data": {
            "text/plain": [
              "<Figure size 432x288 with 1 Axes>"
            ],
            "image/png": "[encoded data removed]"
          },
          "metadata": {
            "needs_background": "light"
          }
        }
      ]
    },
    {
      "cell_type": "code",
      "metadata": {
        "id": "8crP9C5ETIVU",
        "colab": {
          "base_uri": "https://localhost:8080/",
          "height": 265
        },
        "outputId": "99e25b4f-667b-48a6-b6ca-7493ef6180bf"
      },
      "source": [
        "#Ponemos más de una variable y las apilamos. stacked=True\n",
        "plt.hist([iris['Sepal.Length'],iris['Petal.Length']],rwidth=0.7,stacked=True)\n",
        "\n",
        "plt.show()"
      ],
      "execution_count": 28,
      "outputs": [
        {
          "output_type": "display_data",
          "data": {
            "text/plain": [
              "<Figure size 432x288 with 1 Axes>"
            ],
            "image/png": "[encoded data removed]"
          },
          "metadata": {
            "needs_background": "light"
          }
        }
      ]
    },
    {
      "cell_type": "markdown",
      "metadata": {
        "id": "WJYEJBCJ7PIH"
      },
      "source": [
        "Mostramos cada variable en su propio histograma. Para ello, declaramos dos figuras en un espacio tipo grilla, de 1 fila por 2 columnas."
      ]
    },
    {
      "cell_type": "code",
      "metadata": {
        "id": "_GIpySpZTIVV",
        "colab": {
          "base_uri": "https://localhost:8080/",
          "height": 259
        },
        "outputId": "8c49b802-7d92-4a8e-f605-2c0e49a6b2d1"
      },
      "source": [
        "#Primer histograma\n",
        "plt.subplot(1,2,1)\n",
        "plt.hist(iris['Sepal.Length'],rwidth=0.7, label='Sepal.Length')\n",
        "plt.title('Histograma de Sepal.Length')\n",
        "plt.xlabel('Eje x: Intervalos')\n",
        "plt.ylabel('Eje y: Valores para cada intervalo')\n",
        "plt.grid(axis='y') \n",
        "plt.yscale('linear')\n",
        "plt.legend()\n",
        "#Segundo histograma\n",
        "plt.subplot(1,2,2)\n",
        "plt.hist(iris['Petal.Length'],rwidth=0.7, label='Petal.Length')\n",
        "plt.title('Histograma de Petal.Length')\n",
        "plt.xlabel('Eje x: Intervalos')\n",
        "plt.ylabel('Eje y: Valores para cada intervalo')\n",
        "plt.grid(axis='y') \n",
        "plt.yscale('linear')\n",
        "plt.legend()\n",
        "#<--posición del segundo dibujo\n",
        "#<--llamamos a hist\n",
        "#<--Colocamos el título\n",
        "#<--ponemos la etiqueta del eje x\n",
        "#<--ponemos la etiqueta del eje y\n",
        "#<--que aparezcan los ticks de y\n",
        "#<--damos visibilidad a la leyenda\n",
        "\n",
        "plt.tight_layout(3)"
      ],
      "execution_count": 31,
      "outputs": [
        {
          "output_type": "display_data",
          "data": {
            "text/plain": [
              "<Figure size 432x288 with 2 Axes>"
            ],
            "image/png": "[encoded data removed]"
          },
          "metadata": {
            "needs_background": "light"
          }
        }
      ]
    },
    {
      "cell_type": "markdown",
      "metadata": {
        "id": "JKOi9yQATIVV"
      },
      "source": [
        "Estamos repitiendo las mismas líneas de código. Para evitar esto podemos modularizar el código en una __función__.<br>\n",
        "En Python las funciones se declaran usando la palabra reservada __def__ luego el __nombre__ de la función, luego paréntesis con el listado de los parámetros, y por último __dos puntos :__<br>\n",
        "El código dentro de la función necesita un tab respecto del márgen.<br>\n",
        "Opcionalmente podemos devolver uno o más valores con la clausula __return__"
      ]
    },
    {
      "cell_type": "code",
      "metadata": {
        "id": "Akqn2ANdTIVV"
      },
      "source": [
        "def hola(a,b=None):\n",
        "    return a"
      ],
      "execution_count": 36,
      "outputs": []
    },
    {
      "cell_type": "markdown",
      "metadata": {
        "id": "1b33-WNTTIVV"
      },
      "source": [
        "Para invocar las funciones simplemente escribimos su nombre junto con los parámetros actuales."
      ]
    },
    {
      "cell_type": "code",
      "metadata": {
        "id": "VMbjQGB6TIVV",
        "colab": {
          "base_uri": "https://localhost:8080/",
          "height": 35
        },
        "outputId": "b15786f5-d1e5-41db-c257-c8a37709928f"
      },
      "source": [
        "hola('nada')"
      ],
      "execution_count": 39,
      "outputs": [
        {
          "output_type": "execute_result",
          "data": {
            "text/plain": [
              "'nada'"
            ],
            "application/vnd.google.colaboratory.intrinsic+json": {
              "type": "string"
            }
          },
          "metadata": {},
          "execution_count": 39
        }
      ]
    },
    {
      "cell_type": "code",
      "metadata": {
        "id": "H1wp41OKTIVV"
      },
      "source": [
        "#Analizamos el código que se repite para modularizar\n",
        "#Creamos una función con ese código\n",
        "#La función se declara con def. Tiene el nombre \"graficar\" y le pasamos parámetros\n",
        "#fila: es la cantidad de filas de la figura\n",
        "#col:es la cantidad de columnas de la figura\n",
        "#pos:la posición en la grilla anterior en la que va ubicada nuestro plot\n",
        "#datos:la variable con sus datos \n",
        "#nombre:el nombre de la variable\n",
        "#color:color de las barras. optativo\n",
        "def graficar(fila,col,pos,datos,nombre,color=None):\n",
        "    plt.subplot(fila,col,pos)\n",
        "    plt.hist(datos,rwidth=0.7,color=color)\n",
        "    plt.title(nombre)\n",
        "    plt.xlabel('Eje x')\n",
        "    plt.ylabel('Eje y')\n",
        "    plt.grid(axis='y') \n",
        "    plt.yscale('linear')\n",
        "\n"
      ],
      "execution_count": 40,
      "outputs": []
    },
    {
      "cell_type": "code",
      "metadata": {
        "id": "whVPPowITIVW",
        "colab": {
          "base_uri": "https://localhost:8080/"
        },
        "outputId": "a1e9bd8f-ae20-44dd-b191-08ee37759009"
      },
      "source": [
        "#observar cómo obtener los nombres de las variables en Pandas\n",
        "iris.columns"
      ],
      "execution_count": 41,
      "outputs": [
        {
          "output_type": "execute_result",
          "data": {
            "text/plain": [
              "Index(['Sepal.Length', 'Sepal.Width', 'Petal.Length', 'Petal.Width',\n",
              "       'Species'],\n",
              "      dtype='object')"
            ]
          },
          "metadata": {},
          "execution_count": 41
        }
      ]
    },
    {
      "cell_type": "code",
      "metadata": {
        "id": "an-9aY3kTIVW",
        "colab": {
          "base_uri": "https://localhost:8080/",
          "height": 295
        },
        "outputId": "2eea69ec-c8db-4cb1-a50f-7e7f24bc5971"
      },
      "source": [
        "graficar(1,2,1,iris[iris.columns[1]],iris.columns[1])"
      ],
      "execution_count": 42,
      "outputs": [
        {
          "output_type": "display_data",
          "data": {
            "text/plain": [
              "<Figure size 432x288 with 1 Axes>"
            ],
            "image/png": "[encoded data removed]"
          },
          "metadata": {
            "needs_background": "light"
          }
        }
      ]
    },
    {
      "cell_type": "code",
      "metadata": {
        "id": "3MajNgb3TIVW",
        "colab": {
          "base_uri": "https://localhost:8080/",
          "height": 329
        },
        "outputId": "950039b8-42b7-4279-8d32-2442238d9190"
      },
      "source": [
        "#Llamamos la función graficar cuatro veces con cada columna numérica del dataset y ponemos un título único\n",
        "fig=plt.figure(figsize=(10, 4), dpi= 80)\n",
        "\n",
        "for i in range(0,4):#<- crear un ciclo que llame a la función graficar \n",
        "    graficar(1,4,i+1,iris[iris.columns[i]],iris.columns[i])#<-llamar a la función\n",
        "plt.tight_layout()\n"
      ],
      "execution_count": 43,
      "outputs": [
        {
          "output_type": "display_data",
          "data": {
            "text/plain": [
              "<Figure size 800x320 with 4 Axes>"
            ],
            "image/png": "[encoded data removed]"
          },
          "metadata": {
            "needs_background": "light"
          }
        }
      ]
    },
    {
      "cell_type": "markdown",
      "source": [
        "Vamos a darle un color diferente a cada uno. Creamos una lista \"colores\" con cuatro valores de colores.\n",
        "\n",
        "Si es necesario, podemos ampliar el espacio de dibujo con:\n",
        "<code>fig=plt.figure(figsize=(10, 4), dpi= 80)</code>"
      ],
      "metadata": {
        "id": "QX9Ytyl6POX2"
      }
    },
    {
      "cell_type": "code",
      "metadata": {
        "id": "H04TEhvOTIVW",
        "colab": {
          "base_uri": "https://localhost:8080/",
          "height": 334
        },
        "outputId": "983a865b-a2ab-401c-9ae2-9d2bd7eea002"
      },
      "source": [
        "colores=['m','g','b','y']\n",
        "fig=plt.figure(figsize=(10, 4), dpi= 80)\n",
        "for i in range(0,4):\n",
        "  graficar(1,4,i+1,iris[iris.columns[i]],iris.columns[i],colores[i])\n",
        "    #<--Llamar a la función creada\n",
        "    \n",
        "plt.tight_layout()\n",
        "plt.suptitle('Histogramas')\n",
        "plt.show()"
      ],
      "execution_count": 44,
      "outputs": [
        {
          "output_type": "display_data",
          "data": {
            "text/plain": [
              "<Figure size 800x320 with 4 Axes>"
            ],
            "image/png": "[encoded data removed]"
          },
          "metadata": {
            "needs_background": "light"
          }
        }
      ]
    },
    {
      "cell_type": "code",
      "metadata": {
        "id": "dcfJ64eBTIVW"
      },
      "source": [
        "#Crear una función que dibuje cada boxplot que reciba como parámetro la cantidad de filas, columnas\n",
        "#la posición, los datos y el color\n",
        "def graficabp(f,c,pos,datos,cartel,col=None):\n",
        "    plt.subplot(f,c,pos)\n",
        "    plt.grid(True)\n",
        "    plt.title(cartel)\n",
        "    plt.boxplot(datos)"
      ],
      "execution_count": 45,
      "outputs": []
    },
    {
      "cell_type": "code",
      "metadata": {
        "id": "Gj6kgcbMTIVX",
        "colab": {
          "base_uri": "https://localhost:8080/",
          "height": 329
        },
        "outputId": "1855df90-b724-4c46-c852-00708d02a420"
      },
      "source": [
        "fig=plt.figure(figsize=(10, 4), dpi= 80)\n",
        "for i in range(0,4):\n",
        "    graficabp(1,4,i+1,iris[iris.columns[i]],iris.columns[i])\n",
        "plt.tight_layout()"
      ],
      "execution_count": 47,
      "outputs": [
        {
          "output_type": "display_data",
          "data": {
            "text/plain": [
              "<Figure size 800x320 with 4 Axes>"
            ],
            "image/png": "[encoded data removed]"
          },
          "metadata": {
            "needs_background": "light"
          }
        }
      ]
    },
    {
      "cell_type": "code",
      "metadata": {
        "id": "cMP1zChvTIVX",
        "colab": {
          "base_uri": "https://localhost:8080/",
          "height": 611
        },
        "outputId": "f29354cd-9bdd-4b53-fc51-adcf017dce82"
      },
      "source": [
        "#Graficamos los histogramas y los boxplots de las cuatro variables numéricas de iris\n",
        "fig=plt.figure(figsize=(12, 8), dpi= 80)\n",
        "plt.subplots_adjust(left=0.05, bottom=0.05, right=0.9, top=0.9,wspace=0.5,hspace=0.3)\n",
        "for i in range(0,4):\n",
        "    graficar(2,4,i+1,iris[iris.columns[i]],iris.columns[i],colores[i])\n",
        "    graficabp(2,4,i+5,iris[iris.columns[i]],iris.columns[i])\n",
        "#plt.tight_layout()\n"
      ],
      "execution_count": 48,
      "outputs": [
        {
          "output_type": "display_data",
          "data": {
            "text/plain": [
              "<Figure size 960x640 with 8 Axes>"
            ],
            "image/png": "[encoded data removed]"
          },
          "metadata": {
            "needs_background": "light"
          }
        }
      ]
    },
    {
      "cell_type": "code",
      "metadata": {
        "id": "yog2FfchTIVX",
        "colab": {
          "base_uri": "https://localhost:8080/",
          "height": 282
        },
        "outputId": "6a1fbc0c-d8dd-4b74-e9af-fbcdf8633595"
      },
      "source": [
        "#Crear los boxplots de las variables numéricas de iris todos en una misma figura\n",
        "plt.grid(True)\n",
        "#plt.yticks([])\n",
        "plt.boxplot([iris['Sepal.Length'],iris['Sepal.Width'],iris['Petal.Length'],iris['Petal.Width']])\n",
        "print(\"Boxplot\")"
      ],
      "execution_count": 49,
      "outputs": [
        {
          "output_type": "stream",
          "name": "stdout",
          "text": [
            "Boxplot\n"
          ]
        },
        {
          "output_type": "display_data",
          "data": {
            "text/plain": [
              "<Figure size 432x288 with 1 Axes>"
            ],
            "image/png": "[encoded data removed]"
          },
          "metadata": {
            "needs_background": "light"
          }
        }
      ]
    }
  ]
}