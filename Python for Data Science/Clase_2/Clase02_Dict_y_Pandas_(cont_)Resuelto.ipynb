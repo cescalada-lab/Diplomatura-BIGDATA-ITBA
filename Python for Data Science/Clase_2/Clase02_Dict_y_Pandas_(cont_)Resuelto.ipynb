{
  "cells": [
    {
      "cell_type": "markdown",
      "metadata": {
        "id": "2s_Z5Q8EIhq8"
      },
      "source": [
        "## Clase 02\n",
        "- Tipo de dato __dict__\n",
        "- Pandas __group by__\n",
        "- Cambios en los tipos de datos de las columnas:categórico(ordinal o no ordinal) a numérico, date a numérico\n",
        "\n",
        "Al aplicar algoritmos de ML, es muy importante analizar los datos y prepararlos adecuadamente. A veces, algunos algoritmos, requieren que todas nuestras variables sean numéricas. Otros, admiten variables categóricas. \n",
        "Muchas veces tenemos que preprocesar texto o fechas y extraer información de ellas."
      ]
    },
    {
      "cell_type": "markdown",
      "metadata": {
        "id": "sUfSHrolIhrD"
      },
      "source": [
        "#### Empezamos con un nuevo tipo de dato\n",
        "El tipo de datos __dictionary__ es muy utilizado especialmente por su parecido con JSON.<br>\n",
        "Esta formado por pares __key:value__ encerrados entre {}. Este tipo de dato se puede asignar a una variable como \"persona\" en este caso.<br>\n",
        "Creamos persona con nombre='Ana', de 30 años y soltera.<br>"
      ]
    },
    {
      "cell_type": "code",
      "execution_count": 1,
      "metadata": {
        "colab": {
          "base_uri": "https://localhost:8080/"
        },
        "id": "o5lhkgk2IhrF",
        "outputId": "baed5556-721a-44c0-8a32-4d0f0a91f93c"
      },
      "outputs": [
        {
          "name": "stdout",
          "output_type": "stream",
          "text": [
            "{'nombre': 'Ana', 'edad': 30, 'casado': False}\n"
          ]
        }
      ],
      "source": [
        "persona={\"nombre\" :\"Ana\",\n",
        "         \"edad\"   :30,\n",
        "         \"casado\" :False}\n",
        "#Cómo se puede observar cada par está separado por coma. Los datos del valor pueden \n",
        "#ser String, numéricos, boolean, etc.\n",
        "print(persona)"
      ]
    },
    {
      "cell_type": "markdown",
      "metadata": {
        "id": "qR70rjdVIhrG"
      },
      "source": [
        "Para __acceder__ a cada item dentro del dict indicamos el nombre de la key entre comillas y corchetes[]"
      ]
    },
    {
      "cell_type": "code",
      "execution_count": 2,
      "metadata": {
        "colab": {
          "base_uri": "https://localhost:8080/",
          "height": 35
        },
        "id": "1dRNRsYGIhrH",
        "outputId": "425b69a8-f684-4772-b41f-9076414a9dba"
      },
      "outputs": [
        {
          "data": {
            "application/vnd.google.colaboratory.intrinsic+json": {
              "type": "string"
            },
            "text/plain": [
              "'Ana'"
            ]
          },
          "execution_count": 2,
          "metadata": {},
          "output_type": "execute_result"
        }
      ],
      "source": [
        "#Accedemos a la edad de la persona\n",
        "persona[\"nombre\"]"
      ]
    },
    {
      "cell_type": "markdown",
      "metadata": {
        "id": "BrLILtDKIhrI"
      },
      "source": [
        "Para __agregar__ otro par __key:value__ simplemente indicamos el nombre de la nueva key y el nuevo value. Si la key ya existía se va a sobreescribir el valor."
      ]
    },
    {
      "cell_type": "code",
      "execution_count": 3,
      "metadata": {
        "colab": {
          "base_uri": "https://localhost:8080/"
        },
        "id": "sxqgeAr1IhrJ",
        "outputId": "4d9061e7-6f74-4916-bfcc-ebdb24362160"
      },
      "outputs": [
        {
          "name": "stdout",
          "output_type": "stream",
          "text": [
            "{'nombre': 'Ana', 'edad': 30, 'casado': False, 'apellido': 'Miranda'}\n"
          ]
        }
      ],
      "source": [
        "persona[\"apellido\"]=\"Miranda\"\n",
        "print(persona)"
      ]
    },
    {
      "cell_type": "markdown",
      "metadata": {
        "id": "BrtdaNpfIhrK"
      },
      "source": [
        "Agregar al dict persona la entrada __ciudad:Azul__"
      ]
    },
    {
      "cell_type": "code",
      "execution_count": 4,
      "metadata": {
        "colab": {
          "base_uri": "https://localhost:8080/"
        },
        "id": "_6tUvZhAIhrL",
        "outputId": "cb1fe2a8-8109-4f71-f4e6-524e7df364dc"
      },
      "outputs": [
        {
          "data": {
            "text/plain": [
              "{'apellido': 'Miranda',\n",
              " 'casado': False,\n",
              " 'ciudad': 'Azul',\n",
              " 'edad': 30,\n",
              " 'nombre': 'Ana'}"
            ]
          },
          "execution_count": 4,
          "metadata": {},
          "output_type": "execute_result"
        }
      ],
      "source": [
        "#Agregar el par ciudad:Azul\n",
        "persona['ciudad']='Azul'\n",
        "persona"
      ]
    },
    {
      "cell_type": "markdown",
      "metadata": {
        "id": "38qOPyDuIhrM"
      },
      "source": [
        "Para copiar una variable a otra podemos asignarla directamente pero esto produce que ambas apunten al mismo espacio de memoria. Si queremos que sean independientes podemos usar la función <a href=\"https://docs.python.org/3/library/copy.html\">__copy()__</a>."
      ]
    },
    {
      "cell_type": "code",
      "execution_count": 5,
      "metadata": {
        "colab": {
          "base_uri": "https://localhost:8080/"
        },
        "id": "_9N7N3gdIhrN",
        "outputId": "e6c0c5d7-11b3-4090-9afb-428b3dc6039c"
      },
      "outputs": [
        {
          "data": {
            "text/plain": [
              "{'apellido': 'Miranda',\n",
              " 'casado': False,\n",
              " 'ciudad': 'Azul',\n",
              " 'edad': 30,\n",
              " 'nombre': 'Ana'}"
            ]
          },
          "execution_count": 5,
          "metadata": {},
          "output_type": "execute_result"
        }
      ],
      "source": [
        "pe=persona\n",
        "pe"
      ]
    },
    {
      "cell_type": "markdown",
      "metadata": {
        "id": "5laVGtCrIhrN"
      },
      "source": [
        "Para __eliminar__ un item dentro del dict usamos la función __pop()__ o el comando __del__. En ambos casos debemos indicar la key que queremos eliminar."
      ]
    },
    {
      "cell_type": "code",
      "execution_count": 6,
      "metadata": {
        "colab": {
          "base_uri": "https://localhost:8080/"
        },
        "id": "TNDYVWg_IhrO",
        "outputId": "0b98f0a5-9c73-49d1-ae9b-377f7ef81edd"
      },
      "outputs": [
        {
          "name": "stdout",
          "output_type": "stream",
          "text": [
            "{'nombre': 'Ana', 'edad': 30, 'casado': False, 'apellido': 'Miranda'}\n",
            "{'nombre': 'Ana', 'edad': 30, 'casado': False, 'apellido': 'Miranda'}\n"
          ]
        }
      ],
      "source": [
        "#borramos la ciudad de persona\n",
        "persona.pop(\"ciudad\")\n",
        "print(persona)\n",
        "print(pe)"
      ]
    },
    {
      "cell_type": "markdown",
      "metadata": {
        "id": "NNc4_jIeBD07"
      },
      "source": [
        "Observamos que tanto **pe** como **persona** perdieron el par *ciudad: Azul*.\n",
        "\n",
        "Creamos un nuevo dict **pe** y lo **copiamos** en pe1"
      ]
    },
    {
      "cell_type": "code",
      "execution_count": 7,
      "metadata": {
        "colab": {
          "base_uri": "https://localhost:8080/"
        },
        "id": "AEoDsuGdIhrO",
        "outputId": "f630f2a3-0456-4464-fa56-5881954bc738"
      },
      "outputs": [
        {
          "name": "stdout",
          "output_type": "stream",
          "text": [
            "{'nombre': 'Ana', 'edad': 30, 'casado': False}\n",
            "{'nombre': 'Ana', 'edad': 30, 'casado': False, 'ciudad': 'Azul'}\n"
          ]
        }
      ],
      "source": [
        "pe={'nombre': 'Ana', 'edad': 30, 'casado': False, 'ciudad': 'Azul'}\n",
        "pe1=pe.copy()\n",
        "pe.pop('ciudad')\n",
        "print(pe)\n",
        "print(pe1)"
      ]
    },
    {
      "cell_type": "markdown",
      "metadata": {
        "id": "rANya870IhrP"
      },
      "source": [
        "Ahora eliminamos el apellido de __persona__ usando __del__. "
      ]
    },
    {
      "cell_type": "code",
      "execution_count": 8,
      "metadata": {
        "colab": {
          "base_uri": "https://localhost:8080/"
        },
        "id": "9AJle31lIhrP",
        "outputId": "0a7cf268-9644-4f2b-e728-7ca15217bff1"
      },
      "outputs": [
        {
          "name": "stdout",
          "output_type": "stream",
          "text": [
            "{'nombre': 'Ana', 'edad': 30, 'casado': False}\n"
          ]
        }
      ],
      "source": [
        "#del\n",
        "del persona[\"apellido\"]\n",
        "print(persona)"
      ]
    },
    {
      "cell_type": "markdown",
      "metadata": {
        "id": "8K414mlBCfuX"
      },
      "source": []
    },
    {
      "cell_type": "markdown",
      "metadata": {
        "id": "0jFjN2wACUAe"
      },
      "source": [
        "Ejercicio: Crear otro dict, __persona2__ con los siguientes datos: Pablo, 28, soltero"
      ]
    },
    {
      "cell_type": "code",
      "execution_count": 10,
      "metadata": {
        "colab": {
          "base_uri": "https://localhost:8080/"
        },
        "id": "6s5nm0ScIhrP",
        "outputId": "281e69ec-28b0-4baf-9f80-385fa1d2b96b"
      },
      "outputs": [
        {
          "data": {
            "text/plain": [
              "{'casado': False, 'edad': 28, 'nombre': 'Pablo'}"
            ]
          },
          "execution_count": 10,
          "metadata": {},
          "output_type": "execute_result"
        }
      ],
      "source": [
        "#Crear persona2 con los siguientes datos: Pablo, 28,soltero\n",
        "#-->\n",
        "persona2={'nombre':'Pablo',\n",
        "          'edad':28,\n",
        "          'casado':False}\n",
        "persona2"
      ]
    },
    {
      "cell_type": "code",
      "execution_count": 11,
      "metadata": {
        "colab": {
          "base_uri": "https://localhost:8080/"
        },
        "id": "pgIcmif0IhrP",
        "outputId": "438002a2-62a8-4d25-c7fa-88e653bad943"
      },
      "outputs": [
        {
          "data": {
            "text/plain": [
              "{'casado': False,\n",
              " 'edad': 30,\n",
              " 'hermano': {'casado': False, 'edad': 28, 'nombre': 'Pablo'},\n",
              " 'nombre': 'Ana'}"
            ]
          },
          "execution_count": 11,
          "metadata": {},
          "output_type": "execute_result"
        }
      ],
      "source": [
        "#Agregar a Ana el key \"hermano\" que tenga como contenido el dict de Pablo\n",
        "persona['hermano']=persona2\n",
        "persona"
      ]
    },
    {
      "cell_type": "code",
      "execution_count": 12,
      "metadata": {
        "colab": {
          "base_uri": "https://localhost:8080/",
          "height": 35
        },
        "id": "HrNvvNqAIhrQ",
        "outputId": "724eb687-dafd-49c5-ea23-9ef5df1e8cde"
      },
      "outputs": [
        {
          "data": {
            "application/vnd.google.colaboratory.intrinsic+json": {
              "type": "string"
            },
            "text/plain": [
              "'Pablo'"
            ]
          },
          "execution_count": 12,
          "metadata": {},
          "output_type": "execute_result"
        }
      ],
      "source": [
        "#Acceder al nombre del hermano.La respuesta tiene que ser sólo Pablo, no todo el dict de Pablo\n",
        "persona['hermano']['nombre']"
      ]
    },
    {
      "cell_type": "code",
      "execution_count": 13,
      "metadata": {
        "id": "8Ti2B20JIhrQ"
      },
      "outputs": [],
      "source": [
        "#Crear persona3 con los siguientes datos: Lucia, 32, casada\n",
        "#-->\n",
        "persona3={'nombre':'Lucia',\n",
        "          'edad':32,\n",
        "          'casado':True}"
      ]
    },
    {
      "cell_type": "code",
      "execution_count": 14,
      "metadata": {
        "colab": {
          "base_uri": "https://localhost:8080/"
        },
        "id": "bt0R_fA1IhrQ",
        "outputId": "dd07d90f-6033-4408-93ba-57e050f36ba6"
      },
      "outputs": [
        {
          "data": {
            "text/plain": [
              "{'casado': False,\n",
              " 'edad': 30,\n",
              " 'hermano': {'casado': True, 'edad': 32, 'nombre': 'Lucia'},\n",
              " 'nombre': 'Ana'}"
            ]
          },
          "execution_count": 14,
          "metadata": {},
          "output_type": "execute_result"
        }
      ],
      "source": [
        "#Agregar a Lucia como otro hermano de Ana. Ejecutar y ver qué pasa\n",
        "persona['hermano']=persona3\n",
        "persona"
      ]
    },
    {
      "cell_type": "markdown",
      "metadata": {
        "id": "EL4B_72gIhrQ"
      },
      "source": [
        "El __value__ un item puede ser una lista, el tipo de dato que vimos la clase pasada.<br>\n",
        "Agregamos al dict persona la key __telefono__ con la lista de valores del los teléfonos de Ana."
      ]
    },
    {
      "cell_type": "code",
      "execution_count": 15,
      "metadata": {
        "colab": {
          "base_uri": "https://localhost:8080/"
        },
        "id": "x3wSXIxDIhrR",
        "outputId": "d24472b2-077e-4379-d100-0449147e05bb"
      },
      "outputs": [
        {
          "name": "stdout",
          "output_type": "stream",
          "text": [
            "{'nombre': 'Ana', 'edad': 30, 'casado': False, 'hermano': {'nombre': 'Lucia', 'edad': 32, 'casado': True}, 'telefono': ['111-2222', '2222-4444', '5555-6666']}\n"
          ]
        }
      ],
      "source": [
        "persona[\"telefono\"]=['111-2222','2222-4444','5555-6666']\n",
        "print(persona)"
      ]
    },
    {
      "cell_type": "code",
      "execution_count": 16,
      "metadata": {
        "colab": {
          "base_uri": "https://localhost:8080/"
        },
        "id": "xebzVel7IhrR",
        "outputId": "094e0e97-0330-4994-aecd-9deb4abdbd4b"
      },
      "outputs": [
        {
          "name": "stdout",
          "output_type": "stream",
          "text": [
            "['111-2222', '2222-4444', '5555-6666']\n",
            "El primer teléfono es: 2222-4444\n"
          ]
        }
      ],
      "source": [
        "#Y lo accedemos indicando el key\n",
        "print(persona['telefono'])\n",
        "#Si solo queremos ver el primer teléfono tenemos que indicar el índice del array\n",
        "print('El primer teléfono es: '+persona['telefono'][1])"
      ]
    },
    {
      "cell_type": "code",
      "execution_count": 17,
      "metadata": {
        "colab": {
          "base_uri": "https://localhost:8080/"
        },
        "id": "Cqk3ACFRIhrR",
        "outputId": "d34eeb26-b784-46e4-8740-3de1acbe45df"
      },
      "outputs": [
        {
          "name": "stdout",
          "output_type": "stream",
          "text": [
            "Esta es la lista hnos  [{'nombre': 'Pablo', 'edad': 28, 'casado': False}, {'nombre': 'Lucia', 'edad': 32, 'casado': True}]\n"
          ]
        },
        {
          "data": {
            "text/plain": [
              "{'casado': False,\n",
              " 'edad': 30,\n",
              " 'hermano': [{'casado': False, 'edad': 28, 'nombre': 'Pablo'},\n",
              "  {'casado': True, 'edad': 32, 'nombre': 'Lucia'}],\n",
              " 'nombre': 'Ana',\n",
              " 'telefono': ['111-2222', '2222-4444', '5555-6666']}"
            ]
          },
          "execution_count": 17,
          "metadata": {},
          "output_type": "execute_result"
        }
      ],
      "source": [
        "#Los elementos de un array pueden ser dic también. Creamos la lista hnos\n",
        "hnos=[persona2,persona3]\n",
        "print('Esta es la lista hnos ',hnos)\n",
        "#Y ahora hacemos que el key hermano tenga esa lista\n",
        "persona[\"hermano\"]=hnos\n",
        "persona\n"
      ]
    },
    {
      "cell_type": "code",
      "execution_count": 18,
      "metadata": {
        "colab": {
          "base_uri": "https://localhost:8080/",
          "height": 35
        },
        "id": "Z3_qxJQ_IhrR",
        "outputId": "6cd903dc-7493-4ceb-ab3d-b7876627f97d"
      },
      "outputs": [
        {
          "data": {
            "application/vnd.google.colaboratory.intrinsic+json": {
              "type": "string"
            },
            "text/plain": [
              "'Lucia'"
            ]
          },
          "execution_count": 18,
          "metadata": {},
          "output_type": "execute_result"
        }
      ],
      "source": [
        "#Acceder al nombre de la segunda hermana de Ana (por posición)\n",
        "persona['hermano'][1]['nombre']"
      ]
    },
    {
      "cell_type": "code",
      "execution_count": 20,
      "metadata": {
        "colab": {
          "base_uri": "https://localhost:8080/"
        },
        "id": "Re7INhERIhrS",
        "outputId": "ee0ce8ec-2327-4c4b-8ddd-8ab62688bb6e"
      },
      "outputs": [
        {
          "name": "stdout",
          "output_type": "stream",
          "text": [
            "Pablo\n",
            "Lucia\n"
          ]
        }
      ],
      "source": [
        "#Imprimir los hermanos de persona\n",
        "for p in persona['hermano']:\n",
        "    print(p['nombre'])"
      ]
    },
    {
      "cell_type": "markdown",
      "metadata": {
        "id": "uOR3wYNdIhrS"
      },
      "source": [
        "### Condicional\n",
        "__if__ condición1 __:__ [__elif__ _condición2_ __:__ ] .. [__else:__]\n",
        "Si _condición1_ es Verdadero se ejecuta el bloque de comandos a continuación. Si está presente __elif__ se evalúa otra condición. Sino se ejecutan los comandos presentes en el __else__.\n",
        "<br>\n",
        "Vamos a mostrar solamente los datos del hermano de Ana que se llama Lucía."
      ]
    },
    {
      "cell_type": "code",
      "execution_count": 21,
      "metadata": {
        "colab": {
          "base_uri": "https://localhost:8080/"
        },
        "id": "tP1MRqCsIhrS",
        "outputId": "e785736e-1d36-44b8-cce7-302ca32715b2"
      },
      "outputs": [
        {
          "name": "stdout",
          "output_type": "stream",
          "text": [
            "este no es el hermano que queremos verPablo\n",
            "{'nombre': 'Lucia', 'edad': 32, 'casado': True}\n"
          ]
        }
      ],
      "source": [
        "#Imprimir sólo los datos del hermano que se llama Lucia\n",
        "for p in persona['hermano']:\n",
        "    if p['nombre']=='Lucia':\n",
        "        print(p)\n",
        "    else:\n",
        "        print('este no es el hermano que queremos ver'+p['nombre'])"
      ]
    },
    {
      "cell_type": "code",
      "execution_count": 22,
      "metadata": {
        "colab": {
          "base_uri": "https://localhost:8080/"
        },
        "id": "QeKFsGZ5IhrS",
        "outputId": "3a02126b-7427-44d4-86db-dc432e447d75"
      },
      "outputs": [
        {
          "name": "stdout",
          "output_type": "stream",
          "text": [
            "{'nombre': 'Pablo', 'edad': 28, 'casado': False}\n",
            "este no es el hermano que queremos verLucia\n"
          ]
        }
      ],
      "source": [
        "#Imprimir los datos de los hermanos cuya edad sea menor que 30\n",
        "for p in persona['hermano']:\n",
        "    #-->\n",
        "    if p['edad']<30:\n",
        "        print(p)\n",
        "    else:\n",
        "        print('este no es el hermano que queremos ver'+p['nombre'])"
      ]
    },
    {
      "cell_type": "markdown",
      "metadata": {
        "id": "95MaU0fvIhrT"
      },
      "source": [
        "Podemos acceder a los keys y values de un dict usando los siguientes métodos:\n",
        "- dict.keys()\n",
        "- dict.values()\n",
        "- dict.items()\n",
        "\n",
        "Nos sirven mucho para iterar."
      ]
    },
    {
      "cell_type": "code",
      "execution_count": 23,
      "metadata": {
        "colab": {
          "base_uri": "https://localhost:8080/"
        },
        "id": "phbI6AXSIhrT",
        "outputId": "069632e8-8931-4199-c485-241f2ea9db91"
      },
      "outputs": [
        {
          "name": "stdout",
          "output_type": "stream",
          "text": [
            "items() ->  dict_items([('nombre', 'Ana'), ('edad', 30), ('casado', False), ('hermano', [{'nombre': 'Pablo', 'edad': 28, 'casado': False}, {'nombre': 'Lucia', 'edad': 32, 'casado': True}]), ('telefono', ['111-2222', '2222-4444', '5555-6666'])])\n",
            "\n",
            "keys() -> dict_keys(['nombre', 'edad', 'casado', 'hermano', 'telefono'])\n",
            "\n",
            "values() ->  dict_values(['Ana', 30, False, [{'nombre': 'Pablo', 'edad': 28, 'casado': False}, {'nombre': 'Lucia', 'edad': 32, 'casado': True}], ['111-2222', '2222-4444', '5555-6666']])\n"
          ]
        }
      ],
      "source": [
        "#Por ejemplo\n",
        "print('items() -> ', persona.items())\n",
        "print('\\nkeys() ->', persona.keys())\n",
        "print('\\nvalues() -> ', persona.values())"
      ]
    },
    {
      "cell_type": "code",
      "execution_count": 24,
      "metadata": {
        "colab": {
          "base_uri": "https://localhost:8080/"
        },
        "id": "lrfEfN-EIhrT",
        "outputId": "9a2a5bb2-adfc-4065-fb39-15f53284e291"
      },
      "outputs": [
        {
          "name": "stdout",
          "output_type": "stream",
          "text": [
            "El key es nombre y su value es Ana\n",
            "El key es nombre y su value es Ana\n",
            "El key es edad y su value es 30\n",
            "El key es edad y su value es 30\n",
            "El key es casado y su value es False\n",
            "El key es casado y su value es False\n",
            "El key es hermano y su value es [{'nombre': 'Pablo', 'edad': 28, 'casado': False}, {'nombre': 'Lucia', 'edad': 32, 'casado': True}]\n",
            "El key es hermano y su value es [{'nombre': 'Pablo', 'edad': 28, 'casado': False}, {'nombre': 'Lucia', 'edad': 32, 'casado': True}]\n",
            "El key es telefono y su value es ['111-2222', '2222-4444', '5555-6666']\n",
            "El key es telefono y su value es ['111-2222', '2222-4444', '5555-6666']\n"
          ]
        }
      ],
      "source": [
        "#Mostramos los pares key value de persona\n",
        "for k,v in persona.items():\n",
        "    print('El key es '+k + ' y su value es '+str(v))\n",
        "    #Otra forma de armar la salida: usando el método format\n",
        "    salida = 'El key es {0} y su value es {1}'.format(k,v)\n",
        "    print(salida)"
      ]
    },
    {
      "cell_type": "code",
      "execution_count": 25,
      "metadata": {
        "colab": {
          "base_uri": "https://localhost:8080/"
        },
        "id": "Qnd2z0UnIhrU",
        "outputId": "a8f745c4-101a-42b9-d20b-185a7003ff79"
      },
      "outputs": [
        {
          "name": "stdout",
          "output_type": "stream",
          "text": [
            "{'marca': 'Ford', 'modelo': 'Fiesta', 'año': 2018}\n"
          ]
        }
      ],
      "source": [
        "#Otra forma de crear un dict es usando el constructor\n",
        "auto=dict(marca='Ford',modelo='Fiesta',año=2018)\n",
        "print(auto)"
      ]
    },
    {
      "cell_type": "code",
      "execution_count": 26,
      "metadata": {
        "colab": {
          "base_uri": "https://localhost:8080/"
        },
        "id": "pcYiF-A8IhrU",
        "outputId": "bc8825f4-0f5c-4277-f8ca-9ad9ae2c2ae0"
      },
      "outputs": [
        {
          "data": {
            "text/plain": [
              "2018"
            ]
          },
          "execution_count": 26,
          "metadata": {},
          "output_type": "execute_result"
        }
      ],
      "source": [
        "auto['año']"
      ]
    },
    {
      "cell_type": "markdown",
      "metadata": {
        "id": "IjWtWnvTIhrU"
      },
      "source": [
        "### Seguimos con más funciones de pandas\n",
        "y las combinamos con lo visto sobre __dict__"
      ]
    },
    {
      "cell_type": "code",
      "execution_count": 27,
      "metadata": {
        "id": "-o7uzS0AIhrU"
      },
      "outputs": [],
      "source": [
        "import pandas as pd"
      ]
    },
    {
      "cell_type": "code",
      "execution_count": 28,
      "metadata": {
        "colab": {
          "base_uri": "https://localhost:8080/"
        },
        "id": "yJ1Yaw0hIhrU",
        "outputId": "329bc6f2-298b-41ef-a48e-8b21d0dc2a73"
      },
      "outputs": [
        {
          "data": {
            "text/plain": [
              "{'Mayor18': True,\n",
              " 'cargo': ['Programador',\n",
              "  'Analista',\n",
              "  'Director',\n",
              "  'Analista jr.',\n",
              "  'Secretaria',\n",
              "  'Programador',\n",
              "  'Programador'],\n",
              " 'edad': [28, 34, 56, 21, 45, 27, 34],\n",
              " 'estudios': ['Terciario',\n",
              "  'Terciario',\n",
              "  'Postgrado',\n",
              "  'Universitario',\n",
              "  'Terciario',\n",
              "  'Universitario',\n",
              "  'Postgrado'],\n",
              " 'genero': ['F', 'M', 'M', 'F', 'F', 'M', 'F'],\n",
              " 'sueldo': [45000, 78000, 35000, 100000, 67000, 35000, 100000]}"
            ]
          },
          "execution_count": 28,
          "metadata": {},
          "output_type": "execute_result"
        }
      ],
      "source": [
        "per = {\"edad\":[28,34,56,21,45,27,34],# lista con siete números que representan edades\n",
        "       \"sueldo\":[45000,78000,35000,100000,67000,35000,100000,],#crear una lista con siete números que representan sueldos\n",
        "       \"cargo\":[\"Programador\",\"Analista\",\"Director\",\"Analista jr.\",\"Secretaria\",\"Programador\",\"Programador\"],\n",
        "       \"Mayor18\": True,#Colocar todos en True\n",
        "       \"genero\":['F','M','M','F','F','M','F'],#crear una lista con siete valores 'F' o 'M'\n",
        "       \"estudios\":['Terciario','Terciario','Postgrado','Universitario','Terciario','Universitario','Postgrado']}\n",
        "per"
      ]
    },
    {
      "cell_type": "code",
      "execution_count": 29,
      "metadata": {
        "colab": {
          "base_uri": "https://localhost:8080/",
          "height": 269
        },
        "id": "wLn6XdZBIhrV",
        "outputId": "5a698c92-2140-4661-84ba-992aa46d90a1"
      },
      "outputs": [
        {
          "data": {
            "text/html": [
              "\n",
              "  <div id=\"df-5b5813de-7ab5-4e09-a5ed-4512da6f6f82\">\n",
              "    <div class=\"colab-df-container\">\n",
              "      <div>\n",
              "<style scoped>\n",
              "    .dataframe tbody tr th:only-of-type {\n",
              "        vertical-align: middle;\n",
              "    }\n",
              "\n",
              "    .dataframe tbody tr th {\n",
              "        vertical-align: top;\n",
              "    }\n",
              "\n",
              "    .dataframe thead th {\n",
              "        text-align: right;\n",
              "    }\n",
              "</style>\n",
              "<table border=\"1\" class=\"dataframe\">\n",
              "  <thead>\n",
              "    <tr style=\"text-align: right;\">\n",
              "      <th></th>\n",
              "      <th>edad</th>\n",
              "      <th>sueldo</th>\n",
              "      <th>cargo</th>\n",
              "      <th>Mayor18</th>\n",
              "      <th>genero</th>\n",
              "      <th>estudios</th>\n",
              "    </tr>\n",
              "  </thead>\n",
              "  <tbody>\n",
              "    <tr>\n",
              "      <th>0</th>\n",
              "      <td>28</td>\n",
              "      <td>45000</td>\n",
              "      <td>Programador</td>\n",
              "      <td>True</td>\n",
              "      <td>F</td>\n",
              "      <td>Terciario</td>\n",
              "    </tr>\n",
              "    <tr>\n",
              "      <th>1</th>\n",
              "      <td>34</td>\n",
              "      <td>78000</td>\n",
              "      <td>Analista</td>\n",
              "      <td>True</td>\n",
              "      <td>M</td>\n",
              "      <td>Terciario</td>\n",
              "    </tr>\n",
              "    <tr>\n",
              "      <th>2</th>\n",
              "      <td>56</td>\n",
              "      <td>35000</td>\n",
              "      <td>Director</td>\n",
              "      <td>True</td>\n",
              "      <td>M</td>\n",
              "      <td>Postgrado</td>\n",
              "    </tr>\n",
              "    <tr>\n",
              "      <th>3</th>\n",
              "      <td>21</td>\n",
              "      <td>100000</td>\n",
              "      <td>Analista jr.</td>\n",
              "      <td>True</td>\n",
              "      <td>F</td>\n",
              "      <td>Universitario</td>\n",
              "    </tr>\n",
              "    <tr>\n",
              "      <th>4</th>\n",
              "      <td>45</td>\n",
              "      <td>67000</td>\n",
              "      <td>Secretaria</td>\n",
              "      <td>True</td>\n",
              "      <td>F</td>\n",
              "      <td>Terciario</td>\n",
              "    </tr>\n",
              "    <tr>\n",
              "      <th>5</th>\n",
              "      <td>27</td>\n",
              "      <td>35000</td>\n",
              "      <td>Programador</td>\n",
              "      <td>True</td>\n",
              "      <td>M</td>\n",
              "      <td>Universitario</td>\n",
              "    </tr>\n",
              "    <tr>\n",
              "      <th>6</th>\n",
              "      <td>34</td>\n",
              "      <td>100000</td>\n",
              "      <td>Programador</td>\n",
              "      <td>True</td>\n",
              "      <td>F</td>\n",
              "      <td>Postgrado</td>\n",
              "    </tr>\n",
              "  </tbody>\n",
              "</table>\n",
              "</div>\n",
              "      <button class=\"colab-df-convert\" onclick=\"convertToInteractive('df-5b5813de-7ab5-4e09-a5ed-4512da6f6f82')\"\n",
              "              title=\"Convert this dataframe to an interactive table.\"\n",
              "              style=\"display:none;\">\n",
              "        \n",
              "  <svg xmlns=\"http://www.w3.org/2000/svg\" height=\"24px\"viewBox=\"0 0 24 24\"\n",
              "       width=\"24px\">\n",
              "    <path d=\"M0 0h24v24H0V0z\" fill=\"none\"/>\n",
              "    <path d=\"M18.56 5.44l.94 2.06.94-2.06 2.06-.94-2.06-.94-.94-2.06-.94 2.06-2.06.94zm-11 1L8.5 8.5l.94-2.06 2.06-.94-2.06-.94L8.5 2.5l-.94 2.06-2.06.94zm10 10l.94 2.06.94-2.06 2.06-.94-2.06-.94-.94-2.06-.94 2.06-2.06.94z\"/><path d=\"M17.41 7.96l-1.37-1.37c-.4-.4-.92-.59-1.43-.59-.52 0-1.04.2-1.43.59L10.3 9.45l-7.72 7.72c-.78.78-.78 2.05 0 2.83L4 21.41c.39.39.9.59 1.41.59.51 0 1.02-.2 1.41-.59l7.78-7.78 2.81-2.81c.8-.78.8-2.07 0-2.86zM5.41 20L4 18.59l7.72-7.72 1.47 1.35L5.41 20z\"/>\n",
              "  </svg>\n",
              "      </button>\n",
              "      \n",
              "  <style>\n",
              "    .colab-df-container {\n",
              "      display:flex;\n",
              "      flex-wrap:wrap;\n",
              "      gap: 12px;\n",
              "    }\n",
              "\n",
              "    .colab-df-convert {\n",
              "      background-color: #E8F0FE;\n",
              "      border: none;\n",
              "      border-radius: 50%;\n",
              "      cursor: pointer;\n",
              "      display: none;\n",
              "      fill: #1967D2;\n",
              "      height: 32px;\n",
              "      padding: 0 0 0 0;\n",
              "      width: 32px;\n",
              "    }\n",
              "\n",
              "    .colab-df-convert:hover {\n",
              "      background-color: #E2EBFA;\n",
              "      box-shadow: 0px 1px 2px rgba(60, 64, 67, 0.3), 0px 1px 3px 1px rgba(60, 64, 67, 0.15);\n",
              "      fill: #174EA6;\n",
              "    }\n",
              "\n",
              "    [theme=dark] .colab-df-convert {\n",
              "      background-color: #3B4455;\n",
              "      fill: #D2E3FC;\n",
              "    }\n",
              "\n",
              "    [theme=dark] .colab-df-convert:hover {\n",
              "      background-color: #434B5C;\n",
              "      box-shadow: 0px 1px 3px 1px rgba(0, 0, 0, 0.15);\n",
              "      filter: drop-shadow(0px 1px 2px rgba(0, 0, 0, 0.3));\n",
              "      fill: #FFFFFF;\n",
              "    }\n",
              "  </style>\n",
              "\n",
              "      <script>\n",
              "        const buttonEl =\n",
              "          document.querySelector('#df-5b5813de-7ab5-4e09-a5ed-4512da6f6f82 button.colab-df-convert');\n",
              "        buttonEl.style.display =\n",
              "          google.colab.kernel.accessAllowed ? 'block' : 'none';\n",
              "\n",
              "        async function convertToInteractive(key) {\n",
              "          const element = document.querySelector('#df-5b5813de-7ab5-4e09-a5ed-4512da6f6f82');\n",
              "          const dataTable =\n",
              "            await google.colab.kernel.invokeFunction('convertToInteractive',\n",
              "                                                     [key], {});\n",
              "          if (!dataTable) return;\n",
              "\n",
              "          const docLinkHtml = 'Like what you see? Visit the ' +\n",
              "            '<a target=\"_blank\" href=https://colab.research.google.com/notebooks/data_table.ipynb>data table notebook</a>'\n",
              "            + ' to learn more about interactive tables.';\n",
              "          element.innerHTML = '';\n",
              "          dataTable['output_type'] = 'display_data';\n",
              "          await google.colab.output.renderOutput(dataTable, element);\n",
              "          const docLink = document.createElement('div');\n",
              "          docLink.innerHTML = docLinkHtml;\n",
              "          element.appendChild(docLink);\n",
              "        }\n",
              "      </script>\n",
              "    </div>\n",
              "  </div>\n",
              "  "
            ],
            "text/plain": [
              "   edad  sueldo         cargo  Mayor18 genero       estudios\n",
              "0    28   45000   Programador     True      F      Terciario\n",
              "1    34   78000      Analista     True      M      Terciario\n",
              "2    56   35000      Director     True      M      Postgrado\n",
              "3    21  100000  Analista jr.     True      F  Universitario\n",
              "4    45   67000    Secretaria     True      F      Terciario\n",
              "5    27   35000   Programador     True      M  Universitario\n",
              "6    34  100000   Programador     True      F      Postgrado"
            ]
          },
          "execution_count": 29,
          "metadata": {},
          "output_type": "execute_result"
        }
      ],
      "source": [
        "personas = pd.DataFrame(per)\n",
        "personas"
      ]
    },
    {
      "cell_type": "markdown",
      "metadata": {
        "id": "MWtg026FIhrV"
      },
      "source": [
        "### Consultas con filtro\n",
        "\n",
        "Podemos combinar varias condiciones con and __&__ u or __|__. Cada una tiene que estar entre paréntesis. El símbolo de igualdad es ==.\n",
        "<br><br>\n",
        "Mostrar las personas cuyo sueldo supera los 50000"
      ]
    },
    {
      "cell_type": "code",
      "execution_count": 31,
      "metadata": {
        "colab": {
          "base_uri": "https://localhost:8080/",
          "height": 175
        },
        "id": "T504U3iWIhrV",
        "outputId": "bb73ddc5-8011-48ba-f5e5-76e442ec4270"
      },
      "outputs": [
        {
          "data": {
            "text/html": [
              "\n",
              "  <div id=\"df-e3389afb-db72-49e4-b60c-9fce3d242f37\">\n",
              "    <div class=\"colab-df-container\">\n",
              "      <div>\n",
              "<style scoped>\n",
              "    .dataframe tbody tr th:only-of-type {\n",
              "        vertical-align: middle;\n",
              "    }\n",
              "\n",
              "    .dataframe tbody tr th {\n",
              "        vertical-align: top;\n",
              "    }\n",
              "\n",
              "    .dataframe thead th {\n",
              "        text-align: right;\n",
              "    }\n",
              "</style>\n",
              "<table border=\"1\" class=\"dataframe\">\n",
              "  <thead>\n",
              "    <tr style=\"text-align: right;\">\n",
              "      <th></th>\n",
              "      <th>edad</th>\n",
              "      <th>sueldo</th>\n",
              "      <th>cargo</th>\n",
              "      <th>Mayor18</th>\n",
              "      <th>genero</th>\n",
              "      <th>estudios</th>\n",
              "    </tr>\n",
              "  </thead>\n",
              "  <tbody>\n",
              "    <tr>\n",
              "      <th>1</th>\n",
              "      <td>34</td>\n",
              "      <td>78000</td>\n",
              "      <td>Analista</td>\n",
              "      <td>True</td>\n",
              "      <td>M</td>\n",
              "      <td>Terciario</td>\n",
              "    </tr>\n",
              "    <tr>\n",
              "      <th>3</th>\n",
              "      <td>21</td>\n",
              "      <td>100000</td>\n",
              "      <td>Analista jr.</td>\n",
              "      <td>True</td>\n",
              "      <td>F</td>\n",
              "      <td>Universitario</td>\n",
              "    </tr>\n",
              "    <tr>\n",
              "      <th>4</th>\n",
              "      <td>45</td>\n",
              "      <td>67000</td>\n",
              "      <td>Secretaria</td>\n",
              "      <td>True</td>\n",
              "      <td>F</td>\n",
              "      <td>Terciario</td>\n",
              "    </tr>\n",
              "    <tr>\n",
              "      <th>6</th>\n",
              "      <td>34</td>\n",
              "      <td>100000</td>\n",
              "      <td>Programador</td>\n",
              "      <td>True</td>\n",
              "      <td>F</td>\n",
              "      <td>Postgrado</td>\n",
              "    </tr>\n",
              "  </tbody>\n",
              "</table>\n",
              "</div>\n",
              "      <button class=\"colab-df-convert\" onclick=\"convertToInteractive('df-e3389afb-db72-49e4-b60c-9fce3d242f37')\"\n",
              "              title=\"Convert this dataframe to an interactive table.\"\n",
              "              style=\"display:none;\">\n",
              "        \n",
              "  <svg xmlns=\"http://www.w3.org/2000/svg\" height=\"24px\"viewBox=\"0 0 24 24\"\n",
              "       width=\"24px\">\n",
              "    <path d=\"M0 0h24v24H0V0z\" fill=\"none\"/>\n",
              "    <path d=\"M18.56 5.44l.94 2.06.94-2.06 2.06-.94-2.06-.94-.94-2.06-.94 2.06-2.06.94zm-11 1L8.5 8.5l.94-2.06 2.06-.94-2.06-.94L8.5 2.5l-.94 2.06-2.06.94zm10 10l.94 2.06.94-2.06 2.06-.94-2.06-.94-.94-2.06-.94 2.06-2.06.94z\"/><path d=\"M17.41 7.96l-1.37-1.37c-.4-.4-.92-.59-1.43-.59-.52 0-1.04.2-1.43.59L10.3 9.45l-7.72 7.72c-.78.78-.78 2.05 0 2.83L4 21.41c.39.39.9.59 1.41.59.51 0 1.02-.2 1.41-.59l7.78-7.78 2.81-2.81c.8-.78.8-2.07 0-2.86zM5.41 20L4 18.59l7.72-7.72 1.47 1.35L5.41 20z\"/>\n",
              "  </svg>\n",
              "      </button>\n",
              "      \n",
              "  <style>\n",
              "    .colab-df-container {\n",
              "      display:flex;\n",
              "      flex-wrap:wrap;\n",
              "      gap: 12px;\n",
              "    }\n",
              "\n",
              "    .colab-df-convert {\n",
              "      background-color: #E8F0FE;\n",
              "      border: none;\n",
              "      border-radius: 50%;\n",
              "      cursor: pointer;\n",
              "      display: none;\n",
              "      fill: #1967D2;\n",
              "      height: 32px;\n",
              "      padding: 0 0 0 0;\n",
              "      width: 32px;\n",
              "    }\n",
              "\n",
              "    .colab-df-convert:hover {\n",
              "      background-color: #E2EBFA;\n",
              "      box-shadow: 0px 1px 2px rgba(60, 64, 67, 0.3), 0px 1px 3px 1px rgba(60, 64, 67, 0.15);\n",
              "      fill: #174EA6;\n",
              "    }\n",
              "\n",
              "    [theme=dark] .colab-df-convert {\n",
              "      background-color: #3B4455;\n",
              "      fill: #D2E3FC;\n",
              "    }\n",
              "\n",
              "    [theme=dark] .colab-df-convert:hover {\n",
              "      background-color: #434B5C;\n",
              "      box-shadow: 0px 1px 3px 1px rgba(0, 0, 0, 0.15);\n",
              "      filter: drop-shadow(0px 1px 2px rgba(0, 0, 0, 0.3));\n",
              "      fill: #FFFFFF;\n",
              "    }\n",
              "  </style>\n",
              "\n",
              "      <script>\n",
              "        const buttonEl =\n",
              "          document.querySelector('#df-e3389afb-db72-49e4-b60c-9fce3d242f37 button.colab-df-convert');\n",
              "        buttonEl.style.display =\n",
              "          google.colab.kernel.accessAllowed ? 'block' : 'none';\n",
              "\n",
              "        async function convertToInteractive(key) {\n",
              "          const element = document.querySelector('#df-e3389afb-db72-49e4-b60c-9fce3d242f37');\n",
              "          const dataTable =\n",
              "            await google.colab.kernel.invokeFunction('convertToInteractive',\n",
              "                                                     [key], {});\n",
              "          if (!dataTable) return;\n",
              "\n",
              "          const docLinkHtml = 'Like what you see? Visit the ' +\n",
              "            '<a target=\"_blank\" href=https://colab.research.google.com/notebooks/data_table.ipynb>data table notebook</a>'\n",
              "            + ' to learn more about interactive tables.';\n",
              "          element.innerHTML = '';\n",
              "          dataTable['output_type'] = 'display_data';\n",
              "          await google.colab.output.renderOutput(dataTable, element);\n",
              "          const docLink = document.createElement('div');\n",
              "          docLink.innerHTML = docLinkHtml;\n",
              "          element.appendChild(docLink);\n",
              "        }\n",
              "      </script>\n",
              "    </div>\n",
              "  </div>\n",
              "  "
            ],
            "text/plain": [
              "   edad  sueldo         cargo  Mayor18 genero       estudios\n",
              "1    34   78000      Analista     True      M      Terciario\n",
              "3    21  100000  Analista jr.     True      F  Universitario\n",
              "4    45   67000    Secretaria     True      F      Terciario\n",
              "6    34  100000   Programador     True      F      Postgrado"
            ]
          },
          "execution_count": 31,
          "metadata": {},
          "output_type": "execute_result"
        }
      ],
      "source": [
        "personas[personas['sueldo']>50000]"
      ]
    },
    {
      "cell_type": "markdown",
      "metadata": {
        "id": "orJASsRdIhrV"
      },
      "source": [
        "Mostrar las mujeres con estudios Universitarios"
      ]
    },
    {
      "cell_type": "code",
      "execution_count": 39,
      "metadata": {
        "colab": {
          "base_uri": "https://localhost:8080/",
          "height": 81
        },
        "id": "EVg0nJjuIhrV",
        "outputId": "4af87c81-ce8d-4e8d-cf9e-a8d57fc9d629"
      },
      "outputs": [
        {
          "data": {
            "text/html": [
              "\n",
              "  <div id=\"df-74addcf2-6e6f-4665-a5ef-c12bb4bf0385\">\n",
              "    <div class=\"colab-df-container\">\n",
              "      <div>\n",
              "<style scoped>\n",
              "    .dataframe tbody tr th:only-of-type {\n",
              "        vertical-align: middle;\n",
              "    }\n",
              "\n",
              "    .dataframe tbody tr th {\n",
              "        vertical-align: top;\n",
              "    }\n",
              "\n",
              "    .dataframe thead th {\n",
              "        text-align: right;\n",
              "    }\n",
              "</style>\n",
              "<table border=\"1\" class=\"dataframe\">\n",
              "  <thead>\n",
              "    <tr style=\"text-align: right;\">\n",
              "      <th></th>\n",
              "      <th>edad</th>\n",
              "      <th>sueldo</th>\n",
              "      <th>cargo</th>\n",
              "      <th>Mayor18</th>\n",
              "      <th>genero</th>\n",
              "      <th>estudios</th>\n",
              "    </tr>\n",
              "  </thead>\n",
              "  <tbody>\n",
              "    <tr>\n",
              "      <th>3</th>\n",
              "      <td>21</td>\n",
              "      <td>100000</td>\n",
              "      <td>Analista jr.</td>\n",
              "      <td>True</td>\n",
              "      <td>F</td>\n",
              "      <td>Universitario</td>\n",
              "    </tr>\n",
              "  </tbody>\n",
              "</table>\n",
              "</div>\n",
              "      <button class=\"colab-df-convert\" onclick=\"convertToInteractive('df-74addcf2-6e6f-4665-a5ef-c12bb4bf0385')\"\n",
              "              title=\"Convert this dataframe to an interactive table.\"\n",
              "              style=\"display:none;\">\n",
              "        \n",
              "  <svg xmlns=\"http://www.w3.org/2000/svg\" height=\"24px\"viewBox=\"0 0 24 24\"\n",
              "       width=\"24px\">\n",
              "    <path d=\"M0 0h24v24H0V0z\" fill=\"none\"/>\n",
              "    <path d=\"M18.56 5.44l.94 2.06.94-2.06 2.06-.94-2.06-.94-.94-2.06-.94 2.06-2.06.94zm-11 1L8.5 8.5l.94-2.06 2.06-.94-2.06-.94L8.5 2.5l-.94 2.06-2.06.94zm10 10l.94 2.06.94-2.06 2.06-.94-2.06-.94-.94-2.06-.94 2.06-2.06.94z\"/><path d=\"M17.41 7.96l-1.37-1.37c-.4-.4-.92-.59-1.43-.59-.52 0-1.04.2-1.43.59L10.3 9.45l-7.72 7.72c-.78.78-.78 2.05 0 2.83L4 21.41c.39.39.9.59 1.41.59.51 0 1.02-.2 1.41-.59l7.78-7.78 2.81-2.81c.8-.78.8-2.07 0-2.86zM5.41 20L4 18.59l7.72-7.72 1.47 1.35L5.41 20z\"/>\n",
              "  </svg>\n",
              "      </button>\n",
              "      \n",
              "  <style>\n",
              "    .colab-df-container {\n",
              "      display:flex;\n",
              "      flex-wrap:wrap;\n",
              "      gap: 12px;\n",
              "    }\n",
              "\n",
              "    .colab-df-convert {\n",
              "      background-color: #E8F0FE;\n",
              "      border: none;\n",
              "      border-radius: 50%;\n",
              "      cursor: pointer;\n",
              "      display: none;\n",
              "      fill: #1967D2;\n",
              "      height: 32px;\n",
              "      padding: 0 0 0 0;\n",
              "      width: 32px;\n",
              "    }\n",
              "\n",
              "    .colab-df-convert:hover {\n",
              "      background-color: #E2EBFA;\n",
              "      box-shadow: 0px 1px 2px rgba(60, 64, 67, 0.3), 0px 1px 3px 1px rgba(60, 64, 67, 0.15);\n",
              "      fill: #174EA6;\n",
              "    }\n",
              "\n",
              "    [theme=dark] .colab-df-convert {\n",
              "      background-color: #3B4455;\n",
              "      fill: #D2E3FC;\n",
              "    }\n",
              "\n",
              "    [theme=dark] .colab-df-convert:hover {\n",
              "      background-color: #434B5C;\n",
              "      box-shadow: 0px 1px 3px 1px rgba(0, 0, 0, 0.15);\n",
              "      filter: drop-shadow(0px 1px 2px rgba(0, 0, 0, 0.3));\n",
              "      fill: #FFFFFF;\n",
              "    }\n",
              "  </style>\n",
              "\n",
              "      <script>\n",
              "        const buttonEl =\n",
              "          document.querySelector('#df-74addcf2-6e6f-4665-a5ef-c12bb4bf0385 button.colab-df-convert');\n",
              "        buttonEl.style.display =\n",
              "          google.colab.kernel.accessAllowed ? 'block' : 'none';\n",
              "\n",
              "        async function convertToInteractive(key) {\n",
              "          const element = document.querySelector('#df-74addcf2-6e6f-4665-a5ef-c12bb4bf0385');\n",
              "          const dataTable =\n",
              "            await google.colab.kernel.invokeFunction('convertToInteractive',\n",
              "                                                     [key], {});\n",
              "          if (!dataTable) return;\n",
              "\n",
              "          const docLinkHtml = 'Like what you see? Visit the ' +\n",
              "            '<a target=\"_blank\" href=https://colab.research.google.com/notebooks/data_table.ipynb>data table notebook</a>'\n",
              "            + ' to learn more about interactive tables.';\n",
              "          element.innerHTML = '';\n",
              "          dataTable['output_type'] = 'display_data';\n",
              "          await google.colab.output.renderOutput(dataTable, element);\n",
              "          const docLink = document.createElement('div');\n",
              "          docLink.innerHTML = docLinkHtml;\n",
              "          element.appendChild(docLink);\n",
              "        }\n",
              "      </script>\n",
              "    </div>\n",
              "  </div>\n",
              "  "
            ],
            "text/plain": [
              "   edad  sueldo         cargo  Mayor18 genero       estudios\n",
              "3    21  100000  Analista jr.     True      F  Universitario"
            ]
          },
          "execution_count": 39,
          "metadata": {},
          "output_type": "execute_result"
        }
      ],
      "source": [
        "personas[(personas['genero']=='F') & (personas['estudios']=='Universitario')]"
      ]
    },
    {
      "cell_type": "markdown",
      "metadata": {
        "id": "C_vNJEtDIhrW"
      },
      "source": [
        "### GROUP BY\n",
        "\n",
        "Mostrar los datos agrupados por una o más variables. De cada grupo podemos mostrar funciones de agregación como sum, count, avg\n",
        "<br><br>\n",
        "Mostrar cuantas mujeres y cuantos hombres hay"
      ]
    },
    {
      "cell_type": "code",
      "execution_count": 40,
      "metadata": {
        "colab": {
          "base_uri": "https://localhost:8080/"
        },
        "id": "KN5LBgsOIhrW",
        "outputId": "6186bf27-e402-4d79-c6c3-6a3acd894bf5"
      },
      "outputs": [
        {
          "data": {
            "text/plain": [
              "genero\n",
              "F    4\n",
              "M    3\n",
              "dtype: int64"
            ]
          },
          "execution_count": 40,
          "metadata": {},
          "output_type": "execute_result"
        }
      ],
      "source": [
        "personas.groupby('genero').size()"
      ]
    },
    {
      "cell_type": "code",
      "execution_count": 41,
      "metadata": {
        "colab": {
          "base_uri": "https://localhost:8080/"
        },
        "id": "0SFV5LosIhrW",
        "outputId": "52b3d6f9-0923-45a6-ea38-0a891e8d383a"
      },
      "outputs": [
        {
          "data": {
            "text/plain": [
              "genero\n",
              "F    78000.000000\n",
              "M    49333.333333\n",
              "Name: sueldo, dtype: float64"
            ]
          },
          "execution_count": 41,
          "metadata": {},
          "output_type": "execute_result"
        }
      ],
      "source": [
        "#Calculamos el sueldo promedio por género\n",
        "personas.groupby('genero')['sueldo'].mean()"
      ]
    },
    {
      "cell_type": "code",
      "execution_count": 42,
      "metadata": {
        "colab": {
          "base_uri": "https://localhost:8080/"
        },
        "id": "__oMeT5jIhrX",
        "outputId": "8fbdc579-7353-4d43-def7-62d2d026472e"
      },
      "outputs": [
        {
          "data": {
            "text/plain": [
              "cargo\n",
              "Analista         78000.0\n",
              "Analista jr.    100000.0\n",
              "Director         35000.0\n",
              "Programador      60000.0\n",
              "Secretaria       67000.0\n",
              "Name: sueldo, dtype: float64"
            ]
          },
          "execution_count": 42,
          "metadata": {},
          "output_type": "execute_result"
        }
      ],
      "source": [
        "#Calcular el sueldo promedio por cargo\n",
        "personas.groupby('cargo')['sueldo'].mean()"
      ]
    },
    {
      "cell_type": "code",
      "execution_count": 43,
      "metadata": {
        "colab": {
          "base_uri": "https://localhost:8080/"
        },
        "id": "0qKb0LuuIhrX",
        "outputId": "cb175ef1-1b2b-4ffa-e27f-71fcc32cf5fd"
      },
      "outputs": [
        {
          "data": {
            "text/plain": [
              "cargo         genero\n",
              "Analista      M         1\n",
              "Analista jr.  F         1\n",
              "Director      M         1\n",
              "Programador   F         2\n",
              "              M         1\n",
              "Secretaria    F         1\n",
              "dtype: int64"
            ]
          },
          "execution_count": 43,
          "metadata": {},
          "output_type": "execute_result"
        }
      ],
      "source": [
        "personas.groupby(['cargo','genero']).size()"
      ]
    },
    {
      "cell_type": "code",
      "execution_count": 45,
      "metadata": {
        "colab": {
          "base_uri": "https://localhost:8080/"
        },
        "id": "aziv5yJ0IhrY",
        "outputId": "524e8b46-51d1-49d9-8be0-a4126e3ef8f8"
      },
      "outputs": [
        {
          "data": {
            "text/plain": [
              "{'F': 312000, 'M': 148000}"
            ]
          },
          "execution_count": 45,
          "metadata": {},
          "output_type": "execute_result"
        }
      ],
      "source": [
        "dict(personas.groupby('genero')['sueldo'].sum())"
      ]
    },
    {
      "cell_type": "code",
      "execution_count": 46,
      "metadata": {
        "colab": {
          "base_uri": "https://localhost:8080/"
        },
        "id": "5nenD9RjIhrY",
        "outputId": "843e6e1c-ffc3-4f9c-9f40-4686e8d16c94"
      },
      "outputs": [
        {
          "data": {
            "text/plain": [
              "dict_keys(['Postgrado', 'Terciario', 'Universitario'])"
            ]
          },
          "execution_count": 46,
          "metadata": {},
          "output_type": "execute_result"
        }
      ],
      "source": [
        "dict(personas.groupby('estudios').size()).keys()"
      ]
    },
    {
      "cell_type": "markdown",
      "metadata": {
        "id": "lCtwsdSpIhrY"
      },
      "source": [
        "### Pasar las variables categóricas sin jerarquía a números\n",
        "\n",
        "Función <a href=\"https://pandas.pydata.org/docs/reference/api/pandas.get_dummies.html\"> __get_dummies__</a>"
      ]
    },
    {
      "cell_type": "code",
      "execution_count": 47,
      "metadata": {
        "colab": {
          "base_uri": "https://localhost:8080/",
          "height": 269
        },
        "id": "XdY_hyJWIhrZ",
        "outputId": "178fc010-c215-461b-a2ff-e8becede32be"
      },
      "outputs": [
        {
          "data": {
            "text/html": [
              "\n",
              "  <div id=\"df-52b2bb25-cb21-47bf-8d98-03a76757b551\">\n",
              "    <div class=\"colab-df-container\">\n",
              "      <div>\n",
              "<style scoped>\n",
              "    .dataframe tbody tr th:only-of-type {\n",
              "        vertical-align: middle;\n",
              "    }\n",
              "\n",
              "    .dataframe tbody tr th {\n",
              "        vertical-align: top;\n",
              "    }\n",
              "\n",
              "    .dataframe thead th {\n",
              "        text-align: right;\n",
              "    }\n",
              "</style>\n",
              "<table border=\"1\" class=\"dataframe\">\n",
              "  <thead>\n",
              "    <tr style=\"text-align: right;\">\n",
              "      <th></th>\n",
              "      <th>F</th>\n",
              "      <th>M</th>\n",
              "    </tr>\n",
              "  </thead>\n",
              "  <tbody>\n",
              "    <tr>\n",
              "      <th>0</th>\n",
              "      <td>1</td>\n",
              "      <td>0</td>\n",
              "    </tr>\n",
              "    <tr>\n",
              "      <th>1</th>\n",
              "      <td>0</td>\n",
              "      <td>1</td>\n",
              "    </tr>\n",
              "    <tr>\n",
              "      <th>2</th>\n",
              "      <td>0</td>\n",
              "      <td>1</td>\n",
              "    </tr>\n",
              "    <tr>\n",
              "      <th>3</th>\n",
              "      <td>1</td>\n",
              "      <td>0</td>\n",
              "    </tr>\n",
              "    <tr>\n",
              "      <th>4</th>\n",
              "      <td>1</td>\n",
              "      <td>0</td>\n",
              "    </tr>\n",
              "    <tr>\n",
              "      <th>5</th>\n",
              "      <td>0</td>\n",
              "      <td>1</td>\n",
              "    </tr>\n",
              "    <tr>\n",
              "      <th>6</th>\n",
              "      <td>1</td>\n",
              "      <td>0</td>\n",
              "    </tr>\n",
              "  </tbody>\n",
              "</table>\n",
              "</div>\n",
              "      <button class=\"colab-df-convert\" onclick=\"convertToInteractive('df-52b2bb25-cb21-47bf-8d98-03a76757b551')\"\n",
              "              title=\"Convert this dataframe to an interactive table.\"\n",
              "              style=\"display:none;\">\n",
              "        \n",
              "  <svg xmlns=\"http://www.w3.org/2000/svg\" height=\"24px\"viewBox=\"0 0 24 24\"\n",
              "       width=\"24px\">\n",
              "    <path d=\"M0 0h24v24H0V0z\" fill=\"none\"/>\n",
              "    <path d=\"M18.56 5.44l.94 2.06.94-2.06 2.06-.94-2.06-.94-.94-2.06-.94 2.06-2.06.94zm-11 1L8.5 8.5l.94-2.06 2.06-.94-2.06-.94L8.5 2.5l-.94 2.06-2.06.94zm10 10l.94 2.06.94-2.06 2.06-.94-2.06-.94-.94-2.06-.94 2.06-2.06.94z\"/><path d=\"M17.41 7.96l-1.37-1.37c-.4-.4-.92-.59-1.43-.59-.52 0-1.04.2-1.43.59L10.3 9.45l-7.72 7.72c-.78.78-.78 2.05 0 2.83L4 21.41c.39.39.9.59 1.41.59.51 0 1.02-.2 1.41-.59l7.78-7.78 2.81-2.81c.8-.78.8-2.07 0-2.86zM5.41 20L4 18.59l7.72-7.72 1.47 1.35L5.41 20z\"/>\n",
              "  </svg>\n",
              "      </button>\n",
              "      \n",
              "  <style>\n",
              "    .colab-df-container {\n",
              "      display:flex;\n",
              "      flex-wrap:wrap;\n",
              "      gap: 12px;\n",
              "    }\n",
              "\n",
              "    .colab-df-convert {\n",
              "      background-color: #E8F0FE;\n",
              "      border: none;\n",
              "      border-radius: 50%;\n",
              "      cursor: pointer;\n",
              "      display: none;\n",
              "      fill: #1967D2;\n",
              "      height: 32px;\n",
              "      padding: 0 0 0 0;\n",
              "      width: 32px;\n",
              "    }\n",
              "\n",
              "    .colab-df-convert:hover {\n",
              "      background-color: #E2EBFA;\n",
              "      box-shadow: 0px 1px 2px rgba(60, 64, 67, 0.3), 0px 1px 3px 1px rgba(60, 64, 67, 0.15);\n",
              "      fill: #174EA6;\n",
              "    }\n",
              "\n",
              "    [theme=dark] .colab-df-convert {\n",
              "      background-color: #3B4455;\n",
              "      fill: #D2E3FC;\n",
              "    }\n",
              "\n",
              "    [theme=dark] .colab-df-convert:hover {\n",
              "      background-color: #434B5C;\n",
              "      box-shadow: 0px 1px 3px 1px rgba(0, 0, 0, 0.15);\n",
              "      filter: drop-shadow(0px 1px 2px rgba(0, 0, 0, 0.3));\n",
              "      fill: #FFFFFF;\n",
              "    }\n",
              "  </style>\n",
              "\n",
              "      <script>\n",
              "        const buttonEl =\n",
              "          document.querySelector('#df-52b2bb25-cb21-47bf-8d98-03a76757b551 button.colab-df-convert');\n",
              "        buttonEl.style.display =\n",
              "          google.colab.kernel.accessAllowed ? 'block' : 'none';\n",
              "\n",
              "        async function convertToInteractive(key) {\n",
              "          const element = document.querySelector('#df-52b2bb25-cb21-47bf-8d98-03a76757b551');\n",
              "          const dataTable =\n",
              "            await google.colab.kernel.invokeFunction('convertToInteractive',\n",
              "                                                     [key], {});\n",
              "          if (!dataTable) return;\n",
              "\n",
              "          const docLinkHtml = 'Like what you see? Visit the ' +\n",
              "            '<a target=\"_blank\" href=https://colab.research.google.com/notebooks/data_table.ipynb>data table notebook</a>'\n",
              "            + ' to learn more about interactive tables.';\n",
              "          element.innerHTML = '';\n",
              "          dataTable['output_type'] = 'display_data';\n",
              "          await google.colab.output.renderOutput(dataTable, element);\n",
              "          const docLink = document.createElement('div');\n",
              "          docLink.innerHTML = docLinkHtml;\n",
              "          element.appendChild(docLink);\n",
              "        }\n",
              "      </script>\n",
              "    </div>\n",
              "  </div>\n",
              "  "
            ],
            "text/plain": [
              "   F  M\n",
              "0  1  0\n",
              "1  0  1\n",
              "2  0  1\n",
              "3  1  0\n",
              "4  1  0\n",
              "5  0  1\n",
              "6  1  0"
            ]
          },
          "execution_count": 47,
          "metadata": {},
          "output_type": "execute_result"
        }
      ],
      "source": [
        "pd.get_dummies(personas['genero'])"
      ]
    },
    {
      "cell_type": "code",
      "execution_count": 48,
      "metadata": {
        "colab": {
          "base_uri": "https://localhost:8080/",
          "height": 269
        },
        "id": "aHKQPnrQIhrZ",
        "outputId": "16f0c4a0-9d18-4b19-ef33-6014030a2b8c"
      },
      "outputs": [
        {
          "data": {
            "text/html": [
              "\n",
              "  <div id=\"df-d7ec3d9c-9781-4cda-b466-737028b222dd\">\n",
              "    <div class=\"colab-df-container\">\n",
              "      <div>\n",
              "<style scoped>\n",
              "    .dataframe tbody tr th:only-of-type {\n",
              "        vertical-align: middle;\n",
              "    }\n",
              "\n",
              "    .dataframe tbody tr th {\n",
              "        vertical-align: top;\n",
              "    }\n",
              "\n",
              "    .dataframe thead th {\n",
              "        text-align: right;\n",
              "    }\n",
              "</style>\n",
              "<table border=\"1\" class=\"dataframe\">\n",
              "  <thead>\n",
              "    <tr style=\"text-align: right;\">\n",
              "      <th></th>\n",
              "      <th>edad</th>\n",
              "      <th>sueldo</th>\n",
              "      <th>cargo</th>\n",
              "      <th>Mayor18</th>\n",
              "      <th>genero</th>\n",
              "      <th>estudios</th>\n",
              "      <th>F</th>\n",
              "      <th>M</th>\n",
              "    </tr>\n",
              "  </thead>\n",
              "  <tbody>\n",
              "    <tr>\n",
              "      <th>0</th>\n",
              "      <td>28</td>\n",
              "      <td>45000</td>\n",
              "      <td>Programador</td>\n",
              "      <td>True</td>\n",
              "      <td>F</td>\n",
              "      <td>Terciario</td>\n",
              "      <td>1</td>\n",
              "      <td>0</td>\n",
              "    </tr>\n",
              "    <tr>\n",
              "      <th>1</th>\n",
              "      <td>34</td>\n",
              "      <td>78000</td>\n",
              "      <td>Analista</td>\n",
              "      <td>True</td>\n",
              "      <td>M</td>\n",
              "      <td>Terciario</td>\n",
              "      <td>0</td>\n",
              "      <td>1</td>\n",
              "    </tr>\n",
              "    <tr>\n",
              "      <th>2</th>\n",
              "      <td>56</td>\n",
              "      <td>35000</td>\n",
              "      <td>Director</td>\n",
              "      <td>True</td>\n",
              "      <td>M</td>\n",
              "      <td>Postgrado</td>\n",
              "      <td>0</td>\n",
              "      <td>1</td>\n",
              "    </tr>\n",
              "    <tr>\n",
              "      <th>3</th>\n",
              "      <td>21</td>\n",
              "      <td>100000</td>\n",
              "      <td>Analista jr.</td>\n",
              "      <td>True</td>\n",
              "      <td>F</td>\n",
              "      <td>Universitario</td>\n",
              "      <td>1</td>\n",
              "      <td>0</td>\n",
              "    </tr>\n",
              "    <tr>\n",
              "      <th>4</th>\n",
              "      <td>45</td>\n",
              "      <td>67000</td>\n",
              "      <td>Secretaria</td>\n",
              "      <td>True</td>\n",
              "      <td>F</td>\n",
              "      <td>Terciario</td>\n",
              "      <td>1</td>\n",
              "      <td>0</td>\n",
              "    </tr>\n",
              "    <tr>\n",
              "      <th>5</th>\n",
              "      <td>27</td>\n",
              "      <td>35000</td>\n",
              "      <td>Programador</td>\n",
              "      <td>True</td>\n",
              "      <td>M</td>\n",
              "      <td>Universitario</td>\n",
              "      <td>0</td>\n",
              "      <td>1</td>\n",
              "    </tr>\n",
              "    <tr>\n",
              "      <th>6</th>\n",
              "      <td>34</td>\n",
              "      <td>100000</td>\n",
              "      <td>Programador</td>\n",
              "      <td>True</td>\n",
              "      <td>F</td>\n",
              "      <td>Postgrado</td>\n",
              "      <td>1</td>\n",
              "      <td>0</td>\n",
              "    </tr>\n",
              "  </tbody>\n",
              "</table>\n",
              "</div>\n",
              "      <button class=\"colab-df-convert\" onclick=\"convertToInteractive('df-d7ec3d9c-9781-4cda-b466-737028b222dd')\"\n",
              "              title=\"Convert this dataframe to an interactive table.\"\n",
              "              style=\"display:none;\">\n",
              "        \n",
              "  <svg xmlns=\"http://www.w3.org/2000/svg\" height=\"24px\"viewBox=\"0 0 24 24\"\n",
              "       width=\"24px\">\n",
              "    <path d=\"M0 0h24v24H0V0z\" fill=\"none\"/>\n",
              "    <path d=\"M18.56 5.44l.94 2.06.94-2.06 2.06-.94-2.06-.94-.94-2.06-.94 2.06-2.06.94zm-11 1L8.5 8.5l.94-2.06 2.06-.94-2.06-.94L8.5 2.5l-.94 2.06-2.06.94zm10 10l.94 2.06.94-2.06 2.06-.94-2.06-.94-.94-2.06-.94 2.06-2.06.94z\"/><path d=\"M17.41 7.96l-1.37-1.37c-.4-.4-.92-.59-1.43-.59-.52 0-1.04.2-1.43.59L10.3 9.45l-7.72 7.72c-.78.78-.78 2.05 0 2.83L4 21.41c.39.39.9.59 1.41.59.51 0 1.02-.2 1.41-.59l7.78-7.78 2.81-2.81c.8-.78.8-2.07 0-2.86zM5.41 20L4 18.59l7.72-7.72 1.47 1.35L5.41 20z\"/>\n",
              "  </svg>\n",
              "      </button>\n",
              "      \n",
              "  <style>\n",
              "    .colab-df-container {\n",
              "      display:flex;\n",
              "      flex-wrap:wrap;\n",
              "      gap: 12px;\n",
              "    }\n",
              "\n",
              "    .colab-df-convert {\n",
              "      background-color: #E8F0FE;\n",
              "      border: none;\n",
              "      border-radius: 50%;\n",
              "      cursor: pointer;\n",
              "      display: none;\n",
              "      fill: #1967D2;\n",
              "      height: 32px;\n",
              "      padding: 0 0 0 0;\n",
              "      width: 32px;\n",
              "    }\n",
              "\n",
              "    .colab-df-convert:hover {\n",
              "      background-color: #E2EBFA;\n",
              "      box-shadow: 0px 1px 2px rgba(60, 64, 67, 0.3), 0px 1px 3px 1px rgba(60, 64, 67, 0.15);\n",
              "      fill: #174EA6;\n",
              "    }\n",
              "\n",
              "    [theme=dark] .colab-df-convert {\n",
              "      background-color: #3B4455;\n",
              "      fill: #D2E3FC;\n",
              "    }\n",
              "\n",
              "    [theme=dark] .colab-df-convert:hover {\n",
              "      background-color: #434B5C;\n",
              "      box-shadow: 0px 1px 3px 1px rgba(0, 0, 0, 0.15);\n",
              "      filter: drop-shadow(0px 1px 2px rgba(0, 0, 0, 0.3));\n",
              "      fill: #FFFFFF;\n",
              "    }\n",
              "  </style>\n",
              "\n",
              "      <script>\n",
              "        const buttonEl =\n",
              "          document.querySelector('#df-d7ec3d9c-9781-4cda-b466-737028b222dd button.colab-df-convert');\n",
              "        buttonEl.style.display =\n",
              "          google.colab.kernel.accessAllowed ? 'block' : 'none';\n",
              "\n",
              "        async function convertToInteractive(key) {\n",
              "          const element = document.querySelector('#df-d7ec3d9c-9781-4cda-b466-737028b222dd');\n",
              "          const dataTable =\n",
              "            await google.colab.kernel.invokeFunction('convertToInteractive',\n",
              "                                                     [key], {});\n",
              "          if (!dataTable) return;\n",
              "\n",
              "          const docLinkHtml = 'Like what you see? Visit the ' +\n",
              "            '<a target=\"_blank\" href=https://colab.research.google.com/notebooks/data_table.ipynb>data table notebook</a>'\n",
              "            + ' to learn more about interactive tables.';\n",
              "          element.innerHTML = '';\n",
              "          dataTable['output_type'] = 'display_data';\n",
              "          await google.colab.output.renderOutput(dataTable, element);\n",
              "          const docLink = document.createElement('div');\n",
              "          docLink.innerHTML = docLinkHtml;\n",
              "          element.appendChild(docLink);\n",
              "        }\n",
              "      </script>\n",
              "    </div>\n",
              "  </div>\n",
              "  "
            ],
            "text/plain": [
              "   edad  sueldo         cargo  Mayor18 genero       estudios  F  M\n",
              "0    28   45000   Programador     True      F      Terciario  1  0\n",
              "1    34   78000      Analista     True      M      Terciario  0  1\n",
              "2    56   35000      Director     True      M      Postgrado  0  1\n",
              "3    21  100000  Analista jr.     True      F  Universitario  1  0\n",
              "4    45   67000    Secretaria     True      F      Terciario  1  0\n",
              "5    27   35000   Programador     True      M  Universitario  0  1\n",
              "6    34  100000   Programador     True      F      Postgrado  1  0"
            ]
          },
          "execution_count": 48,
          "metadata": {},
          "output_type": "execute_result"
        }
      ],
      "source": [
        "persona_num=pd.concat([personas, pd.get_dummies(personas['genero'])],axis=1)\n",
        "persona_num"
      ]
    },
    {
      "cell_type": "markdown",
      "metadata": {
        "id": "Of6SzcupIhrZ"
      },
      "source": [
        "__drop__ permite eliminar una fila (axis=0) o columna (axis=1). \n",
        "<br>Borramos la columna género"
      ]
    },
    {
      "cell_type": "code",
      "execution_count": 49,
      "metadata": {
        "colab": {
          "base_uri": "https://localhost:8080/",
          "height": 269
        },
        "id": "8LfvfQBIIhrZ",
        "outputId": "e70998b5-2a86-47c3-d0b4-a9747ae70a04"
      },
      "outputs": [
        {
          "data": {
            "text/html": [
              "\n",
              "  <div id=\"df-7693e85a-2cfb-4363-bd8d-cbaf691747e5\">\n",
              "    <div class=\"colab-df-container\">\n",
              "      <div>\n",
              "<style scoped>\n",
              "    .dataframe tbody tr th:only-of-type {\n",
              "        vertical-align: middle;\n",
              "    }\n",
              "\n",
              "    .dataframe tbody tr th {\n",
              "        vertical-align: top;\n",
              "    }\n",
              "\n",
              "    .dataframe thead th {\n",
              "        text-align: right;\n",
              "    }\n",
              "</style>\n",
              "<table border=\"1\" class=\"dataframe\">\n",
              "  <thead>\n",
              "    <tr style=\"text-align: right;\">\n",
              "      <th></th>\n",
              "      <th>edad</th>\n",
              "      <th>sueldo</th>\n",
              "      <th>cargo</th>\n",
              "      <th>Mayor18</th>\n",
              "      <th>estudios</th>\n",
              "    </tr>\n",
              "  </thead>\n",
              "  <tbody>\n",
              "    <tr>\n",
              "      <th>0</th>\n",
              "      <td>28</td>\n",
              "      <td>45000</td>\n",
              "      <td>Programador</td>\n",
              "      <td>True</td>\n",
              "      <td>Terciario</td>\n",
              "    </tr>\n",
              "    <tr>\n",
              "      <th>1</th>\n",
              "      <td>34</td>\n",
              "      <td>78000</td>\n",
              "      <td>Analista</td>\n",
              "      <td>True</td>\n",
              "      <td>Terciario</td>\n",
              "    </tr>\n",
              "    <tr>\n",
              "      <th>2</th>\n",
              "      <td>56</td>\n",
              "      <td>35000</td>\n",
              "      <td>Director</td>\n",
              "      <td>True</td>\n",
              "      <td>Postgrado</td>\n",
              "    </tr>\n",
              "    <tr>\n",
              "      <th>3</th>\n",
              "      <td>21</td>\n",
              "      <td>100000</td>\n",
              "      <td>Analista jr.</td>\n",
              "      <td>True</td>\n",
              "      <td>Universitario</td>\n",
              "    </tr>\n",
              "    <tr>\n",
              "      <th>4</th>\n",
              "      <td>45</td>\n",
              "      <td>67000</td>\n",
              "      <td>Secretaria</td>\n",
              "      <td>True</td>\n",
              "      <td>Terciario</td>\n",
              "    </tr>\n",
              "    <tr>\n",
              "      <th>5</th>\n",
              "      <td>27</td>\n",
              "      <td>35000</td>\n",
              "      <td>Programador</td>\n",
              "      <td>True</td>\n",
              "      <td>Universitario</td>\n",
              "    </tr>\n",
              "    <tr>\n",
              "      <th>6</th>\n",
              "      <td>34</td>\n",
              "      <td>100000</td>\n",
              "      <td>Programador</td>\n",
              "      <td>True</td>\n",
              "      <td>Postgrado</td>\n",
              "    </tr>\n",
              "  </tbody>\n",
              "</table>\n",
              "</div>\n",
              "      <button class=\"colab-df-convert\" onclick=\"convertToInteractive('df-7693e85a-2cfb-4363-bd8d-cbaf691747e5')\"\n",
              "              title=\"Convert this dataframe to an interactive table.\"\n",
              "              style=\"display:none;\">\n",
              "        \n",
              "  <svg xmlns=\"http://www.w3.org/2000/svg\" height=\"24px\"viewBox=\"0 0 24 24\"\n",
              "       width=\"24px\">\n",
              "    <path d=\"M0 0h24v24H0V0z\" fill=\"none\"/>\n",
              "    <path d=\"M18.56 5.44l.94 2.06.94-2.06 2.06-.94-2.06-.94-.94-2.06-.94 2.06-2.06.94zm-11 1L8.5 8.5l.94-2.06 2.06-.94-2.06-.94L8.5 2.5l-.94 2.06-2.06.94zm10 10l.94 2.06.94-2.06 2.06-.94-2.06-.94-.94-2.06-.94 2.06-2.06.94z\"/><path d=\"M17.41 7.96l-1.37-1.37c-.4-.4-.92-.59-1.43-.59-.52 0-1.04.2-1.43.59L10.3 9.45l-7.72 7.72c-.78.78-.78 2.05 0 2.83L4 21.41c.39.39.9.59 1.41.59.51 0 1.02-.2 1.41-.59l7.78-7.78 2.81-2.81c.8-.78.8-2.07 0-2.86zM5.41 20L4 18.59l7.72-7.72 1.47 1.35L5.41 20z\"/>\n",
              "  </svg>\n",
              "      </button>\n",
              "      \n",
              "  <style>\n",
              "    .colab-df-container {\n",
              "      display:flex;\n",
              "      flex-wrap:wrap;\n",
              "      gap: 12px;\n",
              "    }\n",
              "\n",
              "    .colab-df-convert {\n",
              "      background-color: #E8F0FE;\n",
              "      border: none;\n",
              "      border-radius: 50%;\n",
              "      cursor: pointer;\n",
              "      display: none;\n",
              "      fill: #1967D2;\n",
              "      height: 32px;\n",
              "      padding: 0 0 0 0;\n",
              "      width: 32px;\n",
              "    }\n",
              "\n",
              "    .colab-df-convert:hover {\n",
              "      background-color: #E2EBFA;\n",
              "      box-shadow: 0px 1px 2px rgba(60, 64, 67, 0.3), 0px 1px 3px 1px rgba(60, 64, 67, 0.15);\n",
              "      fill: #174EA6;\n",
              "    }\n",
              "\n",
              "    [theme=dark] .colab-df-convert {\n",
              "      background-color: #3B4455;\n",
              "      fill: #D2E3FC;\n",
              "    }\n",
              "\n",
              "    [theme=dark] .colab-df-convert:hover {\n",
              "      background-color: #434B5C;\n",
              "      box-shadow: 0px 1px 3px 1px rgba(0, 0, 0, 0.15);\n",
              "      filter: drop-shadow(0px 1px 2px rgba(0, 0, 0, 0.3));\n",
              "      fill: #FFFFFF;\n",
              "    }\n",
              "  </style>\n",
              "\n",
              "      <script>\n",
              "        const buttonEl =\n",
              "          document.querySelector('#df-7693e85a-2cfb-4363-bd8d-cbaf691747e5 button.colab-df-convert');\n",
              "        buttonEl.style.display =\n",
              "          google.colab.kernel.accessAllowed ? 'block' : 'none';\n",
              "\n",
              "        async function convertToInteractive(key) {\n",
              "          const element = document.querySelector('#df-7693e85a-2cfb-4363-bd8d-cbaf691747e5');\n",
              "          const dataTable =\n",
              "            await google.colab.kernel.invokeFunction('convertToInteractive',\n",
              "                                                     [key], {});\n",
              "          if (!dataTable) return;\n",
              "\n",
              "          const docLinkHtml = 'Like what you see? Visit the ' +\n",
              "            '<a target=\"_blank\" href=https://colab.research.google.com/notebooks/data_table.ipynb>data table notebook</a>'\n",
              "            + ' to learn more about interactive tables.';\n",
              "          element.innerHTML = '';\n",
              "          dataTable['output_type'] = 'display_data';\n",
              "          await google.colab.output.renderOutput(dataTable, element);\n",
              "          const docLink = document.createElement('div');\n",
              "          docLink.innerHTML = docLinkHtml;\n",
              "          element.appendChild(docLink);\n",
              "        }\n",
              "      </script>\n",
              "    </div>\n",
              "  </div>\n",
              "  "
            ],
            "text/plain": [
              "   edad  sueldo         cargo  Mayor18       estudios\n",
              "0    28   45000   Programador     True      Terciario\n",
              "1    34   78000      Analista     True      Terciario\n",
              "2    56   35000      Director     True      Postgrado\n",
              "3    21  100000  Analista jr.     True  Universitario\n",
              "4    45   67000    Secretaria     True      Terciario\n",
              "5    27   35000   Programador     True  Universitario\n",
              "6    34  100000   Programador     True      Postgrado"
            ]
          },
          "execution_count": 49,
          "metadata": {},
          "output_type": "execute_result"
        }
      ],
      "source": [
        "personas.drop(['genero'],axis=1)"
      ]
    },
    {
      "cell_type": "code",
      "execution_count": 50,
      "metadata": {
        "colab": {
          "base_uri": "https://localhost:8080/",
          "height": 269
        },
        "id": "6HcpTgz9Ihra",
        "outputId": "e65ba7e3-fffd-476f-b447-d44846a3aa1e"
      },
      "outputs": [
        {
          "data": {
            "text/html": [
              "\n",
              "  <div id=\"df-8bab60ff-625e-4072-91a9-1c4b99910007\">\n",
              "    <div class=\"colab-df-container\">\n",
              "      <div>\n",
              "<style scoped>\n",
              "    .dataframe tbody tr th:only-of-type {\n",
              "        vertical-align: middle;\n",
              "    }\n",
              "\n",
              "    .dataframe tbody tr th {\n",
              "        vertical-align: top;\n",
              "    }\n",
              "\n",
              "    .dataframe thead th {\n",
              "        text-align: right;\n",
              "    }\n",
              "</style>\n",
              "<table border=\"1\" class=\"dataframe\">\n",
              "  <thead>\n",
              "    <tr style=\"text-align: right;\">\n",
              "      <th></th>\n",
              "      <th>edad</th>\n",
              "      <th>sueldo</th>\n",
              "      <th>cargo</th>\n",
              "      <th>Mayor18</th>\n",
              "      <th>genero</th>\n",
              "      <th>estudios</th>\n",
              "    </tr>\n",
              "  </thead>\n",
              "  <tbody>\n",
              "    <tr>\n",
              "      <th>0</th>\n",
              "      <td>28</td>\n",
              "      <td>45000</td>\n",
              "      <td>Programador</td>\n",
              "      <td>True</td>\n",
              "      <td>F</td>\n",
              "      <td>Terciario</td>\n",
              "    </tr>\n",
              "    <tr>\n",
              "      <th>1</th>\n",
              "      <td>34</td>\n",
              "      <td>78000</td>\n",
              "      <td>Analista</td>\n",
              "      <td>True</td>\n",
              "      <td>M</td>\n",
              "      <td>Terciario</td>\n",
              "    </tr>\n",
              "    <tr>\n",
              "      <th>2</th>\n",
              "      <td>56</td>\n",
              "      <td>35000</td>\n",
              "      <td>Director</td>\n",
              "      <td>True</td>\n",
              "      <td>M</td>\n",
              "      <td>Postgrado</td>\n",
              "    </tr>\n",
              "    <tr>\n",
              "      <th>3</th>\n",
              "      <td>21</td>\n",
              "      <td>100000</td>\n",
              "      <td>Analista jr.</td>\n",
              "      <td>True</td>\n",
              "      <td>F</td>\n",
              "      <td>Universitario</td>\n",
              "    </tr>\n",
              "    <tr>\n",
              "      <th>4</th>\n",
              "      <td>45</td>\n",
              "      <td>67000</td>\n",
              "      <td>Secretaria</td>\n",
              "      <td>True</td>\n",
              "      <td>F</td>\n",
              "      <td>Terciario</td>\n",
              "    </tr>\n",
              "    <tr>\n",
              "      <th>5</th>\n",
              "      <td>27</td>\n",
              "      <td>35000</td>\n",
              "      <td>Programador</td>\n",
              "      <td>True</td>\n",
              "      <td>M</td>\n",
              "      <td>Universitario</td>\n",
              "    </tr>\n",
              "    <tr>\n",
              "      <th>6</th>\n",
              "      <td>34</td>\n",
              "      <td>100000</td>\n",
              "      <td>Programador</td>\n",
              "      <td>True</td>\n",
              "      <td>F</td>\n",
              "      <td>Postgrado</td>\n",
              "    </tr>\n",
              "  </tbody>\n",
              "</table>\n",
              "</div>\n",
              "      <button class=\"colab-df-convert\" onclick=\"convertToInteractive('df-8bab60ff-625e-4072-91a9-1c4b99910007')\"\n",
              "              title=\"Convert this dataframe to an interactive table.\"\n",
              "              style=\"display:none;\">\n",
              "        \n",
              "  <svg xmlns=\"http://www.w3.org/2000/svg\" height=\"24px\"viewBox=\"0 0 24 24\"\n",
              "       width=\"24px\">\n",
              "    <path d=\"M0 0h24v24H0V0z\" fill=\"none\"/>\n",
              "    <path d=\"M18.56 5.44l.94 2.06.94-2.06 2.06-.94-2.06-.94-.94-2.06-.94 2.06-2.06.94zm-11 1L8.5 8.5l.94-2.06 2.06-.94-2.06-.94L8.5 2.5l-.94 2.06-2.06.94zm10 10l.94 2.06.94-2.06 2.06-.94-2.06-.94-.94-2.06-.94 2.06-2.06.94z\"/><path d=\"M17.41 7.96l-1.37-1.37c-.4-.4-.92-.59-1.43-.59-.52 0-1.04.2-1.43.59L10.3 9.45l-7.72 7.72c-.78.78-.78 2.05 0 2.83L4 21.41c.39.39.9.59 1.41.59.51 0 1.02-.2 1.41-.59l7.78-7.78 2.81-2.81c.8-.78.8-2.07 0-2.86zM5.41 20L4 18.59l7.72-7.72 1.47 1.35L5.41 20z\"/>\n",
              "  </svg>\n",
              "      </button>\n",
              "      \n",
              "  <style>\n",
              "    .colab-df-container {\n",
              "      display:flex;\n",
              "      flex-wrap:wrap;\n",
              "      gap: 12px;\n",
              "    }\n",
              "\n",
              "    .colab-df-convert {\n",
              "      background-color: #E8F0FE;\n",
              "      border: none;\n",
              "      border-radius: 50%;\n",
              "      cursor: pointer;\n",
              "      display: none;\n",
              "      fill: #1967D2;\n",
              "      height: 32px;\n",
              "      padding: 0 0 0 0;\n",
              "      width: 32px;\n",
              "    }\n",
              "\n",
              "    .colab-df-convert:hover {\n",
              "      background-color: #E2EBFA;\n",
              "      box-shadow: 0px 1px 2px rgba(60, 64, 67, 0.3), 0px 1px 3px 1px rgba(60, 64, 67, 0.15);\n",
              "      fill: #174EA6;\n",
              "    }\n",
              "\n",
              "    [theme=dark] .colab-df-convert {\n",
              "      background-color: #3B4455;\n",
              "      fill: #D2E3FC;\n",
              "    }\n",
              "\n",
              "    [theme=dark] .colab-df-convert:hover {\n",
              "      background-color: #434B5C;\n",
              "      box-shadow: 0px 1px 3px 1px rgba(0, 0, 0, 0.15);\n",
              "      filter: drop-shadow(0px 1px 2px rgba(0, 0, 0, 0.3));\n",
              "      fill: #FFFFFF;\n",
              "    }\n",
              "  </style>\n",
              "\n",
              "      <script>\n",
              "        const buttonEl =\n",
              "          document.querySelector('#df-8bab60ff-625e-4072-91a9-1c4b99910007 button.colab-df-convert');\n",
              "        buttonEl.style.display =\n",
              "          google.colab.kernel.accessAllowed ? 'block' : 'none';\n",
              "\n",
              "        async function convertToInteractive(key) {\n",
              "          const element = document.querySelector('#df-8bab60ff-625e-4072-91a9-1c4b99910007');\n",
              "          const dataTable =\n",
              "            await google.colab.kernel.invokeFunction('convertToInteractive',\n",
              "                                                     [key], {});\n",
              "          if (!dataTable) return;\n",
              "\n",
              "          const docLinkHtml = 'Like what you see? Visit the ' +\n",
              "            '<a target=\"_blank\" href=https://colab.research.google.com/notebooks/data_table.ipynb>data table notebook</a>'\n",
              "            + ' to learn more about interactive tables.';\n",
              "          element.innerHTML = '';\n",
              "          dataTable['output_type'] = 'display_data';\n",
              "          await google.colab.output.renderOutput(dataTable, element);\n",
              "          const docLink = document.createElement('div');\n",
              "          docLink.innerHTML = docLinkHtml;\n",
              "          element.appendChild(docLink);\n",
              "        }\n",
              "      </script>\n",
              "    </div>\n",
              "  </div>\n",
              "  "
            ],
            "text/plain": [
              "   edad  sueldo         cargo  Mayor18 genero       estudios\n",
              "0    28   45000   Programador     True      F      Terciario\n",
              "1    34   78000      Analista     True      M      Terciario\n",
              "2    56   35000      Director     True      M      Postgrado\n",
              "3    21  100000  Analista jr.     True      F  Universitario\n",
              "4    45   67000    Secretaria     True      F      Terciario\n",
              "5    27   35000   Programador     True      M  Universitario\n",
              "6    34  100000   Programador     True      F      Postgrado"
            ]
          },
          "execution_count": 50,
          "metadata": {},
          "output_type": "execute_result"
        }
      ],
      "source": [
        "personas"
      ]
    },
    {
      "cell_type": "code",
      "execution_count": 51,
      "metadata": {
        "colab": {
          "base_uri": "https://localhost:8080/",
          "height": 269
        },
        "id": "7cIIPUR3Ihra",
        "outputId": "58072746-73da-4bea-aaf0-12233393aae9"
      },
      "outputs": [
        {
          "data": {
            "text/html": [
              "\n",
              "  <div id=\"df-b75f27b4-cfa5-4314-8e5b-45f6656f3972\">\n",
              "    <div class=\"colab-df-container\">\n",
              "      <div>\n",
              "<style scoped>\n",
              "    .dataframe tbody tr th:only-of-type {\n",
              "        vertical-align: middle;\n",
              "    }\n",
              "\n",
              "    .dataframe tbody tr th {\n",
              "        vertical-align: top;\n",
              "    }\n",
              "\n",
              "    .dataframe thead th {\n",
              "        text-align: right;\n",
              "    }\n",
              "</style>\n",
              "<table border=\"1\" class=\"dataframe\">\n",
              "  <thead>\n",
              "    <tr style=\"text-align: right;\">\n",
              "      <th></th>\n",
              "      <th>edad</th>\n",
              "      <th>sueldo</th>\n",
              "      <th>cargo</th>\n",
              "      <th>Mayor18</th>\n",
              "      <th>estudios</th>\n",
              "    </tr>\n",
              "  </thead>\n",
              "  <tbody>\n",
              "    <tr>\n",
              "      <th>0</th>\n",
              "      <td>28</td>\n",
              "      <td>45000</td>\n",
              "      <td>Programador</td>\n",
              "      <td>True</td>\n",
              "      <td>Terciario</td>\n",
              "    </tr>\n",
              "    <tr>\n",
              "      <th>1</th>\n",
              "      <td>34</td>\n",
              "      <td>78000</td>\n",
              "      <td>Analista</td>\n",
              "      <td>True</td>\n",
              "      <td>Terciario</td>\n",
              "    </tr>\n",
              "    <tr>\n",
              "      <th>2</th>\n",
              "      <td>56</td>\n",
              "      <td>35000</td>\n",
              "      <td>Director</td>\n",
              "      <td>True</td>\n",
              "      <td>Postgrado</td>\n",
              "    </tr>\n",
              "    <tr>\n",
              "      <th>3</th>\n",
              "      <td>21</td>\n",
              "      <td>100000</td>\n",
              "      <td>Analista jr.</td>\n",
              "      <td>True</td>\n",
              "      <td>Universitario</td>\n",
              "    </tr>\n",
              "    <tr>\n",
              "      <th>4</th>\n",
              "      <td>45</td>\n",
              "      <td>67000</td>\n",
              "      <td>Secretaria</td>\n",
              "      <td>True</td>\n",
              "      <td>Terciario</td>\n",
              "    </tr>\n",
              "    <tr>\n",
              "      <th>5</th>\n",
              "      <td>27</td>\n",
              "      <td>35000</td>\n",
              "      <td>Programador</td>\n",
              "      <td>True</td>\n",
              "      <td>Universitario</td>\n",
              "    </tr>\n",
              "    <tr>\n",
              "      <th>6</th>\n",
              "      <td>34</td>\n",
              "      <td>100000</td>\n",
              "      <td>Programador</td>\n",
              "      <td>True</td>\n",
              "      <td>Postgrado</td>\n",
              "    </tr>\n",
              "  </tbody>\n",
              "</table>\n",
              "</div>\n",
              "      <button class=\"colab-df-convert\" onclick=\"convertToInteractive('df-b75f27b4-cfa5-4314-8e5b-45f6656f3972')\"\n",
              "              title=\"Convert this dataframe to an interactive table.\"\n",
              "              style=\"display:none;\">\n",
              "        \n",
              "  <svg xmlns=\"http://www.w3.org/2000/svg\" height=\"24px\"viewBox=\"0 0 24 24\"\n",
              "       width=\"24px\">\n",
              "    <path d=\"M0 0h24v24H0V0z\" fill=\"none\"/>\n",
              "    <path d=\"M18.56 5.44l.94 2.06.94-2.06 2.06-.94-2.06-.94-.94-2.06-.94 2.06-2.06.94zm-11 1L8.5 8.5l.94-2.06 2.06-.94-2.06-.94L8.5 2.5l-.94 2.06-2.06.94zm10 10l.94 2.06.94-2.06 2.06-.94-2.06-.94-.94-2.06-.94 2.06-2.06.94z\"/><path d=\"M17.41 7.96l-1.37-1.37c-.4-.4-.92-.59-1.43-.59-.52 0-1.04.2-1.43.59L10.3 9.45l-7.72 7.72c-.78.78-.78 2.05 0 2.83L4 21.41c.39.39.9.59 1.41.59.51 0 1.02-.2 1.41-.59l7.78-7.78 2.81-2.81c.8-.78.8-2.07 0-2.86zM5.41 20L4 18.59l7.72-7.72 1.47 1.35L5.41 20z\"/>\n",
              "  </svg>\n",
              "      </button>\n",
              "      \n",
              "  <style>\n",
              "    .colab-df-container {\n",
              "      display:flex;\n",
              "      flex-wrap:wrap;\n",
              "      gap: 12px;\n",
              "    }\n",
              "\n",
              "    .colab-df-convert {\n",
              "      background-color: #E8F0FE;\n",
              "      border: none;\n",
              "      border-radius: 50%;\n",
              "      cursor: pointer;\n",
              "      display: none;\n",
              "      fill: #1967D2;\n",
              "      height: 32px;\n",
              "      padding: 0 0 0 0;\n",
              "      width: 32px;\n",
              "    }\n",
              "\n",
              "    .colab-df-convert:hover {\n",
              "      background-color: #E2EBFA;\n",
              "      box-shadow: 0px 1px 2px rgba(60, 64, 67, 0.3), 0px 1px 3px 1px rgba(60, 64, 67, 0.15);\n",
              "      fill: #174EA6;\n",
              "    }\n",
              "\n",
              "    [theme=dark] .colab-df-convert {\n",
              "      background-color: #3B4455;\n",
              "      fill: #D2E3FC;\n",
              "    }\n",
              "\n",
              "    [theme=dark] .colab-df-convert:hover {\n",
              "      background-color: #434B5C;\n",
              "      box-shadow: 0px 1px 3px 1px rgba(0, 0, 0, 0.15);\n",
              "      filter: drop-shadow(0px 1px 2px rgba(0, 0, 0, 0.3));\n",
              "      fill: #FFFFFF;\n",
              "    }\n",
              "  </style>\n",
              "\n",
              "      <script>\n",
              "        const buttonEl =\n",
              "          document.querySelector('#df-b75f27b4-cfa5-4314-8e5b-45f6656f3972 button.colab-df-convert');\n",
              "        buttonEl.style.display =\n",
              "          google.colab.kernel.accessAllowed ? 'block' : 'none';\n",
              "\n",
              "        async function convertToInteractive(key) {\n",
              "          const element = document.querySelector('#df-b75f27b4-cfa5-4314-8e5b-45f6656f3972');\n",
              "          const dataTable =\n",
              "            await google.colab.kernel.invokeFunction('convertToInteractive',\n",
              "                                                     [key], {});\n",
              "          if (!dataTable) return;\n",
              "\n",
              "          const docLinkHtml = 'Like what you see? Visit the ' +\n",
              "            '<a target=\"_blank\" href=https://colab.research.google.com/notebooks/data_table.ipynb>data table notebook</a>'\n",
              "            + ' to learn more about interactive tables.';\n",
              "          element.innerHTML = '';\n",
              "          dataTable['output_type'] = 'display_data';\n",
              "          await google.colab.output.renderOutput(dataTable, element);\n",
              "          const docLink = document.createElement('div');\n",
              "          docLink.innerHTML = docLinkHtml;\n",
              "          element.appendChild(docLink);\n",
              "        }\n",
              "      </script>\n",
              "    </div>\n",
              "  </div>\n",
              "  "
            ],
            "text/plain": [
              "   edad  sueldo         cargo  Mayor18       estudios\n",
              "0    28   45000   Programador     True      Terciario\n",
              "1    34   78000      Analista     True      Terciario\n",
              "2    56   35000      Director     True      Postgrado\n",
              "3    21  100000  Analista jr.     True  Universitario\n",
              "4    45   67000    Secretaria     True      Terciario\n",
              "5    27   35000   Programador     True  Universitario\n",
              "6    34  100000   Programador     True      Postgrado"
            ]
          },
          "execution_count": 51,
          "metadata": {},
          "output_type": "execute_result"
        }
      ],
      "source": [
        "personas_sg=personas.drop(['genero'],axis=1)\n",
        "personas_sg"
      ]
    },
    {
      "cell_type": "code",
      "execution_count": 52,
      "metadata": {
        "colab": {
          "base_uri": "https://localhost:8080/",
          "height": 238
        },
        "id": "VfLtdyWSIhra",
        "outputId": "cdd90349-48e4-4f90-863f-0a7ccba08078"
      },
      "outputs": [
        {
          "data": {
            "text/html": [
              "\n",
              "  <div id=\"df-396a1e8b-6da7-4068-b97a-a5a0dacd0517\">\n",
              "    <div class=\"colab-df-container\">\n",
              "      <div>\n",
              "<style scoped>\n",
              "    .dataframe tbody tr th:only-of-type {\n",
              "        vertical-align: middle;\n",
              "    }\n",
              "\n",
              "    .dataframe tbody tr th {\n",
              "        vertical-align: top;\n",
              "    }\n",
              "\n",
              "    .dataframe thead th {\n",
              "        text-align: right;\n",
              "    }\n",
              "</style>\n",
              "<table border=\"1\" class=\"dataframe\">\n",
              "  <thead>\n",
              "    <tr style=\"text-align: right;\">\n",
              "      <th></th>\n",
              "      <th>edad</th>\n",
              "      <th>sueldo</th>\n",
              "      <th>cargo</th>\n",
              "      <th>Mayor18</th>\n",
              "      <th>genero</th>\n",
              "      <th>estudios</th>\n",
              "    </tr>\n",
              "  </thead>\n",
              "  <tbody>\n",
              "    <tr>\n",
              "      <th>0</th>\n",
              "      <td>28</td>\n",
              "      <td>45000</td>\n",
              "      <td>Programador</td>\n",
              "      <td>True</td>\n",
              "      <td>F</td>\n",
              "      <td>Terciario</td>\n",
              "    </tr>\n",
              "    <tr>\n",
              "      <th>2</th>\n",
              "      <td>56</td>\n",
              "      <td>35000</td>\n",
              "      <td>Director</td>\n",
              "      <td>True</td>\n",
              "      <td>M</td>\n",
              "      <td>Postgrado</td>\n",
              "    </tr>\n",
              "    <tr>\n",
              "      <th>3</th>\n",
              "      <td>21</td>\n",
              "      <td>100000</td>\n",
              "      <td>Analista jr.</td>\n",
              "      <td>True</td>\n",
              "      <td>F</td>\n",
              "      <td>Universitario</td>\n",
              "    </tr>\n",
              "    <tr>\n",
              "      <th>4</th>\n",
              "      <td>45</td>\n",
              "      <td>67000</td>\n",
              "      <td>Secretaria</td>\n",
              "      <td>True</td>\n",
              "      <td>F</td>\n",
              "      <td>Terciario</td>\n",
              "    </tr>\n",
              "    <tr>\n",
              "      <th>5</th>\n",
              "      <td>27</td>\n",
              "      <td>35000</td>\n",
              "      <td>Programador</td>\n",
              "      <td>True</td>\n",
              "      <td>M</td>\n",
              "      <td>Universitario</td>\n",
              "    </tr>\n",
              "    <tr>\n",
              "      <th>6</th>\n",
              "      <td>34</td>\n",
              "      <td>100000</td>\n",
              "      <td>Programador</td>\n",
              "      <td>True</td>\n",
              "      <td>F</td>\n",
              "      <td>Postgrado</td>\n",
              "    </tr>\n",
              "  </tbody>\n",
              "</table>\n",
              "</div>\n",
              "      <button class=\"colab-df-convert\" onclick=\"convertToInteractive('df-396a1e8b-6da7-4068-b97a-a5a0dacd0517')\"\n",
              "              title=\"Convert this dataframe to an interactive table.\"\n",
              "              style=\"display:none;\">\n",
              "        \n",
              "  <svg xmlns=\"http://www.w3.org/2000/svg\" height=\"24px\"viewBox=\"0 0 24 24\"\n",
              "       width=\"24px\">\n",
              "    <path d=\"M0 0h24v24H0V0z\" fill=\"none\"/>\n",
              "    <path d=\"M18.56 5.44l.94 2.06.94-2.06 2.06-.94-2.06-.94-.94-2.06-.94 2.06-2.06.94zm-11 1L8.5 8.5l.94-2.06 2.06-.94-2.06-.94L8.5 2.5l-.94 2.06-2.06.94zm10 10l.94 2.06.94-2.06 2.06-.94-2.06-.94-.94-2.06-.94 2.06-2.06.94z\"/><path d=\"M17.41 7.96l-1.37-1.37c-.4-.4-.92-.59-1.43-.59-.52 0-1.04.2-1.43.59L10.3 9.45l-7.72 7.72c-.78.78-.78 2.05 0 2.83L4 21.41c.39.39.9.59 1.41.59.51 0 1.02-.2 1.41-.59l7.78-7.78 2.81-2.81c.8-.78.8-2.07 0-2.86zM5.41 20L4 18.59l7.72-7.72 1.47 1.35L5.41 20z\"/>\n",
              "  </svg>\n",
              "      </button>\n",
              "      \n",
              "  <style>\n",
              "    .colab-df-container {\n",
              "      display:flex;\n",
              "      flex-wrap:wrap;\n",
              "      gap: 12px;\n",
              "    }\n",
              "\n",
              "    .colab-df-convert {\n",
              "      background-color: #E8F0FE;\n",
              "      border: none;\n",
              "      border-radius: 50%;\n",
              "      cursor: pointer;\n",
              "      display: none;\n",
              "      fill: #1967D2;\n",
              "      height: 32px;\n",
              "      padding: 0 0 0 0;\n",
              "      width: 32px;\n",
              "    }\n",
              "\n",
              "    .colab-df-convert:hover {\n",
              "      background-color: #E2EBFA;\n",
              "      box-shadow: 0px 1px 2px rgba(60, 64, 67, 0.3), 0px 1px 3px 1px rgba(60, 64, 67, 0.15);\n",
              "      fill: #174EA6;\n",
              "    }\n",
              "\n",
              "    [theme=dark] .colab-df-convert {\n",
              "      background-color: #3B4455;\n",
              "      fill: #D2E3FC;\n",
              "    }\n",
              "\n",
              "    [theme=dark] .colab-df-convert:hover {\n",
              "      background-color: #434B5C;\n",
              "      box-shadow: 0px 1px 3px 1px rgba(0, 0, 0, 0.15);\n",
              "      filter: drop-shadow(0px 1px 2px rgba(0, 0, 0, 0.3));\n",
              "      fill: #FFFFFF;\n",
              "    }\n",
              "  </style>\n",
              "\n",
              "      <script>\n",
              "        const buttonEl =\n",
              "          document.querySelector('#df-396a1e8b-6da7-4068-b97a-a5a0dacd0517 button.colab-df-convert');\n",
              "        buttonEl.style.display =\n",
              "          google.colab.kernel.accessAllowed ? 'block' : 'none';\n",
              "\n",
              "        async function convertToInteractive(key) {\n",
              "          const element = document.querySelector('#df-396a1e8b-6da7-4068-b97a-a5a0dacd0517');\n",
              "          const dataTable =\n",
              "            await google.colab.kernel.invokeFunction('convertToInteractive',\n",
              "                                                     [key], {});\n",
              "          if (!dataTable) return;\n",
              "\n",
              "          const docLinkHtml = 'Like what you see? Visit the ' +\n",
              "            '<a target=\"_blank\" href=https://colab.research.google.com/notebooks/data_table.ipynb>data table notebook</a>'\n",
              "            + ' to learn more about interactive tables.';\n",
              "          element.innerHTML = '';\n",
              "          dataTable['output_type'] = 'display_data';\n",
              "          await google.colab.output.renderOutput(dataTable, element);\n",
              "          const docLink = document.createElement('div');\n",
              "          docLink.innerHTML = docLinkHtml;\n",
              "          element.appendChild(docLink);\n",
              "        }\n",
              "      </script>\n",
              "    </div>\n",
              "  </div>\n",
              "  "
            ],
            "text/plain": [
              "   edad  sueldo         cargo  Mayor18 genero       estudios\n",
              "0    28   45000   Programador     True      F      Terciario\n",
              "2    56   35000      Director     True      M      Postgrado\n",
              "3    21  100000  Analista jr.     True      F  Universitario\n",
              "4    45   67000    Secretaria     True      F      Terciario\n",
              "5    27   35000   Programador     True      M  Universitario\n",
              "6    34  100000   Programador     True      F      Postgrado"
            ]
          },
          "execution_count": 52,
          "metadata": {},
          "output_type": "execute_result"
        }
      ],
      "source": [
        "personas.drop([1],axis=0)"
      ]
    },
    {
      "cell_type": "code",
      "execution_count": 53,
      "metadata": {
        "colab": {
          "base_uri": "https://localhost:8080/",
          "height": 300
        },
        "id": "mMM0jpq6Ihra",
        "outputId": "74f06c30-8007-4d0b-981e-728c9438a4fd"
      },
      "outputs": [
        {
          "data": {
            "text/html": [
              "\n",
              "  <div id=\"df-6d68be7d-e3cb-42b4-afa2-01582711ae23\">\n",
              "    <div class=\"colab-df-container\">\n",
              "      <div>\n",
              "<style scoped>\n",
              "    .dataframe tbody tr th:only-of-type {\n",
              "        vertical-align: middle;\n",
              "    }\n",
              "\n",
              "    .dataframe tbody tr th {\n",
              "        vertical-align: top;\n",
              "    }\n",
              "\n",
              "    .dataframe thead th {\n",
              "        text-align: right;\n",
              "    }\n",
              "</style>\n",
              "<table border=\"1\" class=\"dataframe\">\n",
              "  <thead>\n",
              "    <tr style=\"text-align: right;\">\n",
              "      <th></th>\n",
              "      <th>edad</th>\n",
              "      <th>sueldo</th>\n",
              "      <th>Mayor18</th>\n",
              "      <th>genero</th>\n",
              "      <th>estudios</th>\n",
              "    </tr>\n",
              "    <tr>\n",
              "      <th>cargo</th>\n",
              "      <th></th>\n",
              "      <th></th>\n",
              "      <th></th>\n",
              "      <th></th>\n",
              "      <th></th>\n",
              "    </tr>\n",
              "  </thead>\n",
              "  <tbody>\n",
              "    <tr>\n",
              "      <th>Programador</th>\n",
              "      <td>28</td>\n",
              "      <td>45000</td>\n",
              "      <td>True</td>\n",
              "      <td>F</td>\n",
              "      <td>Terciario</td>\n",
              "    </tr>\n",
              "    <tr>\n",
              "      <th>Analista</th>\n",
              "      <td>34</td>\n",
              "      <td>78000</td>\n",
              "      <td>True</td>\n",
              "      <td>M</td>\n",
              "      <td>Terciario</td>\n",
              "    </tr>\n",
              "    <tr>\n",
              "      <th>Director</th>\n",
              "      <td>56</td>\n",
              "      <td>35000</td>\n",
              "      <td>True</td>\n",
              "      <td>M</td>\n",
              "      <td>Postgrado</td>\n",
              "    </tr>\n",
              "    <tr>\n",
              "      <th>Analista jr.</th>\n",
              "      <td>21</td>\n",
              "      <td>100000</td>\n",
              "      <td>True</td>\n",
              "      <td>F</td>\n",
              "      <td>Universitario</td>\n",
              "    </tr>\n",
              "    <tr>\n",
              "      <th>Secretaria</th>\n",
              "      <td>45</td>\n",
              "      <td>67000</td>\n",
              "      <td>True</td>\n",
              "      <td>F</td>\n",
              "      <td>Terciario</td>\n",
              "    </tr>\n",
              "    <tr>\n",
              "      <th>Programador</th>\n",
              "      <td>27</td>\n",
              "      <td>35000</td>\n",
              "      <td>True</td>\n",
              "      <td>M</td>\n",
              "      <td>Universitario</td>\n",
              "    </tr>\n",
              "    <tr>\n",
              "      <th>Programador</th>\n",
              "      <td>34</td>\n",
              "      <td>100000</td>\n",
              "      <td>True</td>\n",
              "      <td>F</td>\n",
              "      <td>Postgrado</td>\n",
              "    </tr>\n",
              "  </tbody>\n",
              "</table>\n",
              "</div>\n",
              "      <button class=\"colab-df-convert\" onclick=\"convertToInteractive('df-6d68be7d-e3cb-42b4-afa2-01582711ae23')\"\n",
              "              title=\"Convert this dataframe to an interactive table.\"\n",
              "              style=\"display:none;\">\n",
              "        \n",
              "  <svg xmlns=\"http://www.w3.org/2000/svg\" height=\"24px\"viewBox=\"0 0 24 24\"\n",
              "       width=\"24px\">\n",
              "    <path d=\"M0 0h24v24H0V0z\" fill=\"none\"/>\n",
              "    <path d=\"M18.56 5.44l.94 2.06.94-2.06 2.06-.94-2.06-.94-.94-2.06-.94 2.06-2.06.94zm-11 1L8.5 8.5l.94-2.06 2.06-.94-2.06-.94L8.5 2.5l-.94 2.06-2.06.94zm10 10l.94 2.06.94-2.06 2.06-.94-2.06-.94-.94-2.06-.94 2.06-2.06.94z\"/><path d=\"M17.41 7.96l-1.37-1.37c-.4-.4-.92-.59-1.43-.59-.52 0-1.04.2-1.43.59L10.3 9.45l-7.72 7.72c-.78.78-.78 2.05 0 2.83L4 21.41c.39.39.9.59 1.41.59.51 0 1.02-.2 1.41-.59l7.78-7.78 2.81-2.81c.8-.78.8-2.07 0-2.86zM5.41 20L4 18.59l7.72-7.72 1.47 1.35L5.41 20z\"/>\n",
              "  </svg>\n",
              "      </button>\n",
              "      \n",
              "  <style>\n",
              "    .colab-df-container {\n",
              "      display:flex;\n",
              "      flex-wrap:wrap;\n",
              "      gap: 12px;\n",
              "    }\n",
              "\n",
              "    .colab-df-convert {\n",
              "      background-color: #E8F0FE;\n",
              "      border: none;\n",
              "      border-radius: 50%;\n",
              "      cursor: pointer;\n",
              "      display: none;\n",
              "      fill: #1967D2;\n",
              "      height: 32px;\n",
              "      padding: 0 0 0 0;\n",
              "      width: 32px;\n",
              "    }\n",
              "\n",
              "    .colab-df-convert:hover {\n",
              "      background-color: #E2EBFA;\n",
              "      box-shadow: 0px 1px 2px rgba(60, 64, 67, 0.3), 0px 1px 3px 1px rgba(60, 64, 67, 0.15);\n",
              "      fill: #174EA6;\n",
              "    }\n",
              "\n",
              "    [theme=dark] .colab-df-convert {\n",
              "      background-color: #3B4455;\n",
              "      fill: #D2E3FC;\n",
              "    }\n",
              "\n",
              "    [theme=dark] .colab-df-convert:hover {\n",
              "      background-color: #434B5C;\n",
              "      box-shadow: 0px 1px 3px 1px rgba(0, 0, 0, 0.15);\n",
              "      filter: drop-shadow(0px 1px 2px rgba(0, 0, 0, 0.3));\n",
              "      fill: #FFFFFF;\n",
              "    }\n",
              "  </style>\n",
              "\n",
              "      <script>\n",
              "        const buttonEl =\n",
              "          document.querySelector('#df-6d68be7d-e3cb-42b4-afa2-01582711ae23 button.colab-df-convert');\n",
              "        buttonEl.style.display =\n",
              "          google.colab.kernel.accessAllowed ? 'block' : 'none';\n",
              "\n",
              "        async function convertToInteractive(key) {\n",
              "          const element = document.querySelector('#df-6d68be7d-e3cb-42b4-afa2-01582711ae23');\n",
              "          const dataTable =\n",
              "            await google.colab.kernel.invokeFunction('convertToInteractive',\n",
              "                                                     [key], {});\n",
              "          if (!dataTable) return;\n",
              "\n",
              "          const docLinkHtml = 'Like what you see? Visit the ' +\n",
              "            '<a target=\"_blank\" href=https://colab.research.google.com/notebooks/data_table.ipynb>data table notebook</a>'\n",
              "            + ' to learn more about interactive tables.';\n",
              "          element.innerHTML = '';\n",
              "          dataTable['output_type'] = 'display_data';\n",
              "          await google.colab.output.renderOutput(dataTable, element);\n",
              "          const docLink = document.createElement('div');\n",
              "          docLink.innerHTML = docLinkHtml;\n",
              "          element.appendChild(docLink);\n",
              "        }\n",
              "      </script>\n",
              "    </div>\n",
              "  </div>\n",
              "  "
            ],
            "text/plain": [
              "              edad  sueldo  Mayor18 genero       estudios\n",
              "cargo                                                    \n",
              "Programador     28   45000     True      F      Terciario\n",
              "Analista        34   78000     True      M      Terciario\n",
              "Director        56   35000     True      M      Postgrado\n",
              "Analista jr.    21  100000     True      F  Universitario\n",
              "Secretaria      45   67000     True      F      Terciario\n",
              "Programador     27   35000     True      M  Universitario\n",
              "Programador     34  100000     True      F      Postgrado"
            ]
          },
          "execution_count": 53,
          "metadata": {},
          "output_type": "execute_result"
        }
      ],
      "source": [
        "per=personas.set_index('cargo')\n",
        "per"
      ]
    },
    {
      "cell_type": "code",
      "execution_count": 54,
      "metadata": {
        "colab": {
          "base_uri": "https://localhost:8080/",
          "height": 206
        },
        "id": "i-lFtKuEIhra",
        "outputId": "af0f6b2e-c83d-4184-ac6b-8490c4a9450a"
      },
      "outputs": [
        {
          "data": {
            "text/html": [
              "\n",
              "  <div id=\"df-d6f36d39-3e88-4507-b437-07f6b27d37b8\">\n",
              "    <div class=\"colab-df-container\">\n",
              "      <div>\n",
              "<style scoped>\n",
              "    .dataframe tbody tr th:only-of-type {\n",
              "        vertical-align: middle;\n",
              "    }\n",
              "\n",
              "    .dataframe tbody tr th {\n",
              "        vertical-align: top;\n",
              "    }\n",
              "\n",
              "    .dataframe thead th {\n",
              "        text-align: right;\n",
              "    }\n",
              "</style>\n",
              "<table border=\"1\" class=\"dataframe\">\n",
              "  <thead>\n",
              "    <tr style=\"text-align: right;\">\n",
              "      <th></th>\n",
              "      <th>edad</th>\n",
              "      <th>sueldo</th>\n",
              "      <th>Mayor18</th>\n",
              "      <th>genero</th>\n",
              "      <th>estudios</th>\n",
              "    </tr>\n",
              "    <tr>\n",
              "      <th>cargo</th>\n",
              "      <th></th>\n",
              "      <th></th>\n",
              "      <th></th>\n",
              "      <th></th>\n",
              "      <th></th>\n",
              "    </tr>\n",
              "  </thead>\n",
              "  <tbody>\n",
              "    <tr>\n",
              "      <th>Analista</th>\n",
              "      <td>34</td>\n",
              "      <td>78000</td>\n",
              "      <td>True</td>\n",
              "      <td>M</td>\n",
              "      <td>Terciario</td>\n",
              "    </tr>\n",
              "    <tr>\n",
              "      <th>Director</th>\n",
              "      <td>56</td>\n",
              "      <td>35000</td>\n",
              "      <td>True</td>\n",
              "      <td>M</td>\n",
              "      <td>Postgrado</td>\n",
              "    </tr>\n",
              "    <tr>\n",
              "      <th>Analista jr.</th>\n",
              "      <td>21</td>\n",
              "      <td>100000</td>\n",
              "      <td>True</td>\n",
              "      <td>F</td>\n",
              "      <td>Universitario</td>\n",
              "    </tr>\n",
              "    <tr>\n",
              "      <th>Secretaria</th>\n",
              "      <td>45</td>\n",
              "      <td>67000</td>\n",
              "      <td>True</td>\n",
              "      <td>F</td>\n",
              "      <td>Terciario</td>\n",
              "    </tr>\n",
              "  </tbody>\n",
              "</table>\n",
              "</div>\n",
              "      <button class=\"colab-df-convert\" onclick=\"convertToInteractive('df-d6f36d39-3e88-4507-b437-07f6b27d37b8')\"\n",
              "              title=\"Convert this dataframe to an interactive table.\"\n",
              "              style=\"display:none;\">\n",
              "        \n",
              "  <svg xmlns=\"http://www.w3.org/2000/svg\" height=\"24px\"viewBox=\"0 0 24 24\"\n",
              "       width=\"24px\">\n",
              "    <path d=\"M0 0h24v24H0V0z\" fill=\"none\"/>\n",
              "    <path d=\"M18.56 5.44l.94 2.06.94-2.06 2.06-.94-2.06-.94-.94-2.06-.94 2.06-2.06.94zm-11 1L8.5 8.5l.94-2.06 2.06-.94-2.06-.94L8.5 2.5l-.94 2.06-2.06.94zm10 10l.94 2.06.94-2.06 2.06-.94-2.06-.94-.94-2.06-.94 2.06-2.06.94z\"/><path d=\"M17.41 7.96l-1.37-1.37c-.4-.4-.92-.59-1.43-.59-.52 0-1.04.2-1.43.59L10.3 9.45l-7.72 7.72c-.78.78-.78 2.05 0 2.83L4 21.41c.39.39.9.59 1.41.59.51 0 1.02-.2 1.41-.59l7.78-7.78 2.81-2.81c.8-.78.8-2.07 0-2.86zM5.41 20L4 18.59l7.72-7.72 1.47 1.35L5.41 20z\"/>\n",
              "  </svg>\n",
              "      </button>\n",
              "      \n",
              "  <style>\n",
              "    .colab-df-container {\n",
              "      display:flex;\n",
              "      flex-wrap:wrap;\n",
              "      gap: 12px;\n",
              "    }\n",
              "\n",
              "    .colab-df-convert {\n",
              "      background-color: #E8F0FE;\n",
              "      border: none;\n",
              "      border-radius: 50%;\n",
              "      cursor: pointer;\n",
              "      display: none;\n",
              "      fill: #1967D2;\n",
              "      height: 32px;\n",
              "      padding: 0 0 0 0;\n",
              "      width: 32px;\n",
              "    }\n",
              "\n",
              "    .colab-df-convert:hover {\n",
              "      background-color: #E2EBFA;\n",
              "      box-shadow: 0px 1px 2px rgba(60, 64, 67, 0.3), 0px 1px 3px 1px rgba(60, 64, 67, 0.15);\n",
              "      fill: #174EA6;\n",
              "    }\n",
              "\n",
              "    [theme=dark] .colab-df-convert {\n",
              "      background-color: #3B4455;\n",
              "      fill: #D2E3FC;\n",
              "    }\n",
              "\n",
              "    [theme=dark] .colab-df-convert:hover {\n",
              "      background-color: #434B5C;\n",
              "      box-shadow: 0px 1px 3px 1px rgba(0, 0, 0, 0.15);\n",
              "      filter: drop-shadow(0px 1px 2px rgba(0, 0, 0, 0.3));\n",
              "      fill: #FFFFFF;\n",
              "    }\n",
              "  </style>\n",
              "\n",
              "      <script>\n",
              "        const buttonEl =\n",
              "          document.querySelector('#df-d6f36d39-3e88-4507-b437-07f6b27d37b8 button.colab-df-convert');\n",
              "        buttonEl.style.display =\n",
              "          google.colab.kernel.accessAllowed ? 'block' : 'none';\n",
              "\n",
              "        async function convertToInteractive(key) {\n",
              "          const element = document.querySelector('#df-d6f36d39-3e88-4507-b437-07f6b27d37b8');\n",
              "          const dataTable =\n",
              "            await google.colab.kernel.invokeFunction('convertToInteractive',\n",
              "                                                     [key], {});\n",
              "          if (!dataTable) return;\n",
              "\n",
              "          const docLinkHtml = 'Like what you see? Visit the ' +\n",
              "            '<a target=\"_blank\" href=https://colab.research.google.com/notebooks/data_table.ipynb>data table notebook</a>'\n",
              "            + ' to learn more about interactive tables.';\n",
              "          element.innerHTML = '';\n",
              "          dataTable['output_type'] = 'display_data';\n",
              "          await google.colab.output.renderOutput(dataTable, element);\n",
              "          const docLink = document.createElement('div');\n",
              "          docLink.innerHTML = docLinkHtml;\n",
              "          element.appendChild(docLink);\n",
              "        }\n",
              "      </script>\n",
              "    </div>\n",
              "  </div>\n",
              "  "
            ],
            "text/plain": [
              "              edad  sueldo  Mayor18 genero       estudios\n",
              "cargo                                                    \n",
              "Analista        34   78000     True      M      Terciario\n",
              "Director        56   35000     True      M      Postgrado\n",
              "Analista jr.    21  100000     True      F  Universitario\n",
              "Secretaria      45   67000     True      F      Terciario"
            ]
          },
          "execution_count": 54,
          "metadata": {},
          "output_type": "execute_result"
        }
      ],
      "source": [
        "per.drop('Programador',axis=0)"
      ]
    },
    {
      "cell_type": "code",
      "execution_count": 55,
      "metadata": {
        "colab": {
          "base_uri": "https://localhost:8080/"
        },
        "id": "UuSNAEOwIhra",
        "outputId": "7c245f4a-5898-43a5-a72c-27da570bc958"
      },
      "outputs": [
        {
          "data": {
            "text/plain": [
              "34"
            ]
          },
          "execution_count": 55,
          "metadata": {},
          "output_type": "execute_result"
        }
      ],
      "source": [
        "per['edad']['Analista']"
      ]
    },
    {
      "cell_type": "markdown",
      "metadata": {
        "id": "EUCxrfupIhrb"
      },
      "source": [
        "### Ordenamiento\n",
        "__sort_values  by__ permite mostrar los datos ordenados"
      ]
    },
    {
      "cell_type": "code",
      "execution_count": 57,
      "metadata": {
        "colab": {
          "base_uri": "https://localhost:8080/",
          "height": 269
        },
        "id": "qaUWFX04Ihrb",
        "outputId": "b697dc98-c30e-4d62-a375-ac09af2d1674"
      },
      "outputs": [
        {
          "data": {
            "text/html": [
              "\n",
              "  <div id=\"df-640e3498-7419-4744-afd1-3fe3403c9c7c\">\n",
              "    <div class=\"colab-df-container\">\n",
              "      <div>\n",
              "<style scoped>\n",
              "    .dataframe tbody tr th:only-of-type {\n",
              "        vertical-align: middle;\n",
              "    }\n",
              "\n",
              "    .dataframe tbody tr th {\n",
              "        vertical-align: top;\n",
              "    }\n",
              "\n",
              "    .dataframe thead th {\n",
              "        text-align: right;\n",
              "    }\n",
              "</style>\n",
              "<table border=\"1\" class=\"dataframe\">\n",
              "  <thead>\n",
              "    <tr style=\"text-align: right;\">\n",
              "      <th></th>\n",
              "      <th>edad</th>\n",
              "      <th>sueldo</th>\n",
              "      <th>cargo</th>\n",
              "      <th>Mayor18</th>\n",
              "      <th>genero</th>\n",
              "      <th>estudios</th>\n",
              "    </tr>\n",
              "  </thead>\n",
              "  <tbody>\n",
              "    <tr>\n",
              "      <th>3</th>\n",
              "      <td>21</td>\n",
              "      <td>100000</td>\n",
              "      <td>Analista jr.</td>\n",
              "      <td>True</td>\n",
              "      <td>F</td>\n",
              "      <td>Universitario</td>\n",
              "    </tr>\n",
              "    <tr>\n",
              "      <th>6</th>\n",
              "      <td>34</td>\n",
              "      <td>100000</td>\n",
              "      <td>Programador</td>\n",
              "      <td>True</td>\n",
              "      <td>F</td>\n",
              "      <td>Postgrado</td>\n",
              "    </tr>\n",
              "    <tr>\n",
              "      <th>1</th>\n",
              "      <td>34</td>\n",
              "      <td>78000</td>\n",
              "      <td>Analista</td>\n",
              "      <td>True</td>\n",
              "      <td>M</td>\n",
              "      <td>Terciario</td>\n",
              "    </tr>\n",
              "    <tr>\n",
              "      <th>4</th>\n",
              "      <td>45</td>\n",
              "      <td>67000</td>\n",
              "      <td>Secretaria</td>\n",
              "      <td>True</td>\n",
              "      <td>F</td>\n",
              "      <td>Terciario</td>\n",
              "    </tr>\n",
              "    <tr>\n",
              "      <th>0</th>\n",
              "      <td>28</td>\n",
              "      <td>45000</td>\n",
              "      <td>Programador</td>\n",
              "      <td>True</td>\n",
              "      <td>F</td>\n",
              "      <td>Terciario</td>\n",
              "    </tr>\n",
              "    <tr>\n",
              "      <th>2</th>\n",
              "      <td>56</td>\n",
              "      <td>35000</td>\n",
              "      <td>Director</td>\n",
              "      <td>True</td>\n",
              "      <td>M</td>\n",
              "      <td>Postgrado</td>\n",
              "    </tr>\n",
              "    <tr>\n",
              "      <th>5</th>\n",
              "      <td>27</td>\n",
              "      <td>35000</td>\n",
              "      <td>Programador</td>\n",
              "      <td>True</td>\n",
              "      <td>M</td>\n",
              "      <td>Universitario</td>\n",
              "    </tr>\n",
              "  </tbody>\n",
              "</table>\n",
              "</div>\n",
              "      <button class=\"colab-df-convert\" onclick=\"convertToInteractive('df-640e3498-7419-4744-afd1-3fe3403c9c7c')\"\n",
              "              title=\"Convert this dataframe to an interactive table.\"\n",
              "              style=\"display:none;\">\n",
              "        \n",
              "  <svg xmlns=\"http://www.w3.org/2000/svg\" height=\"24px\"viewBox=\"0 0 24 24\"\n",
              "       width=\"24px\">\n",
              "    <path d=\"M0 0h24v24H0V0z\" fill=\"none\"/>\n",
              "    <path d=\"M18.56 5.44l.94 2.06.94-2.06 2.06-.94-2.06-.94-.94-2.06-.94 2.06-2.06.94zm-11 1L8.5 8.5l.94-2.06 2.06-.94-2.06-.94L8.5 2.5l-.94 2.06-2.06.94zm10 10l.94 2.06.94-2.06 2.06-.94-2.06-.94-.94-2.06-.94 2.06-2.06.94z\"/><path d=\"M17.41 7.96l-1.37-1.37c-.4-.4-.92-.59-1.43-.59-.52 0-1.04.2-1.43.59L10.3 9.45l-7.72 7.72c-.78.78-.78 2.05 0 2.83L4 21.41c.39.39.9.59 1.41.59.51 0 1.02-.2 1.41-.59l7.78-7.78 2.81-2.81c.8-.78.8-2.07 0-2.86zM5.41 20L4 18.59l7.72-7.72 1.47 1.35L5.41 20z\"/>\n",
              "  </svg>\n",
              "      </button>\n",
              "      \n",
              "  <style>\n",
              "    .colab-df-container {\n",
              "      display:flex;\n",
              "      flex-wrap:wrap;\n",
              "      gap: 12px;\n",
              "    }\n",
              "\n",
              "    .colab-df-convert {\n",
              "      background-color: #E8F0FE;\n",
              "      border: none;\n",
              "      border-radius: 50%;\n",
              "      cursor: pointer;\n",
              "      display: none;\n",
              "      fill: #1967D2;\n",
              "      height: 32px;\n",
              "      padding: 0 0 0 0;\n",
              "      width: 32px;\n",
              "    }\n",
              "\n",
              "    .colab-df-convert:hover {\n",
              "      background-color: #E2EBFA;\n",
              "      box-shadow: 0px 1px 2px rgba(60, 64, 67, 0.3), 0px 1px 3px 1px rgba(60, 64, 67, 0.15);\n",
              "      fill: #174EA6;\n",
              "    }\n",
              "\n",
              "    [theme=dark] .colab-df-convert {\n",
              "      background-color: #3B4455;\n",
              "      fill: #D2E3FC;\n",
              "    }\n",
              "\n",
              "    [theme=dark] .colab-df-convert:hover {\n",
              "      background-color: #434B5C;\n",
              "      box-shadow: 0px 1px 3px 1px rgba(0, 0, 0, 0.15);\n",
              "      filter: drop-shadow(0px 1px 2px rgba(0, 0, 0, 0.3));\n",
              "      fill: #FFFFFF;\n",
              "    }\n",
              "  </style>\n",
              "\n",
              "      <script>\n",
              "        const buttonEl =\n",
              "          document.querySelector('#df-640e3498-7419-4744-afd1-3fe3403c9c7c button.colab-df-convert');\n",
              "        buttonEl.style.display =\n",
              "          google.colab.kernel.accessAllowed ? 'block' : 'none';\n",
              "\n",
              "        async function convertToInteractive(key) {\n",
              "          const element = document.querySelector('#df-640e3498-7419-4744-afd1-3fe3403c9c7c');\n",
              "          const dataTable =\n",
              "            await google.colab.kernel.invokeFunction('convertToInteractive',\n",
              "                                                     [key], {});\n",
              "          if (!dataTable) return;\n",
              "\n",
              "          const docLinkHtml = 'Like what you see? Visit the ' +\n",
              "            '<a target=\"_blank\" href=https://colab.research.google.com/notebooks/data_table.ipynb>data table notebook</a>'\n",
              "            + ' to learn more about interactive tables.';\n",
              "          element.innerHTML = '';\n",
              "          dataTable['output_type'] = 'display_data';\n",
              "          await google.colab.output.renderOutput(dataTable, element);\n",
              "          const docLink = document.createElement('div');\n",
              "          docLink.innerHTML = docLinkHtml;\n",
              "          element.appendChild(docLink);\n",
              "        }\n",
              "      </script>\n",
              "    </div>\n",
              "  </div>\n",
              "  "
            ],
            "text/plain": [
              "   edad  sueldo         cargo  Mayor18 genero       estudios\n",
              "3    21  100000  Analista jr.     True      F  Universitario\n",
              "6    34  100000   Programador     True      F      Postgrado\n",
              "1    34   78000      Analista     True      M      Terciario\n",
              "4    45   67000    Secretaria     True      F      Terciario\n",
              "0    28   45000   Programador     True      F      Terciario\n",
              "2    56   35000      Director     True      M      Postgrado\n",
              "5    27   35000   Programador     True      M  Universitario"
            ]
          },
          "execution_count": 57,
          "metadata": {},
          "output_type": "execute_result"
        }
      ],
      "source": [
        "personas.sort_values(by=['sueldo'],ascending=False)\n",
        "#Probar con el parámetro ascending=False, "
      ]
    },
    {
      "cell_type": "code",
      "execution_count": 59,
      "metadata": {
        "colab": {
          "base_uri": "https://localhost:8080/",
          "height": 269
        },
        "id": "2FnnN5XrIhrb",
        "outputId": "d1f00c1c-017c-48fa-cfe3-dd0aeb226693"
      },
      "outputs": [
        {
          "data": {
            "text/html": [
              "\n",
              "  <div id=\"df-11d802d2-848b-4a08-8d1d-1bfbf84b8f45\">\n",
              "    <div class=\"colab-df-container\">\n",
              "      <div>\n",
              "<style scoped>\n",
              "    .dataframe tbody tr th:only-of-type {\n",
              "        vertical-align: middle;\n",
              "    }\n",
              "\n",
              "    .dataframe tbody tr th {\n",
              "        vertical-align: top;\n",
              "    }\n",
              "\n",
              "    .dataframe thead th {\n",
              "        text-align: right;\n",
              "    }\n",
              "</style>\n",
              "<table border=\"1\" class=\"dataframe\">\n",
              "  <thead>\n",
              "    <tr style=\"text-align: right;\">\n",
              "      <th></th>\n",
              "      <th>edad</th>\n",
              "      <th>sueldo</th>\n",
              "      <th>cargo</th>\n",
              "      <th>Mayor18</th>\n",
              "      <th>genero</th>\n",
              "      <th>estudios</th>\n",
              "    </tr>\n",
              "  </thead>\n",
              "  <tbody>\n",
              "    <tr>\n",
              "      <th>4</th>\n",
              "      <td>45</td>\n",
              "      <td>67000</td>\n",
              "      <td>Secretaria</td>\n",
              "      <td>True</td>\n",
              "      <td>F</td>\n",
              "      <td>Terciario</td>\n",
              "    </tr>\n",
              "    <tr>\n",
              "      <th>5</th>\n",
              "      <td>27</td>\n",
              "      <td>35000</td>\n",
              "      <td>Programador</td>\n",
              "      <td>True</td>\n",
              "      <td>M</td>\n",
              "      <td>Universitario</td>\n",
              "    </tr>\n",
              "    <tr>\n",
              "      <th>0</th>\n",
              "      <td>28</td>\n",
              "      <td>45000</td>\n",
              "      <td>Programador</td>\n",
              "      <td>True</td>\n",
              "      <td>F</td>\n",
              "      <td>Terciario</td>\n",
              "    </tr>\n",
              "    <tr>\n",
              "      <th>6</th>\n",
              "      <td>34</td>\n",
              "      <td>100000</td>\n",
              "      <td>Programador</td>\n",
              "      <td>True</td>\n",
              "      <td>F</td>\n",
              "      <td>Postgrado</td>\n",
              "    </tr>\n",
              "    <tr>\n",
              "      <th>2</th>\n",
              "      <td>56</td>\n",
              "      <td>35000</td>\n",
              "      <td>Director</td>\n",
              "      <td>True</td>\n",
              "      <td>M</td>\n",
              "      <td>Postgrado</td>\n",
              "    </tr>\n",
              "    <tr>\n",
              "      <th>3</th>\n",
              "      <td>21</td>\n",
              "      <td>100000</td>\n",
              "      <td>Analista jr.</td>\n",
              "      <td>True</td>\n",
              "      <td>F</td>\n",
              "      <td>Universitario</td>\n",
              "    </tr>\n",
              "    <tr>\n",
              "      <th>1</th>\n",
              "      <td>34</td>\n",
              "      <td>78000</td>\n",
              "      <td>Analista</td>\n",
              "      <td>True</td>\n",
              "      <td>M</td>\n",
              "      <td>Terciario</td>\n",
              "    </tr>\n",
              "  </tbody>\n",
              "</table>\n",
              "</div>\n",
              "      <button class=\"colab-df-convert\" onclick=\"convertToInteractive('df-11d802d2-848b-4a08-8d1d-1bfbf84b8f45')\"\n",
              "              title=\"Convert this dataframe to an interactive table.\"\n",
              "              style=\"display:none;\">\n",
              "        \n",
              "  <svg xmlns=\"http://www.w3.org/2000/svg\" height=\"24px\"viewBox=\"0 0 24 24\"\n",
              "       width=\"24px\">\n",
              "    <path d=\"M0 0h24v24H0V0z\" fill=\"none\"/>\n",
              "    <path d=\"M18.56 5.44l.94 2.06.94-2.06 2.06-.94-2.06-.94-.94-2.06-.94 2.06-2.06.94zm-11 1L8.5 8.5l.94-2.06 2.06-.94-2.06-.94L8.5 2.5l-.94 2.06-2.06.94zm10 10l.94 2.06.94-2.06 2.06-.94-2.06-.94-.94-2.06-.94 2.06-2.06.94z\"/><path d=\"M17.41 7.96l-1.37-1.37c-.4-.4-.92-.59-1.43-.59-.52 0-1.04.2-1.43.59L10.3 9.45l-7.72 7.72c-.78.78-.78 2.05 0 2.83L4 21.41c.39.39.9.59 1.41.59.51 0 1.02-.2 1.41-.59l7.78-7.78 2.81-2.81c.8-.78.8-2.07 0-2.86zM5.41 20L4 18.59l7.72-7.72 1.47 1.35L5.41 20z\"/>\n",
              "  </svg>\n",
              "      </button>\n",
              "      \n",
              "  <style>\n",
              "    .colab-df-container {\n",
              "      display:flex;\n",
              "      flex-wrap:wrap;\n",
              "      gap: 12px;\n",
              "    }\n",
              "\n",
              "    .colab-df-convert {\n",
              "      background-color: #E8F0FE;\n",
              "      border: none;\n",
              "      border-radius: 50%;\n",
              "      cursor: pointer;\n",
              "      display: none;\n",
              "      fill: #1967D2;\n",
              "      height: 32px;\n",
              "      padding: 0 0 0 0;\n",
              "      width: 32px;\n",
              "    }\n",
              "\n",
              "    .colab-df-convert:hover {\n",
              "      background-color: #E2EBFA;\n",
              "      box-shadow: 0px 1px 2px rgba(60, 64, 67, 0.3), 0px 1px 3px 1px rgba(60, 64, 67, 0.15);\n",
              "      fill: #174EA6;\n",
              "    }\n",
              "\n",
              "    [theme=dark] .colab-df-convert {\n",
              "      background-color: #3B4455;\n",
              "      fill: #D2E3FC;\n",
              "    }\n",
              "\n",
              "    [theme=dark] .colab-df-convert:hover {\n",
              "      background-color: #434B5C;\n",
              "      box-shadow: 0px 1px 3px 1px rgba(0, 0, 0, 0.15);\n",
              "      filter: drop-shadow(0px 1px 2px rgba(0, 0, 0, 0.3));\n",
              "      fill: #FFFFFF;\n",
              "    }\n",
              "  </style>\n",
              "\n",
              "      <script>\n",
              "        const buttonEl =\n",
              "          document.querySelector('#df-11d802d2-848b-4a08-8d1d-1bfbf84b8f45 button.colab-df-convert');\n",
              "        buttonEl.style.display =\n",
              "          google.colab.kernel.accessAllowed ? 'block' : 'none';\n",
              "\n",
              "        async function convertToInteractive(key) {\n",
              "          const element = document.querySelector('#df-11d802d2-848b-4a08-8d1d-1bfbf84b8f45');\n",
              "          const dataTable =\n",
              "            await google.colab.kernel.invokeFunction('convertToInteractive',\n",
              "                                                     [key], {});\n",
              "          if (!dataTable) return;\n",
              "\n",
              "          const docLinkHtml = 'Like what you see? Visit the ' +\n",
              "            '<a target=\"_blank\" href=https://colab.research.google.com/notebooks/data_table.ipynb>data table notebook</a>'\n",
              "            + ' to learn more about interactive tables.';\n",
              "          element.innerHTML = '';\n",
              "          dataTable['output_type'] = 'display_data';\n",
              "          await google.colab.output.renderOutput(dataTable, element);\n",
              "          const docLink = document.createElement('div');\n",
              "          docLink.innerHTML = docLinkHtml;\n",
              "          element.appendChild(docLink);\n",
              "        }\n",
              "      </script>\n",
              "    </div>\n",
              "  </div>\n",
              "  "
            ],
            "text/plain": [
              "   edad  sueldo         cargo  Mayor18 genero       estudios\n",
              "4    45   67000    Secretaria     True      F      Terciario\n",
              "5    27   35000   Programador     True      M  Universitario\n",
              "0    28   45000   Programador     True      F      Terciario\n",
              "6    34  100000   Programador     True      F      Postgrado\n",
              "2    56   35000      Director     True      M      Postgrado\n",
              "3    21  100000  Analista jr.     True      F  Universitario\n",
              "1    34   78000      Analista     True      M      Terciario"
            ]
          },
          "execution_count": 59,
          "metadata": {},
          "output_type": "execute_result"
        }
      ],
      "source": [
        "#ordenar por cargo y edad\n",
        "personas.sort_values(by=['cargo','edad'],ascending=[False,True])"
      ]
    },
    {
      "cell_type": "markdown",
      "metadata": {
        "id": "Gd65zIG4gHQd"
      },
      "source": [
        "# Para practicar\n",
        "\n",
        "1. Leer el archivo csv **europe.csv** en un dataframe llamado **eur**\n"
      ]
    },
    {
      "cell_type": "code",
      "execution_count": 2,
      "metadata": {
        "colab": {
          "base_uri": "https://localhost:8080/",
          "height": 927
        },
        "id": "9SLRqS0Lgjd2",
        "outputId": "683c706b-04ef-4dcb-e5b1-7b376320a23d"
      },
      "outputs": [
        {
          "data": {
            "text/html": [
              "<div>\n",
              "<style scoped>\n",
              "    .dataframe tbody tr th:only-of-type {\n",
              "        vertical-align: middle;\n",
              "    }\n",
              "\n",
              "    .dataframe tbody tr th {\n",
              "        vertical-align: top;\n",
              "    }\n",
              "\n",
              "    .dataframe thead th {\n",
              "        text-align: right;\n",
              "    }\n",
              "</style>\n",
              "<table border=\"1\" class=\"dataframe\">\n",
              "  <thead>\n",
              "    <tr style=\"text-align: right;\">\n",
              "      <th></th>\n",
              "      <th>Country</th>\n",
              "      <th>Area</th>\n",
              "      <th>GDP</th>\n",
              "      <th>Inflation</th>\n",
              "      <th>Life.expect</th>\n",
              "      <th>Military</th>\n",
              "      <th>Pop.growth</th>\n",
              "      <th>Unemployment</th>\n",
              "    </tr>\n",
              "  </thead>\n",
              "  <tbody>\n",
              "    <tr>\n",
              "      <th>0</th>\n",
              "      <td>Austria</td>\n",
              "      <td>83871</td>\n",
              "      <td>41600</td>\n",
              "      <td>3.5</td>\n",
              "      <td>79.91</td>\n",
              "      <td>0.80</td>\n",
              "      <td>0.03</td>\n",
              "      <td>4.2</td>\n",
              "    </tr>\n",
              "    <tr>\n",
              "      <th>1</th>\n",
              "      <td>Belgium</td>\n",
              "      <td>30528</td>\n",
              "      <td>37800</td>\n",
              "      <td>3.5</td>\n",
              "      <td>79.65</td>\n",
              "      <td>1.30</td>\n",
              "      <td>0.06</td>\n",
              "      <td>7.2</td>\n",
              "    </tr>\n",
              "    <tr>\n",
              "      <th>2</th>\n",
              "      <td>Bulgaria</td>\n",
              "      <td>110879</td>\n",
              "      <td>13800</td>\n",
              "      <td>4.2</td>\n",
              "      <td>73.84</td>\n",
              "      <td>2.60</td>\n",
              "      <td>-0.80</td>\n",
              "      <td>9.6</td>\n",
              "    </tr>\n",
              "    <tr>\n",
              "      <th>3</th>\n",
              "      <td>Croatia</td>\n",
              "      <td>56594</td>\n",
              "      <td>18000</td>\n",
              "      <td>2.3</td>\n",
              "      <td>75.99</td>\n",
              "      <td>2.39</td>\n",
              "      <td>-0.09</td>\n",
              "      <td>17.7</td>\n",
              "    </tr>\n",
              "    <tr>\n",
              "      <th>4</th>\n",
              "      <td>Czech Republic</td>\n",
              "      <td>78867</td>\n",
              "      <td>27100</td>\n",
              "      <td>1.9</td>\n",
              "      <td>77.38</td>\n",
              "      <td>1.15</td>\n",
              "      <td>-0.13</td>\n",
              "      <td>8.5</td>\n",
              "    </tr>\n",
              "    <tr>\n",
              "      <th>5</th>\n",
              "      <td>Denmark</td>\n",
              "      <td>43094</td>\n",
              "      <td>37000</td>\n",
              "      <td>2.8</td>\n",
              "      <td>78.78</td>\n",
              "      <td>1.30</td>\n",
              "      <td>0.24</td>\n",
              "      <td>6.1</td>\n",
              "    </tr>\n",
              "    <tr>\n",
              "      <th>6</th>\n",
              "      <td>Estonia</td>\n",
              "      <td>45228</td>\n",
              "      <td>20400</td>\n",
              "      <td>5.0</td>\n",
              "      <td>73.58</td>\n",
              "      <td>2.00</td>\n",
              "      <td>-0.65</td>\n",
              "      <td>12.5</td>\n",
              "    </tr>\n",
              "    <tr>\n",
              "      <th>7</th>\n",
              "      <td>Finland</td>\n",
              "      <td>338145</td>\n",
              "      <td>36000</td>\n",
              "      <td>3.3</td>\n",
              "      <td>79.41</td>\n",
              "      <td>2.00</td>\n",
              "      <td>0.07</td>\n",
              "      <td>7.8</td>\n",
              "    </tr>\n",
              "    <tr>\n",
              "      <th>8</th>\n",
              "      <td>Germany</td>\n",
              "      <td>357022</td>\n",
              "      <td>38100</td>\n",
              "      <td>2.5</td>\n",
              "      <td>80.19</td>\n",
              "      <td>1.50</td>\n",
              "      <td>-0.20</td>\n",
              "      <td>6.0</td>\n",
              "    </tr>\n",
              "    <tr>\n",
              "      <th>9</th>\n",
              "      <td>Greece</td>\n",
              "      <td>131957</td>\n",
              "      <td>26300</td>\n",
              "      <td>3.3</td>\n",
              "      <td>80.05</td>\n",
              "      <td>4.30</td>\n",
              "      <td>0.06</td>\n",
              "      <td>17.4</td>\n",
              "    </tr>\n",
              "    <tr>\n",
              "      <th>10</th>\n",
              "      <td>Hungary</td>\n",
              "      <td>93028</td>\n",
              "      <td>19600</td>\n",
              "      <td>3.9</td>\n",
              "      <td>75.02</td>\n",
              "      <td>1.75</td>\n",
              "      <td>-0.18</td>\n",
              "      <td>10.9</td>\n",
              "    </tr>\n",
              "    <tr>\n",
              "      <th>11</th>\n",
              "      <td>Iceland</td>\n",
              "      <td>103000</td>\n",
              "      <td>38100</td>\n",
              "      <td>4.0</td>\n",
              "      <td>81.00</td>\n",
              "      <td>0.00</td>\n",
              "      <td>0.67</td>\n",
              "      <td>7.4</td>\n",
              "    </tr>\n",
              "    <tr>\n",
              "      <th>12</th>\n",
              "      <td>Ireland</td>\n",
              "      <td>70273</td>\n",
              "      <td>40800</td>\n",
              "      <td>2.6</td>\n",
              "      <td>80.32</td>\n",
              "      <td>0.90</td>\n",
              "      <td>1.11</td>\n",
              "      <td>14.4</td>\n",
              "    </tr>\n",
              "    <tr>\n",
              "      <th>13</th>\n",
              "      <td>Italy</td>\n",
              "      <td>301340</td>\n",
              "      <td>30500</td>\n",
              "      <td>2.9</td>\n",
              "      <td>81.86</td>\n",
              "      <td>1.80</td>\n",
              "      <td>0.38</td>\n",
              "      <td>8.4</td>\n",
              "    </tr>\n",
              "    <tr>\n",
              "      <th>14</th>\n",
              "      <td>Latvia</td>\n",
              "      <td>64589</td>\n",
              "      <td>16800</td>\n",
              "      <td>4.4</td>\n",
              "      <td>72.93</td>\n",
              "      <td>1.10</td>\n",
              "      <td>-0.60</td>\n",
              "      <td>12.8</td>\n",
              "    </tr>\n",
              "    <tr>\n",
              "      <th>15</th>\n",
              "      <td>Lithuania</td>\n",
              "      <td>65300</td>\n",
              "      <td>19100</td>\n",
              "      <td>4.1</td>\n",
              "      <td>75.55</td>\n",
              "      <td>0.90</td>\n",
              "      <td>-0.28</td>\n",
              "      <td>15.4</td>\n",
              "    </tr>\n",
              "    <tr>\n",
              "      <th>16</th>\n",
              "      <td>Luxembourg</td>\n",
              "      <td>2586</td>\n",
              "      <td>80600</td>\n",
              "      <td>3.4</td>\n",
              "      <td>79.75</td>\n",
              "      <td>0.90</td>\n",
              "      <td>1.14</td>\n",
              "      <td>5.7</td>\n",
              "    </tr>\n",
              "    <tr>\n",
              "      <th>17</th>\n",
              "      <td>Netherlands</td>\n",
              "      <td>41543</td>\n",
              "      <td>42000</td>\n",
              "      <td>2.3</td>\n",
              "      <td>80.91</td>\n",
              "      <td>1.60</td>\n",
              "      <td>0.45</td>\n",
              "      <td>4.4</td>\n",
              "    </tr>\n",
              "    <tr>\n",
              "      <th>18</th>\n",
              "      <td>Norway</td>\n",
              "      <td>323802</td>\n",
              "      <td>53400</td>\n",
              "      <td>1.3</td>\n",
              "      <td>80.32</td>\n",
              "      <td>1.90</td>\n",
              "      <td>0.33</td>\n",
              "      <td>3.3</td>\n",
              "    </tr>\n",
              "    <tr>\n",
              "      <th>19</th>\n",
              "      <td>Poland</td>\n",
              "      <td>312685</td>\n",
              "      <td>20200</td>\n",
              "      <td>4.2</td>\n",
              "      <td>76.25</td>\n",
              "      <td>1.90</td>\n",
              "      <td>-0.08</td>\n",
              "      <td>12.4</td>\n",
              "    </tr>\n",
              "    <tr>\n",
              "      <th>20</th>\n",
              "      <td>Portugal</td>\n",
              "      <td>92090</td>\n",
              "      <td>23400</td>\n",
              "      <td>3.7</td>\n",
              "      <td>78.70</td>\n",
              "      <td>2.30</td>\n",
              "      <td>0.18</td>\n",
              "      <td>12.7</td>\n",
              "    </tr>\n",
              "    <tr>\n",
              "      <th>21</th>\n",
              "      <td>Slovakia</td>\n",
              "      <td>49035</td>\n",
              "      <td>23300</td>\n",
              "      <td>3.9</td>\n",
              "      <td>76.03</td>\n",
              "      <td>1.08</td>\n",
              "      <td>0.10</td>\n",
              "      <td>13.2</td>\n",
              "    </tr>\n",
              "    <tr>\n",
              "      <th>22</th>\n",
              "      <td>Slovenia</td>\n",
              "      <td>20273</td>\n",
              "      <td>28800</td>\n",
              "      <td>1.8</td>\n",
              "      <td>77.48</td>\n",
              "      <td>1.70</td>\n",
              "      <td>-0.19</td>\n",
              "      <td>11.8</td>\n",
              "    </tr>\n",
              "    <tr>\n",
              "      <th>23</th>\n",
              "      <td>Spain</td>\n",
              "      <td>505370</td>\n",
              "      <td>30500</td>\n",
              "      <td>3.1</td>\n",
              "      <td>81.27</td>\n",
              "      <td>1.20</td>\n",
              "      <td>0.65</td>\n",
              "      <td>21.7</td>\n",
              "    </tr>\n",
              "    <tr>\n",
              "      <th>24</th>\n",
              "      <td>Sweden</td>\n",
              "      <td>450295</td>\n",
              "      <td>40700</td>\n",
              "      <td>3.0</td>\n",
              "      <td>81.18</td>\n",
              "      <td>1.50</td>\n",
              "      <td>0.17</td>\n",
              "      <td>7.5</td>\n",
              "    </tr>\n",
              "    <tr>\n",
              "      <th>25</th>\n",
              "      <td>Switzerland</td>\n",
              "      <td>41277</td>\n",
              "      <td>44500</td>\n",
              "      <td>0.2</td>\n",
              "      <td>81.17</td>\n",
              "      <td>1.00</td>\n",
              "      <td>0.92</td>\n",
              "      <td>2.8</td>\n",
              "    </tr>\n",
              "    <tr>\n",
              "      <th>26</th>\n",
              "      <td>Ukraine</td>\n",
              "      <td>603550</td>\n",
              "      <td>7200</td>\n",
              "      <td>8.0</td>\n",
              "      <td>68.74</td>\n",
              "      <td>1.40</td>\n",
              "      <td>-0.63</td>\n",
              "      <td>7.9</td>\n",
              "    </tr>\n",
              "    <tr>\n",
              "      <th>27</th>\n",
              "      <td>United Kingdom</td>\n",
              "      <td>243610</td>\n",
              "      <td>36500</td>\n",
              "      <td>4.5</td>\n",
              "      <td>80.17</td>\n",
              "      <td>2.70</td>\n",
              "      <td>0.55</td>\n",
              "      <td>8.1</td>\n",
              "    </tr>\n",
              "  </tbody>\n",
              "</table>\n",
              "</div>"
            ],
            "text/plain": [
              "           Country    Area    GDP  Inflation  Life.expect  Military  \\\n",
              "0          Austria   83871  41600        3.5        79.91      0.80   \n",
              "1          Belgium   30528  37800        3.5        79.65      1.30   \n",
              "2         Bulgaria  110879  13800        4.2        73.84      2.60   \n",
              "3          Croatia   56594  18000        2.3        75.99      2.39   \n",
              "4   Czech Republic   78867  27100        1.9        77.38      1.15   \n",
              "5          Denmark   43094  37000        2.8        78.78      1.30   \n",
              "6          Estonia   45228  20400        5.0        73.58      2.00   \n",
              "7          Finland  338145  36000        3.3        79.41      2.00   \n",
              "8          Germany  357022  38100        2.5        80.19      1.50   \n",
              "9           Greece  131957  26300        3.3        80.05      4.30   \n",
              "10         Hungary   93028  19600        3.9        75.02      1.75   \n",
              "11         Iceland  103000  38100        4.0        81.00      0.00   \n",
              "12         Ireland   70273  40800        2.6        80.32      0.90   \n",
              "13           Italy  301340  30500        2.9        81.86      1.80   \n",
              "14          Latvia   64589  16800        4.4        72.93      1.10   \n",
              "15       Lithuania   65300  19100        4.1        75.55      0.90   \n",
              "16      Luxembourg    2586  80600        3.4        79.75      0.90   \n",
              "17     Netherlands   41543  42000        2.3        80.91      1.60   \n",
              "18          Norway  323802  53400        1.3        80.32      1.90   \n",
              "19          Poland  312685  20200        4.2        76.25      1.90   \n",
              "20        Portugal   92090  23400        3.7        78.70      2.30   \n",
              "21        Slovakia   49035  23300        3.9        76.03      1.08   \n",
              "22        Slovenia   20273  28800        1.8        77.48      1.70   \n",
              "23           Spain  505370  30500        3.1        81.27      1.20   \n",
              "24          Sweden  450295  40700        3.0        81.18      1.50   \n",
              "25     Switzerland   41277  44500        0.2        81.17      1.00   \n",
              "26         Ukraine  603550   7200        8.0        68.74      1.40   \n",
              "27  United Kingdom  243610  36500        4.5        80.17      2.70   \n",
              "\n",
              "    Pop.growth  Unemployment  \n",
              "0         0.03           4.2  \n",
              "1         0.06           7.2  \n",
              "2        -0.80           9.6  \n",
              "3        -0.09          17.7  \n",
              "4        -0.13           8.5  \n",
              "5         0.24           6.1  \n",
              "6        -0.65          12.5  \n",
              "7         0.07           7.8  \n",
              "8        -0.20           6.0  \n",
              "9         0.06          17.4  \n",
              "10       -0.18          10.9  \n",
              "11        0.67           7.4  \n",
              "12        1.11          14.4  \n",
              "13        0.38           8.4  \n",
              "14       -0.60          12.8  \n",
              "15       -0.28          15.4  \n",
              "16        1.14           5.7  \n",
              "17        0.45           4.4  \n",
              "18        0.33           3.3  \n",
              "19       -0.08          12.4  \n",
              "20        0.18          12.7  \n",
              "21        0.10          13.2  \n",
              "22       -0.19          11.8  \n",
              "23        0.65          21.7  \n",
              "24        0.17           7.5  \n",
              "25        0.92           2.8  \n",
              "26       -0.63           7.9  \n",
              "27        0.55           8.1  "
            ]
          },
          "execution_count": 2,
          "metadata": {},
          "output_type": "execute_result"
        }
      ],
      "source": [
        "import pandas as pd\n",
        "eur=pd.read_csv('europe.csv')\n",
        "eur"
      ]
    },
    {
      "cell_type": "markdown",
      "metadata": {
        "id": "YNeoQs9ngkpC"
      },
      "source": [
        "2. Mostrar solo las filas de los países cuya desempleo es mayor que 15"
      ]
    },
    {
      "cell_type": "code",
      "execution_count": 3,
      "metadata": {
        "id": "Bc78EtVPg88x"
      },
      "outputs": [
        {
          "data": {
            "text/html": [
              "<div>\n",
              "<style scoped>\n",
              "    .dataframe tbody tr th:only-of-type {\n",
              "        vertical-align: middle;\n",
              "    }\n",
              "\n",
              "    .dataframe tbody tr th {\n",
              "        vertical-align: top;\n",
              "    }\n",
              "\n",
              "    .dataframe thead th {\n",
              "        text-align: right;\n",
              "    }\n",
              "</style>\n",
              "<table border=\"1\" class=\"dataframe\">\n",
              "  <thead>\n",
              "    <tr style=\"text-align: right;\">\n",
              "      <th></th>\n",
              "      <th>Country</th>\n",
              "      <th>Area</th>\n",
              "      <th>GDP</th>\n",
              "      <th>Inflation</th>\n",
              "      <th>Life.expect</th>\n",
              "      <th>Military</th>\n",
              "      <th>Pop.growth</th>\n",
              "      <th>Unemployment</th>\n",
              "    </tr>\n",
              "  </thead>\n",
              "  <tbody>\n",
              "    <tr>\n",
              "      <th>3</th>\n",
              "      <td>Croatia</td>\n",
              "      <td>56594</td>\n",
              "      <td>18000</td>\n",
              "      <td>2.3</td>\n",
              "      <td>75.99</td>\n",
              "      <td>2.39</td>\n",
              "      <td>-0.09</td>\n",
              "      <td>17.7</td>\n",
              "    </tr>\n",
              "    <tr>\n",
              "      <th>9</th>\n",
              "      <td>Greece</td>\n",
              "      <td>131957</td>\n",
              "      <td>26300</td>\n",
              "      <td>3.3</td>\n",
              "      <td>80.05</td>\n",
              "      <td>4.30</td>\n",
              "      <td>0.06</td>\n",
              "      <td>17.4</td>\n",
              "    </tr>\n",
              "    <tr>\n",
              "      <th>15</th>\n",
              "      <td>Lithuania</td>\n",
              "      <td>65300</td>\n",
              "      <td>19100</td>\n",
              "      <td>4.1</td>\n",
              "      <td>75.55</td>\n",
              "      <td>0.90</td>\n",
              "      <td>-0.28</td>\n",
              "      <td>15.4</td>\n",
              "    </tr>\n",
              "    <tr>\n",
              "      <th>23</th>\n",
              "      <td>Spain</td>\n",
              "      <td>505370</td>\n",
              "      <td>30500</td>\n",
              "      <td>3.1</td>\n",
              "      <td>81.27</td>\n",
              "      <td>1.20</td>\n",
              "      <td>0.65</td>\n",
              "      <td>21.7</td>\n",
              "    </tr>\n",
              "  </tbody>\n",
              "</table>\n",
              "</div>"
            ],
            "text/plain": [
              "      Country    Area    GDP  Inflation  Life.expect  Military  Pop.growth  \\\n",
              "3     Croatia   56594  18000        2.3        75.99      2.39       -0.09   \n",
              "9      Greece  131957  26300        3.3        80.05      4.30        0.06   \n",
              "15  Lithuania   65300  19100        4.1        75.55      0.90       -0.28   \n",
              "23      Spain  505370  30500        3.1        81.27      1.20        0.65   \n",
              "\n",
              "    Unemployment  \n",
              "3           17.7  \n",
              "9           17.4  \n",
              "15          15.4  \n",
              "23          21.7  "
            ]
          },
          "execution_count": 3,
          "metadata": {},
          "output_type": "execute_result"
        }
      ],
      "source": [
        "eur[ eur[\"Unemployment\"]>15 ]"
      ]
    },
    {
      "cell_type": "markdown",
      "metadata": {
        "id": "-htYS7FqhEPV"
      },
      "source": [
        "3. Mostrar aquellos países cuyo PBI (GPD) sea mayor que 30000 y con crecimiento poblacional negativo."
      ]
    },
    {
      "cell_type": "code",
      "execution_count": 5,
      "metadata": {
        "id": "JIZ48MO4hOV0"
      },
      "outputs": [
        {
          "data": {
            "text/html": [
              "<div>\n",
              "<style scoped>\n",
              "    .dataframe tbody tr th:only-of-type {\n",
              "        vertical-align: middle;\n",
              "    }\n",
              "\n",
              "    .dataframe tbody tr th {\n",
              "        vertical-align: top;\n",
              "    }\n",
              "\n",
              "    .dataframe thead th {\n",
              "        text-align: right;\n",
              "    }\n",
              "</style>\n",
              "<table border=\"1\" class=\"dataframe\">\n",
              "  <thead>\n",
              "    <tr style=\"text-align: right;\">\n",
              "      <th></th>\n",
              "      <th>Country</th>\n",
              "      <th>Area</th>\n",
              "      <th>GDP</th>\n",
              "      <th>Inflation</th>\n",
              "      <th>Life.expect</th>\n",
              "      <th>Military</th>\n",
              "      <th>Pop.growth</th>\n",
              "      <th>Unemployment</th>\n",
              "    </tr>\n",
              "  </thead>\n",
              "  <tbody>\n",
              "    <tr>\n",
              "      <th>8</th>\n",
              "      <td>Germany</td>\n",
              "      <td>357022</td>\n",
              "      <td>38100</td>\n",
              "      <td>2.5</td>\n",
              "      <td>80.19</td>\n",
              "      <td>1.5</td>\n",
              "      <td>-0.2</td>\n",
              "      <td>6.0</td>\n",
              "    </tr>\n",
              "  </tbody>\n",
              "</table>\n",
              "</div>"
            ],
            "text/plain": [
              "   Country    Area    GDP  Inflation  Life.expect  Military  Pop.growth  \\\n",
              "8  Germany  357022  38100        2.5        80.19       1.5        -0.2   \n",
              "\n",
              "   Unemployment  \n",
              "8           6.0  "
            ]
          },
          "execution_count": 5,
          "metadata": {},
          "output_type": "execute_result"
        }
      ],
      "source": [
        "eur[ (eur[\"GDP\"]>30000) & (eur[\"Pop.growth\"]<=0) ]"
      ]
    },
    {
      "cell_type": "markdown",
      "metadata": {
        "id": "u9gKpcmlhO__"
      },
      "source": [
        "4. Mostrar todos los países ordenados por Inflación (ascendente)y luego por desempleo (descendente). Utiliza el parámetro __ascending__=[]**texto en negrita**"
      ]
    },
    {
      "cell_type": "code",
      "execution_count": 6,
      "metadata": {
        "id": "3FgXNP7bhb9N"
      },
      "outputs": [
        {
          "data": {
            "text/html": [
              "<div>\n",
              "<style scoped>\n",
              "    .dataframe tbody tr th:only-of-type {\n",
              "        vertical-align: middle;\n",
              "    }\n",
              "\n",
              "    .dataframe tbody tr th {\n",
              "        vertical-align: top;\n",
              "    }\n",
              "\n",
              "    .dataframe thead th {\n",
              "        text-align: right;\n",
              "    }\n",
              "</style>\n",
              "<table border=\"1\" class=\"dataframe\">\n",
              "  <thead>\n",
              "    <tr style=\"text-align: right;\">\n",
              "      <th></th>\n",
              "      <th>Country</th>\n",
              "      <th>Area</th>\n",
              "      <th>GDP</th>\n",
              "      <th>Inflation</th>\n",
              "      <th>Life.expect</th>\n",
              "      <th>Military</th>\n",
              "      <th>Pop.growth</th>\n",
              "      <th>Unemployment</th>\n",
              "    </tr>\n",
              "  </thead>\n",
              "  <tbody>\n",
              "    <tr>\n",
              "      <th>25</th>\n",
              "      <td>Switzerland</td>\n",
              "      <td>41277</td>\n",
              "      <td>44500</td>\n",
              "      <td>0.2</td>\n",
              "      <td>81.17</td>\n",
              "      <td>1.00</td>\n",
              "      <td>0.92</td>\n",
              "      <td>2.8</td>\n",
              "    </tr>\n",
              "    <tr>\n",
              "      <th>18</th>\n",
              "      <td>Norway</td>\n",
              "      <td>323802</td>\n",
              "      <td>53400</td>\n",
              "      <td>1.3</td>\n",
              "      <td>80.32</td>\n",
              "      <td>1.90</td>\n",
              "      <td>0.33</td>\n",
              "      <td>3.3</td>\n",
              "    </tr>\n",
              "    <tr>\n",
              "      <th>22</th>\n",
              "      <td>Slovenia</td>\n",
              "      <td>20273</td>\n",
              "      <td>28800</td>\n",
              "      <td>1.8</td>\n",
              "      <td>77.48</td>\n",
              "      <td>1.70</td>\n",
              "      <td>-0.19</td>\n",
              "      <td>11.8</td>\n",
              "    </tr>\n",
              "    <tr>\n",
              "      <th>4</th>\n",
              "      <td>Czech Republic</td>\n",
              "      <td>78867</td>\n",
              "      <td>27100</td>\n",
              "      <td>1.9</td>\n",
              "      <td>77.38</td>\n",
              "      <td>1.15</td>\n",
              "      <td>-0.13</td>\n",
              "      <td>8.5</td>\n",
              "    </tr>\n",
              "    <tr>\n",
              "      <th>3</th>\n",
              "      <td>Croatia</td>\n",
              "      <td>56594</td>\n",
              "      <td>18000</td>\n",
              "      <td>2.3</td>\n",
              "      <td>75.99</td>\n",
              "      <td>2.39</td>\n",
              "      <td>-0.09</td>\n",
              "      <td>17.7</td>\n",
              "    </tr>\n",
              "    <tr>\n",
              "      <th>17</th>\n",
              "      <td>Netherlands</td>\n",
              "      <td>41543</td>\n",
              "      <td>42000</td>\n",
              "      <td>2.3</td>\n",
              "      <td>80.91</td>\n",
              "      <td>1.60</td>\n",
              "      <td>0.45</td>\n",
              "      <td>4.4</td>\n",
              "    </tr>\n",
              "    <tr>\n",
              "      <th>8</th>\n",
              "      <td>Germany</td>\n",
              "      <td>357022</td>\n",
              "      <td>38100</td>\n",
              "      <td>2.5</td>\n",
              "      <td>80.19</td>\n",
              "      <td>1.50</td>\n",
              "      <td>-0.20</td>\n",
              "      <td>6.0</td>\n",
              "    </tr>\n",
              "    <tr>\n",
              "      <th>12</th>\n",
              "      <td>Ireland</td>\n",
              "      <td>70273</td>\n",
              "      <td>40800</td>\n",
              "      <td>2.6</td>\n",
              "      <td>80.32</td>\n",
              "      <td>0.90</td>\n",
              "      <td>1.11</td>\n",
              "      <td>14.4</td>\n",
              "    </tr>\n",
              "    <tr>\n",
              "      <th>5</th>\n",
              "      <td>Denmark</td>\n",
              "      <td>43094</td>\n",
              "      <td>37000</td>\n",
              "      <td>2.8</td>\n",
              "      <td>78.78</td>\n",
              "      <td>1.30</td>\n",
              "      <td>0.24</td>\n",
              "      <td>6.1</td>\n",
              "    </tr>\n",
              "    <tr>\n",
              "      <th>13</th>\n",
              "      <td>Italy</td>\n",
              "      <td>301340</td>\n",
              "      <td>30500</td>\n",
              "      <td>2.9</td>\n",
              "      <td>81.86</td>\n",
              "      <td>1.80</td>\n",
              "      <td>0.38</td>\n",
              "      <td>8.4</td>\n",
              "    </tr>\n",
              "    <tr>\n",
              "      <th>24</th>\n",
              "      <td>Sweden</td>\n",
              "      <td>450295</td>\n",
              "      <td>40700</td>\n",
              "      <td>3.0</td>\n",
              "      <td>81.18</td>\n",
              "      <td>1.50</td>\n",
              "      <td>0.17</td>\n",
              "      <td>7.5</td>\n",
              "    </tr>\n",
              "    <tr>\n",
              "      <th>23</th>\n",
              "      <td>Spain</td>\n",
              "      <td>505370</td>\n",
              "      <td>30500</td>\n",
              "      <td>3.1</td>\n",
              "      <td>81.27</td>\n",
              "      <td>1.20</td>\n",
              "      <td>0.65</td>\n",
              "      <td>21.7</td>\n",
              "    </tr>\n",
              "    <tr>\n",
              "      <th>9</th>\n",
              "      <td>Greece</td>\n",
              "      <td>131957</td>\n",
              "      <td>26300</td>\n",
              "      <td>3.3</td>\n",
              "      <td>80.05</td>\n",
              "      <td>4.30</td>\n",
              "      <td>0.06</td>\n",
              "      <td>17.4</td>\n",
              "    </tr>\n",
              "    <tr>\n",
              "      <th>7</th>\n",
              "      <td>Finland</td>\n",
              "      <td>338145</td>\n",
              "      <td>36000</td>\n",
              "      <td>3.3</td>\n",
              "      <td>79.41</td>\n",
              "      <td>2.00</td>\n",
              "      <td>0.07</td>\n",
              "      <td>7.8</td>\n",
              "    </tr>\n",
              "    <tr>\n",
              "      <th>16</th>\n",
              "      <td>Luxembourg</td>\n",
              "      <td>2586</td>\n",
              "      <td>80600</td>\n",
              "      <td>3.4</td>\n",
              "      <td>79.75</td>\n",
              "      <td>0.90</td>\n",
              "      <td>1.14</td>\n",
              "      <td>5.7</td>\n",
              "    </tr>\n",
              "    <tr>\n",
              "      <th>1</th>\n",
              "      <td>Belgium</td>\n",
              "      <td>30528</td>\n",
              "      <td>37800</td>\n",
              "      <td>3.5</td>\n",
              "      <td>79.65</td>\n",
              "      <td>1.30</td>\n",
              "      <td>0.06</td>\n",
              "      <td>7.2</td>\n",
              "    </tr>\n",
              "    <tr>\n",
              "      <th>0</th>\n",
              "      <td>Austria</td>\n",
              "      <td>83871</td>\n",
              "      <td>41600</td>\n",
              "      <td>3.5</td>\n",
              "      <td>79.91</td>\n",
              "      <td>0.80</td>\n",
              "      <td>0.03</td>\n",
              "      <td>4.2</td>\n",
              "    </tr>\n",
              "    <tr>\n",
              "      <th>20</th>\n",
              "      <td>Portugal</td>\n",
              "      <td>92090</td>\n",
              "      <td>23400</td>\n",
              "      <td>3.7</td>\n",
              "      <td>78.70</td>\n",
              "      <td>2.30</td>\n",
              "      <td>0.18</td>\n",
              "      <td>12.7</td>\n",
              "    </tr>\n",
              "    <tr>\n",
              "      <th>21</th>\n",
              "      <td>Slovakia</td>\n",
              "      <td>49035</td>\n",
              "      <td>23300</td>\n",
              "      <td>3.9</td>\n",
              "      <td>76.03</td>\n",
              "      <td>1.08</td>\n",
              "      <td>0.10</td>\n",
              "      <td>13.2</td>\n",
              "    </tr>\n",
              "    <tr>\n",
              "      <th>10</th>\n",
              "      <td>Hungary</td>\n",
              "      <td>93028</td>\n",
              "      <td>19600</td>\n",
              "      <td>3.9</td>\n",
              "      <td>75.02</td>\n",
              "      <td>1.75</td>\n",
              "      <td>-0.18</td>\n",
              "      <td>10.9</td>\n",
              "    </tr>\n",
              "    <tr>\n",
              "      <th>11</th>\n",
              "      <td>Iceland</td>\n",
              "      <td>103000</td>\n",
              "      <td>38100</td>\n",
              "      <td>4.0</td>\n",
              "      <td>81.00</td>\n",
              "      <td>0.00</td>\n",
              "      <td>0.67</td>\n",
              "      <td>7.4</td>\n",
              "    </tr>\n",
              "    <tr>\n",
              "      <th>15</th>\n",
              "      <td>Lithuania</td>\n",
              "      <td>65300</td>\n",
              "      <td>19100</td>\n",
              "      <td>4.1</td>\n",
              "      <td>75.55</td>\n",
              "      <td>0.90</td>\n",
              "      <td>-0.28</td>\n",
              "      <td>15.4</td>\n",
              "    </tr>\n",
              "    <tr>\n",
              "      <th>19</th>\n",
              "      <td>Poland</td>\n",
              "      <td>312685</td>\n",
              "      <td>20200</td>\n",
              "      <td>4.2</td>\n",
              "      <td>76.25</td>\n",
              "      <td>1.90</td>\n",
              "      <td>-0.08</td>\n",
              "      <td>12.4</td>\n",
              "    </tr>\n",
              "    <tr>\n",
              "      <th>2</th>\n",
              "      <td>Bulgaria</td>\n",
              "      <td>110879</td>\n",
              "      <td>13800</td>\n",
              "      <td>4.2</td>\n",
              "      <td>73.84</td>\n",
              "      <td>2.60</td>\n",
              "      <td>-0.80</td>\n",
              "      <td>9.6</td>\n",
              "    </tr>\n",
              "    <tr>\n",
              "      <th>14</th>\n",
              "      <td>Latvia</td>\n",
              "      <td>64589</td>\n",
              "      <td>16800</td>\n",
              "      <td>4.4</td>\n",
              "      <td>72.93</td>\n",
              "      <td>1.10</td>\n",
              "      <td>-0.60</td>\n",
              "      <td>12.8</td>\n",
              "    </tr>\n",
              "    <tr>\n",
              "      <th>27</th>\n",
              "      <td>United Kingdom</td>\n",
              "      <td>243610</td>\n",
              "      <td>36500</td>\n",
              "      <td>4.5</td>\n",
              "      <td>80.17</td>\n",
              "      <td>2.70</td>\n",
              "      <td>0.55</td>\n",
              "      <td>8.1</td>\n",
              "    </tr>\n",
              "    <tr>\n",
              "      <th>6</th>\n",
              "      <td>Estonia</td>\n",
              "      <td>45228</td>\n",
              "      <td>20400</td>\n",
              "      <td>5.0</td>\n",
              "      <td>73.58</td>\n",
              "      <td>2.00</td>\n",
              "      <td>-0.65</td>\n",
              "      <td>12.5</td>\n",
              "    </tr>\n",
              "    <tr>\n",
              "      <th>26</th>\n",
              "      <td>Ukraine</td>\n",
              "      <td>603550</td>\n",
              "      <td>7200</td>\n",
              "      <td>8.0</td>\n",
              "      <td>68.74</td>\n",
              "      <td>1.40</td>\n",
              "      <td>-0.63</td>\n",
              "      <td>7.9</td>\n",
              "    </tr>\n",
              "  </tbody>\n",
              "</table>\n",
              "</div>"
            ],
            "text/plain": [
              "           Country    Area    GDP  Inflation  Life.expect  Military  \\\n",
              "25     Switzerland   41277  44500        0.2        81.17      1.00   \n",
              "18          Norway  323802  53400        1.3        80.32      1.90   \n",
              "22        Slovenia   20273  28800        1.8        77.48      1.70   \n",
              "4   Czech Republic   78867  27100        1.9        77.38      1.15   \n",
              "3          Croatia   56594  18000        2.3        75.99      2.39   \n",
              "17     Netherlands   41543  42000        2.3        80.91      1.60   \n",
              "8          Germany  357022  38100        2.5        80.19      1.50   \n",
              "12         Ireland   70273  40800        2.6        80.32      0.90   \n",
              "5          Denmark   43094  37000        2.8        78.78      1.30   \n",
              "13           Italy  301340  30500        2.9        81.86      1.80   \n",
              "24          Sweden  450295  40700        3.0        81.18      1.50   \n",
              "23           Spain  505370  30500        3.1        81.27      1.20   \n",
              "9           Greece  131957  26300        3.3        80.05      4.30   \n",
              "7          Finland  338145  36000        3.3        79.41      2.00   \n",
              "16      Luxembourg    2586  80600        3.4        79.75      0.90   \n",
              "1          Belgium   30528  37800        3.5        79.65      1.30   \n",
              "0          Austria   83871  41600        3.5        79.91      0.80   \n",
              "20        Portugal   92090  23400        3.7        78.70      2.30   \n",
              "21        Slovakia   49035  23300        3.9        76.03      1.08   \n",
              "10         Hungary   93028  19600        3.9        75.02      1.75   \n",
              "11         Iceland  103000  38100        4.0        81.00      0.00   \n",
              "15       Lithuania   65300  19100        4.1        75.55      0.90   \n",
              "19          Poland  312685  20200        4.2        76.25      1.90   \n",
              "2         Bulgaria  110879  13800        4.2        73.84      2.60   \n",
              "14          Latvia   64589  16800        4.4        72.93      1.10   \n",
              "27  United Kingdom  243610  36500        4.5        80.17      2.70   \n",
              "6          Estonia   45228  20400        5.0        73.58      2.00   \n",
              "26         Ukraine  603550   7200        8.0        68.74      1.40   \n",
              "\n",
              "    Pop.growth  Unemployment  \n",
              "25        0.92           2.8  \n",
              "18        0.33           3.3  \n",
              "22       -0.19          11.8  \n",
              "4        -0.13           8.5  \n",
              "3        -0.09          17.7  \n",
              "17        0.45           4.4  \n",
              "8        -0.20           6.0  \n",
              "12        1.11          14.4  \n",
              "5         0.24           6.1  \n",
              "13        0.38           8.4  \n",
              "24        0.17           7.5  \n",
              "23        0.65          21.7  \n",
              "9         0.06          17.4  \n",
              "7         0.07           7.8  \n",
              "16        1.14           5.7  \n",
              "1         0.06           7.2  \n",
              "0         0.03           4.2  \n",
              "20        0.18          12.7  \n",
              "21        0.10          13.2  \n",
              "10       -0.18          10.9  \n",
              "11        0.67           7.4  \n",
              "15       -0.28          15.4  \n",
              "19       -0.08          12.4  \n",
              "2        -0.80           9.6  \n",
              "14       -0.60          12.8  \n",
              "27        0.55           8.1  \n",
              "6        -0.65          12.5  \n",
              "26       -0.63           7.9  "
            ]
          },
          "execution_count": 6,
          "metadata": {},
          "output_type": "execute_result"
        }
      ],
      "source": [
        "eur.sort_values(by=['Inflation','Unemployment'],ascending=[True,False])"
      ]
    },
    {
      "cell_type": "markdown",
      "metadata": {
        "id": "NpBL0P4Enloa"
      },
      "source": [
        "5. Agrupar por el valor de inflación redondeado y mostrar el promedio del PBI para cada grupo.\n",
        "\n"
      ]
    },
    {
      "cell_type": "code",
      "execution_count": 7,
      "metadata": {
        "id": "tweRbQAgjcxV"
      },
      "outputs": [
        {
          "data": {
            "text/plain": [
              "Inflation\n",
              "0.2    44500.0\n",
              "1.3    53400.0\n",
              "1.8    28800.0\n",
              "1.9    27100.0\n",
              "2.3    30000.0\n",
              "2.5    38100.0\n",
              "2.6    40800.0\n",
              "2.8    37000.0\n",
              "2.9    30500.0\n",
              "3.0    40700.0\n",
              "3.1    30500.0\n",
              "3.3    31150.0\n",
              "3.4    80600.0\n",
              "3.5    39700.0\n",
              "3.7    23400.0\n",
              "3.9    21450.0\n",
              "4.0    38100.0\n",
              "4.1    19100.0\n",
              "4.2    17000.0\n",
              "4.4    16800.0\n",
              "4.5    36500.0\n",
              "5.0    20400.0\n",
              "8.0     7200.0\n",
              "Name: GDP, dtype: float64"
            ]
          },
          "execution_count": 7,
          "metadata": {},
          "output_type": "execute_result"
        }
      ],
      "source": [
        "eur.groupby('Inflation')['GDP'].mean()"
      ]
    }
  ],
  "metadata": {
    "colab": {
      "collapsed_sections": [],
      "name": "Clase02_Dict_y_Pandas_(cont_).ipynb",
      "provenance": []
    },
    "kernelspec": {
      "display_name": "Python 3.8.13 ('datacamp')",
      "language": "python",
      "name": "python3"
    },
    "language_info": {
      "codemirror_mode": {
        "name": "ipython",
        "version": 3
      },
      "file_extension": ".py",
      "mimetype": "text/x-python",
      "name": "python",
      "nbconvert_exporter": "python",
      "pygments_lexer": "ipython3",
      "version": "3.8.13"
    },
    "vscode": {
      "interpreter": {
        "hash": "7d7dbeb1711c1dccb8cce60042c5bc5c0a3d59246e11fec6876b459dbf8bbb97"
      }
    }
  },
  "nbformat": 4,
  "nbformat_minor": 0
}
