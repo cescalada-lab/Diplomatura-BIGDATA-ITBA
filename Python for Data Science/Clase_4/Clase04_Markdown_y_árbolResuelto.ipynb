{
  "cells": [
    {
      "cell_type": "markdown",
      "metadata": {
        "id": "MRgklf7hSyDr"
      },
      "source": [
        "# Árbol de Decisión\n",
        ">En este módulo vamos a mostrar un ejemplo de árbol aplicado a clasificación. \n",
        "Mostraremos el uso de _train_test_split_ para dividir el conjunto de entrenamiento y testeo y de __cv fold__ para no producir overfitting"
      ]
    },
    {
      "cell_type": "markdown",
      "metadata": {
        "id": "xPBeYb2TSyDu"
      },
      "source": [
        ">Pero antes vamos a ver cómo escribir en un notebook usando Markdown. <br>\n",
        "Hay que definir las celdas de tipo **markdown** . En Jupyter se puede hacer por menú: Cell->Cell Type->Markdown y luego _ejecutar_ la celda.<br>\n",
        "En Colab, simplemente creamos la nueva celda como *texto*.\n",
        "Se utilizan distintos símbolos para lograr mejor presentación.\n",
        "- \\# para Encabezados\n",
        "- \\> para escribir párrafos normales\n",
        "- __ doble guión bajo para negrita. También se pueden usar \\*\\* antes y después de la palabra\n",
        "- _ guión bajo o * para italic\n",
        "\n",
        "- Tablas\n",
        "\n",
        "\n",
        "tit1|tit2\n",
        ":----:|----\n",
        "dato1|dato2\n",
        "dato2|dato4\n",
        "\n",
        "- <code> print(\"Esto es código\") </code>\n",
        "- Símbolos matemáticos y fórmulas  $k_2$ $k^2$ $\\sum_{i=1}^{\\infty} n_i$ $\\log_2(n)$ \n",
        "\n",
        "$\\alpha_1$\n",
        "- Links __[Jupyter Markdown](https://jupyter-notebook.readthedocs.io/en/stable/examples/Notebook/Working%20With%20Markdown%20Cells.html)__\n",
        "\n",
        "<a href=\"https://jupyter-notebook.readthedocs.io/en/stable/examples/Notebook/Working%20With%20Markdown%20Cells.html\">Jupyter Markdown</a>\n",
        "\n",
        "\n"
      ]
    },
    {
      "cell_type": "markdown",
      "metadata": {
        "id": "dUknQu4uSyDv"
      },
      "source": [
        "> Esto es un párrafo\n"
      ]
    },
    {
      "cell_type": "markdown",
      "metadata": {
        "id": "qQpKEpRxSyDv"
      },
      "source": [
        "### Actividad Markdown\n",
        "> Buscar en Kaggle: notebooks que utilicen el dataset Occupancy que contiene mediciones de sensores. \n",
        "Crear una celda Markdown o de texto con un link al notebook y un resúmen de los métodos aplicados en dicho notebook."
      ]
    },
    {
      "cell_type": "markdown",
      "metadata": {
        "id": "5Stp0_AnSyDw"
      },
      "source": [
        "### Empezamos a trabajar\n",
        "> Como conjunto de datos vamos a usar el dataset de UCI llamado Occupancy que contiene una serie de mediciones extraídas de sensores de un ambiente con el objetivo de determinar si hay alguien allí.<br>\n",
        "El dataset se puede descargar de <a href=\"https://archive.ics.uci.edu/ml/datasets/Occupancy+Detection+\" />UCI Ocuppancy </a> <br>\n",
        ">En el .zip hay 3 archivos txt: __datatraining, datatest, datatest2__"
      ]
    },
    {
      "cell_type": "markdown",
      "metadata": {
        "id": "sSFoEtidSyDw"
      },
      "source": [
        "Cargamos las librerías iniciales."
      ]
    },
    {
      "cell_type": "code",
      "execution_count": 1,
      "metadata": {
        "id": "ASbdV5zpSyDw"
      },
      "outputs": [],
      "source": [
        "import pandas as pd\n",
        "import matplotlib.pyplot as plt\n",
        "%matplotlib inline\n",
        "from sklearn import tree\n",
        "from sklearn.metrics import confusion_matrix,accuracy_score,recall_score,precision_score,plot_confusion_matrix, make_scorer\n",
        "from sklearn.model_selection import cross_validate, train_test_split"
      ]
    },
    {
      "cell_type": "code",
      "execution_count": 2,
      "metadata": {
        "colab": {
          "base_uri": "https://localhost:8080/",
          "height": 143
        },
        "id": "4EmKDz01SyDx",
        "outputId": "2f34b956-626c-40b4-8f3b-636ab41e6e42"
      },
      "outputs": [
        {
          "data": {
            "text/html": [
              "<div>\n",
              "<style scoped>\n",
              "    .dataframe tbody tr th:only-of-type {\n",
              "        vertical-align: middle;\n",
              "    }\n",
              "\n",
              "    .dataframe tbody tr th {\n",
              "        vertical-align: top;\n",
              "    }\n",
              "\n",
              "    .dataframe thead th {\n",
              "        text-align: right;\n",
              "    }\n",
              "</style>\n",
              "<table border=\"1\" class=\"dataframe\">\n",
              "  <thead>\n",
              "    <tr style=\"text-align: right;\">\n",
              "      <th></th>\n",
              "      <th>date</th>\n",
              "      <th>Temperature</th>\n",
              "      <th>Humidity</th>\n",
              "      <th>Light</th>\n",
              "      <th>CO2</th>\n",
              "      <th>HumidityRatio</th>\n",
              "      <th>Occupancy</th>\n",
              "    </tr>\n",
              "  </thead>\n",
              "  <tbody>\n",
              "    <tr>\n",
              "      <th>1</th>\n",
              "      <td>2015-02-04 17:51:00</td>\n",
              "      <td>23.18</td>\n",
              "      <td>27.2720</td>\n",
              "      <td>426.0</td>\n",
              "      <td>721.25</td>\n",
              "      <td>0.004793</td>\n",
              "      <td>1</td>\n",
              "    </tr>\n",
              "    <tr>\n",
              "      <th>2</th>\n",
              "      <td>2015-02-04 17:51:59</td>\n",
              "      <td>23.15</td>\n",
              "      <td>27.2675</td>\n",
              "      <td>429.5</td>\n",
              "      <td>714.00</td>\n",
              "      <td>0.004783</td>\n",
              "      <td>1</td>\n",
              "    </tr>\n",
              "    <tr>\n",
              "      <th>3</th>\n",
              "      <td>2015-02-04 17:53:00</td>\n",
              "      <td>23.15</td>\n",
              "      <td>27.2450</td>\n",
              "      <td>426.0</td>\n",
              "      <td>713.50</td>\n",
              "      <td>0.004779</td>\n",
              "      <td>1</td>\n",
              "    </tr>\n",
              "  </tbody>\n",
              "</table>\n",
              "</div>"
            ],
            "text/plain": [
              "                  date  Temperature  Humidity  Light     CO2  HumidityRatio  \\\n",
              "1  2015-02-04 17:51:00        23.18   27.2720  426.0  721.25       0.004793   \n",
              "2  2015-02-04 17:51:59        23.15   27.2675  429.5  714.00       0.004783   \n",
              "3  2015-02-04 17:53:00        23.15   27.2450  426.0  713.50       0.004779   \n",
              "\n",
              "   Occupancy  \n",
              "1          1  \n",
              "2          1  \n",
              "3          1  "
            ]
          },
          "execution_count": 2,
          "metadata": {},
          "output_type": "execute_result"
        }
      ],
      "source": [
        "archivo =r\"datatraining.txt\" \n",
        "occupancy1 = pd.read_csv(archivo,sep=',')\n",
        "occupancy1.head(3)"
      ]
    },
    {
      "cell_type": "markdown",
      "metadata": {
        "id": "Ey6sFhbUj2X8"
      },
      "source": [
        "Crear una celda Markdown o Texto que contenga la información del dataset provista por UCI\n"
      ]
    },
    {
      "cell_type": "code",
      "execution_count": 3,
      "metadata": {
        "colab": {
          "base_uri": "https://localhost:8080/",
          "height": 300
        },
        "id": "WxWfCM96SyDy",
        "outputId": "68de7ab5-cc08-46f1-f17b-8d8c09cd6a06"
      },
      "outputs": [
        {
          "data": {
            "text/html": [
              "<div>\n",
              "<style scoped>\n",
              "    .dataframe tbody tr th:only-of-type {\n",
              "        vertical-align: middle;\n",
              "    }\n",
              "\n",
              "    .dataframe tbody tr th {\n",
              "        vertical-align: top;\n",
              "    }\n",
              "\n",
              "    .dataframe thead th {\n",
              "        text-align: right;\n",
              "    }\n",
              "</style>\n",
              "<table border=\"1\" class=\"dataframe\">\n",
              "  <thead>\n",
              "    <tr style=\"text-align: right;\">\n",
              "      <th></th>\n",
              "      <th>Temperature</th>\n",
              "      <th>Humidity</th>\n",
              "      <th>Light</th>\n",
              "      <th>CO2</th>\n",
              "      <th>HumidityRatio</th>\n",
              "      <th>Occupancy</th>\n",
              "    </tr>\n",
              "  </thead>\n",
              "  <tbody>\n",
              "    <tr>\n",
              "      <th>count</th>\n",
              "      <td>8143.000000</td>\n",
              "      <td>8143.000000</td>\n",
              "      <td>8143.000000</td>\n",
              "      <td>8143.000000</td>\n",
              "      <td>8143.000000</td>\n",
              "      <td>8143.000000</td>\n",
              "    </tr>\n",
              "    <tr>\n",
              "      <th>mean</th>\n",
              "      <td>20.619084</td>\n",
              "      <td>25.731507</td>\n",
              "      <td>119.519375</td>\n",
              "      <td>606.546243</td>\n",
              "      <td>0.003863</td>\n",
              "      <td>0.212330</td>\n",
              "    </tr>\n",
              "    <tr>\n",
              "      <th>std</th>\n",
              "      <td>1.016916</td>\n",
              "      <td>5.531211</td>\n",
              "      <td>194.755805</td>\n",
              "      <td>314.320877</td>\n",
              "      <td>0.000852</td>\n",
              "      <td>0.408982</td>\n",
              "    </tr>\n",
              "    <tr>\n",
              "      <th>min</th>\n",
              "      <td>19.000000</td>\n",
              "      <td>16.745000</td>\n",
              "      <td>0.000000</td>\n",
              "      <td>412.750000</td>\n",
              "      <td>0.002674</td>\n",
              "      <td>0.000000</td>\n",
              "    </tr>\n",
              "    <tr>\n",
              "      <th>25%</th>\n",
              "      <td>19.700000</td>\n",
              "      <td>20.200000</td>\n",
              "      <td>0.000000</td>\n",
              "      <td>439.000000</td>\n",
              "      <td>0.003078</td>\n",
              "      <td>0.000000</td>\n",
              "    </tr>\n",
              "    <tr>\n",
              "      <th>50%</th>\n",
              "      <td>20.390000</td>\n",
              "      <td>26.222500</td>\n",
              "      <td>0.000000</td>\n",
              "      <td>453.500000</td>\n",
              "      <td>0.003801</td>\n",
              "      <td>0.000000</td>\n",
              "    </tr>\n",
              "    <tr>\n",
              "      <th>75%</th>\n",
              "      <td>21.390000</td>\n",
              "      <td>30.533333</td>\n",
              "      <td>256.375000</td>\n",
              "      <td>638.833333</td>\n",
              "      <td>0.004352</td>\n",
              "      <td>0.000000</td>\n",
              "    </tr>\n",
              "    <tr>\n",
              "      <th>max</th>\n",
              "      <td>23.180000</td>\n",
              "      <td>39.117500</td>\n",
              "      <td>1546.333333</td>\n",
              "      <td>2028.500000</td>\n",
              "      <td>0.006476</td>\n",
              "      <td>1.000000</td>\n",
              "    </tr>\n",
              "  </tbody>\n",
              "</table>\n",
              "</div>"
            ],
            "text/plain": [
              "       Temperature     Humidity        Light          CO2  HumidityRatio  \\\n",
              "count  8143.000000  8143.000000  8143.000000  8143.000000    8143.000000   \n",
              "mean     20.619084    25.731507   119.519375   606.546243       0.003863   \n",
              "std       1.016916     5.531211   194.755805   314.320877       0.000852   \n",
              "min      19.000000    16.745000     0.000000   412.750000       0.002674   \n",
              "25%      19.700000    20.200000     0.000000   439.000000       0.003078   \n",
              "50%      20.390000    26.222500     0.000000   453.500000       0.003801   \n",
              "75%      21.390000    30.533333   256.375000   638.833333       0.004352   \n",
              "max      23.180000    39.117500  1546.333333  2028.500000       0.006476   \n",
              "\n",
              "         Occupancy  \n",
              "count  8143.000000  \n",
              "mean      0.212330  \n",
              "std       0.408982  \n",
              "min       0.000000  \n",
              "25%       0.000000  \n",
              "50%       0.000000  \n",
              "75%       0.000000  \n",
              "max       1.000000  "
            ]
          },
          "execution_count": 3,
          "metadata": {},
          "output_type": "execute_result"
        }
      ],
      "source": [
        "occupancy1.describe() "
      ]
    },
    {
      "cell_type": "markdown",
      "metadata": {
        "id": "1Ob4-lUbLZ-i"
      },
      "source": [
        "Vamos a analizar el resto de los archivos. Observamos la cantidad de datos en cada uno de ellos.  \n",
        "Asignamos a la variable __occupancy2__ el archivo _datatest2_ y a la variable __occupancy3__ el archivo _datatest_."
      ]
    },
    {
      "cell_type": "code",
      "execution_count": 4,
      "metadata": {
        "colab": {
          "base_uri": "https://localhost:8080/",
          "height": 300
        },
        "id": "A9GR8xGwNGt5",
        "outputId": "eaf89c1e-5148-4047-b395-82cd0c281755"
      },
      "outputs": [
        {
          "data": {
            "text/html": [
              "<div>\n",
              "<style scoped>\n",
              "    .dataframe tbody tr th:only-of-type {\n",
              "        vertical-align: middle;\n",
              "    }\n",
              "\n",
              "    .dataframe tbody tr th {\n",
              "        vertical-align: top;\n",
              "    }\n",
              "\n",
              "    .dataframe thead th {\n",
              "        text-align: right;\n",
              "    }\n",
              "</style>\n",
              "<table border=\"1\" class=\"dataframe\">\n",
              "  <thead>\n",
              "    <tr style=\"text-align: right;\">\n",
              "      <th></th>\n",
              "      <th>Temperature</th>\n",
              "      <th>Humidity</th>\n",
              "      <th>Light</th>\n",
              "      <th>CO2</th>\n",
              "      <th>HumidityRatio</th>\n",
              "      <th>Occupancy</th>\n",
              "    </tr>\n",
              "  </thead>\n",
              "  <tbody>\n",
              "    <tr>\n",
              "      <th>count</th>\n",
              "      <td>9752.000000</td>\n",
              "      <td>9752.000000</td>\n",
              "      <td>9752.000000</td>\n",
              "      <td>9752.000000</td>\n",
              "      <td>9752.000000</td>\n",
              "      <td>9752.000000</td>\n",
              "    </tr>\n",
              "    <tr>\n",
              "      <th>mean</th>\n",
              "      <td>21.001768</td>\n",
              "      <td>29.891910</td>\n",
              "      <td>123.067930</td>\n",
              "      <td>753.224832</td>\n",
              "      <td>0.004589</td>\n",
              "      <td>0.210111</td>\n",
              "    </tr>\n",
              "    <tr>\n",
              "      <th>std</th>\n",
              "      <td>1.020693</td>\n",
              "      <td>3.952844</td>\n",
              "      <td>208.221275</td>\n",
              "      <td>297.096114</td>\n",
              "      <td>0.000531</td>\n",
              "      <td>0.407408</td>\n",
              "    </tr>\n",
              "    <tr>\n",
              "      <th>min</th>\n",
              "      <td>19.500000</td>\n",
              "      <td>21.865000</td>\n",
              "      <td>0.000000</td>\n",
              "      <td>484.666667</td>\n",
              "      <td>0.003275</td>\n",
              "      <td>0.000000</td>\n",
              "    </tr>\n",
              "    <tr>\n",
              "      <th>25%</th>\n",
              "      <td>20.290000</td>\n",
              "      <td>26.642083</td>\n",
              "      <td>0.000000</td>\n",
              "      <td>542.312500</td>\n",
              "      <td>0.004196</td>\n",
              "      <td>0.000000</td>\n",
              "    </tr>\n",
              "    <tr>\n",
              "      <th>50%</th>\n",
              "      <td>20.790000</td>\n",
              "      <td>30.200000</td>\n",
              "      <td>0.000000</td>\n",
              "      <td>639.000000</td>\n",
              "      <td>0.004593</td>\n",
              "      <td>0.000000</td>\n",
              "    </tr>\n",
              "    <tr>\n",
              "      <th>75%</th>\n",
              "      <td>21.533333</td>\n",
              "      <td>32.700000</td>\n",
              "      <td>208.250000</td>\n",
              "      <td>831.125000</td>\n",
              "      <td>0.004998</td>\n",
              "      <td>0.000000</td>\n",
              "    </tr>\n",
              "    <tr>\n",
              "      <th>max</th>\n",
              "      <td>24.390000</td>\n",
              "      <td>39.500000</td>\n",
              "      <td>1581.000000</td>\n",
              "      <td>2076.500000</td>\n",
              "      <td>0.005769</td>\n",
              "      <td>1.000000</td>\n",
              "    </tr>\n",
              "  </tbody>\n",
              "</table>\n",
              "</div>"
            ],
            "text/plain": [
              "       Temperature     Humidity        Light          CO2  HumidityRatio  \\\n",
              "count  9752.000000  9752.000000  9752.000000  9752.000000    9752.000000   \n",
              "mean     21.001768    29.891910   123.067930   753.224832       0.004589   \n",
              "std       1.020693     3.952844   208.221275   297.096114       0.000531   \n",
              "min      19.500000    21.865000     0.000000   484.666667       0.003275   \n",
              "25%      20.290000    26.642083     0.000000   542.312500       0.004196   \n",
              "50%      20.790000    30.200000     0.000000   639.000000       0.004593   \n",
              "75%      21.533333    32.700000   208.250000   831.125000       0.004998   \n",
              "max      24.390000    39.500000  1581.000000  2076.500000       0.005769   \n",
              "\n",
              "         Occupancy  \n",
              "count  9752.000000  \n",
              "mean      0.210111  \n",
              "std       0.407408  \n",
              "min       0.000000  \n",
              "25%       0.000000  \n",
              "50%       0.000000  \n",
              "75%       0.000000  \n",
              "max       1.000000  "
            ]
          },
          "execution_count": 4,
          "metadata": {},
          "output_type": "execute_result"
        }
      ],
      "source": [
        "occupancy2=pd.read_csv('datatest2.txt',sep=',')\n",
        "occupancy2.describe()"
      ]
    },
    {
      "cell_type": "code",
      "execution_count": 5,
      "metadata": {
        "colab": {
          "base_uri": "https://localhost:8080/",
          "height": 300
        },
        "id": "6wyvZtSlNW2D",
        "outputId": "224caf58-7dfb-4c7d-fbbd-a772e78c8902"
      },
      "outputs": [
        {
          "data": {
            "text/html": [
              "<div>\n",
              "<style scoped>\n",
              "    .dataframe tbody tr th:only-of-type {\n",
              "        vertical-align: middle;\n",
              "    }\n",
              "\n",
              "    .dataframe tbody tr th {\n",
              "        vertical-align: top;\n",
              "    }\n",
              "\n",
              "    .dataframe thead th {\n",
              "        text-align: right;\n",
              "    }\n",
              "</style>\n",
              "<table border=\"1\" class=\"dataframe\">\n",
              "  <thead>\n",
              "    <tr style=\"text-align: right;\">\n",
              "      <th></th>\n",
              "      <th>Temperature</th>\n",
              "      <th>Humidity</th>\n",
              "      <th>Light</th>\n",
              "      <th>CO2</th>\n",
              "      <th>HumidityRatio</th>\n",
              "      <th>Occupancy</th>\n",
              "    </tr>\n",
              "  </thead>\n",
              "  <tbody>\n",
              "    <tr>\n",
              "      <th>count</th>\n",
              "      <td>2665.000000</td>\n",
              "      <td>2665.000000</td>\n",
              "      <td>2665.000000</td>\n",
              "      <td>2665.000000</td>\n",
              "      <td>2665.000000</td>\n",
              "      <td>2665.000000</td>\n",
              "    </tr>\n",
              "    <tr>\n",
              "      <th>mean</th>\n",
              "      <td>21.433876</td>\n",
              "      <td>25.353937</td>\n",
              "      <td>193.227556</td>\n",
              "      <td>717.906470</td>\n",
              "      <td>0.004027</td>\n",
              "      <td>0.364728</td>\n",
              "    </tr>\n",
              "    <tr>\n",
              "      <th>std</th>\n",
              "      <td>1.028024</td>\n",
              "      <td>2.436842</td>\n",
              "      <td>250.210906</td>\n",
              "      <td>292.681718</td>\n",
              "      <td>0.000611</td>\n",
              "      <td>0.481444</td>\n",
              "    </tr>\n",
              "    <tr>\n",
              "      <th>min</th>\n",
              "      <td>20.200000</td>\n",
              "      <td>22.100000</td>\n",
              "      <td>0.000000</td>\n",
              "      <td>427.500000</td>\n",
              "      <td>0.003303</td>\n",
              "      <td>0.000000</td>\n",
              "    </tr>\n",
              "    <tr>\n",
              "      <th>25%</th>\n",
              "      <td>20.650000</td>\n",
              "      <td>23.260000</td>\n",
              "      <td>0.000000</td>\n",
              "      <td>466.000000</td>\n",
              "      <td>0.003529</td>\n",
              "      <td>0.000000</td>\n",
              "    </tr>\n",
              "    <tr>\n",
              "      <th>50%</th>\n",
              "      <td>20.890000</td>\n",
              "      <td>25.000000</td>\n",
              "      <td>0.000000</td>\n",
              "      <td>580.500000</td>\n",
              "      <td>0.003815</td>\n",
              "      <td>0.000000</td>\n",
              "    </tr>\n",
              "    <tr>\n",
              "      <th>75%</th>\n",
              "      <td>22.356667</td>\n",
              "      <td>26.856667</td>\n",
              "      <td>442.500000</td>\n",
              "      <td>956.333333</td>\n",
              "      <td>0.004532</td>\n",
              "      <td>1.000000</td>\n",
              "    </tr>\n",
              "    <tr>\n",
              "      <th>max</th>\n",
              "      <td>24.408333</td>\n",
              "      <td>31.472500</td>\n",
              "      <td>1697.250000</td>\n",
              "      <td>1402.250000</td>\n",
              "      <td>0.005378</td>\n",
              "      <td>1.000000</td>\n",
              "    </tr>\n",
              "  </tbody>\n",
              "</table>\n",
              "</div>"
            ],
            "text/plain": [
              "       Temperature     Humidity        Light          CO2  HumidityRatio  \\\n",
              "count  2665.000000  2665.000000  2665.000000  2665.000000    2665.000000   \n",
              "mean     21.433876    25.353937   193.227556   717.906470       0.004027   \n",
              "std       1.028024     2.436842   250.210906   292.681718       0.000611   \n",
              "min      20.200000    22.100000     0.000000   427.500000       0.003303   \n",
              "25%      20.650000    23.260000     0.000000   466.000000       0.003529   \n",
              "50%      20.890000    25.000000     0.000000   580.500000       0.003815   \n",
              "75%      22.356667    26.856667   442.500000   956.333333       0.004532   \n",
              "max      24.408333    31.472500  1697.250000  1402.250000       0.005378   \n",
              "\n",
              "         Occupancy  \n",
              "count  2665.000000  \n",
              "mean      0.364728  \n",
              "std       0.481444  \n",
              "min       0.000000  \n",
              "25%       0.000000  \n",
              "50%       0.000000  \n",
              "75%       1.000000  \n",
              "max       1.000000  "
            ]
          },
          "execution_count": 5,
          "metadata": {},
          "output_type": "execute_result"
        }
      ],
      "source": [
        "occupancy3=pd.read_csv('datatest.txt',sep=',')\n",
        "occupancy3.describe()"
      ]
    },
    {
      "cell_type": "markdown",
      "metadata": {
        "id": "lg0FNPR6SyDy"
      },
      "source": [
        "### Responder\n",
        "- ¿Cuantos datos hay cada dataset?\n",
        "- ¿Cuál es la variable __target__ y qué valores toma?\n",
        "- Graficar la distribución de dicha variable"
      ]
    },
    {
      "cell_type": "markdown",
      "metadata": {
        "id": "M15059Y2SyDz"
      },
      "source": []
    },
    {
      "cell_type": "code",
      "execution_count": 6,
      "metadata": {
        "colab": {
          "base_uri": "https://localhost:8080/"
        },
        "id": "VQEOcXL6LL8l",
        "outputId": "77e6ce69-bf52-467e-bd86-57ccba100645"
      },
      "outputs": [
        {
          "data": {
            "text/plain": [
              "array([1, 0])"
            ]
          },
          "execution_count": 6,
          "metadata": {},
          "output_type": "execute_result"
        }
      ],
      "source": [
        "occupancy2['Occupancy'].unique()"
      ]
    },
    {
      "cell_type": "markdown",
      "metadata": {
        "id": "ZO51e4PxN_8Y"
      },
      "source": [
        "Juntamos los tres dataframes en uno solo usando la función __concat__ de Pandas. Es muy importante usar el parámetro **ignore_index=True** para que se asignen distintos valores de índice a cada fila."
      ]
    },
    {
      "cell_type": "code",
      "execution_count": 7,
      "metadata": {
        "colab": {
          "base_uri": "https://localhost:8080/",
          "height": 300
        },
        "id": "ht1jrpMuN_aS",
        "outputId": "5da6fe63-9efe-4077-c058-04b722836aaf"
      },
      "outputs": [
        {
          "data": {
            "text/html": [
              "<div>\n",
              "<style scoped>\n",
              "    .dataframe tbody tr th:only-of-type {\n",
              "        vertical-align: middle;\n",
              "    }\n",
              "\n",
              "    .dataframe tbody tr th {\n",
              "        vertical-align: top;\n",
              "    }\n",
              "\n",
              "    .dataframe thead th {\n",
              "        text-align: right;\n",
              "    }\n",
              "</style>\n",
              "<table border=\"1\" class=\"dataframe\">\n",
              "  <thead>\n",
              "    <tr style=\"text-align: right;\">\n",
              "      <th></th>\n",
              "      <th>Temperature</th>\n",
              "      <th>Humidity</th>\n",
              "      <th>Light</th>\n",
              "      <th>CO2</th>\n",
              "      <th>HumidityRatio</th>\n",
              "      <th>Occupancy</th>\n",
              "    </tr>\n",
              "  </thead>\n",
              "  <tbody>\n",
              "    <tr>\n",
              "      <th>count</th>\n",
              "      <td>20560.000000</td>\n",
              "      <td>20560.000000</td>\n",
              "      <td>20560.000000</td>\n",
              "      <td>20560.000000</td>\n",
              "      <td>20560.000000</td>\n",
              "      <td>20560.000000</td>\n",
              "    </tr>\n",
              "    <tr>\n",
              "      <th>mean</th>\n",
              "      <td>20.906212</td>\n",
              "      <td>27.655925</td>\n",
              "      <td>130.756622</td>\n",
              "      <td>690.553276</td>\n",
              "      <td>0.004228</td>\n",
              "      <td>0.231031</td>\n",
              "    </tr>\n",
              "    <tr>\n",
              "      <th>std</th>\n",
              "      <td>1.055315</td>\n",
              "      <td>4.982154</td>\n",
              "      <td>210.430875</td>\n",
              "      <td>311.201281</td>\n",
              "      <td>0.000768</td>\n",
              "      <td>0.421503</td>\n",
              "    </tr>\n",
              "    <tr>\n",
              "      <th>min</th>\n",
              "      <td>19.000000</td>\n",
              "      <td>16.745000</td>\n",
              "      <td>0.000000</td>\n",
              "      <td>412.750000</td>\n",
              "      <td>0.002674</td>\n",
              "      <td>0.000000</td>\n",
              "    </tr>\n",
              "    <tr>\n",
              "      <th>25%</th>\n",
              "      <td>20.200000</td>\n",
              "      <td>24.500000</td>\n",
              "      <td>0.000000</td>\n",
              "      <td>460.000000</td>\n",
              "      <td>0.003719</td>\n",
              "      <td>0.000000</td>\n",
              "    </tr>\n",
              "    <tr>\n",
              "      <th>50%</th>\n",
              "      <td>20.700000</td>\n",
              "      <td>27.290000</td>\n",
              "      <td>0.000000</td>\n",
              "      <td>565.416667</td>\n",
              "      <td>0.004292</td>\n",
              "      <td>0.000000</td>\n",
              "    </tr>\n",
              "    <tr>\n",
              "      <th>75%</th>\n",
              "      <td>21.525000</td>\n",
              "      <td>31.290000</td>\n",
              "      <td>301.000000</td>\n",
              "      <td>804.666667</td>\n",
              "      <td>0.004832</td>\n",
              "      <td>0.000000</td>\n",
              "    </tr>\n",
              "    <tr>\n",
              "      <th>max</th>\n",
              "      <td>24.408333</td>\n",
              "      <td>39.500000</td>\n",
              "      <td>1697.250000</td>\n",
              "      <td>2076.500000</td>\n",
              "      <td>0.006476</td>\n",
              "      <td>1.000000</td>\n",
              "    </tr>\n",
              "  </tbody>\n",
              "</table>\n",
              "</div>"
            ],
            "text/plain": [
              "        Temperature      Humidity         Light           CO2  HumidityRatio  \\\n",
              "count  20560.000000  20560.000000  20560.000000  20560.000000   20560.000000   \n",
              "mean      20.906212     27.655925    130.756622    690.553276       0.004228   \n",
              "std        1.055315      4.982154    210.430875    311.201281       0.000768   \n",
              "min       19.000000     16.745000      0.000000    412.750000       0.002674   \n",
              "25%       20.200000     24.500000      0.000000    460.000000       0.003719   \n",
              "50%       20.700000     27.290000      0.000000    565.416667       0.004292   \n",
              "75%       21.525000     31.290000    301.000000    804.666667       0.004832   \n",
              "max       24.408333     39.500000   1697.250000   2076.500000       0.006476   \n",
              "\n",
              "          Occupancy  \n",
              "count  20560.000000  \n",
              "mean       0.231031  \n",
              "std        0.421503  \n",
              "min        0.000000  \n",
              "25%        0.000000  \n",
              "50%        0.000000  \n",
              "75%        0.000000  \n",
              "max        1.000000  "
            ]
          },
          "execution_count": 7,
          "metadata": {},
          "output_type": "execute_result"
        }
      ],
      "source": [
        "occupancy=pd.concat([occupancy1,occupancy2,occupancy3],ignore_index=True)\n",
        "occupancy.describe()"
      ]
    },
    {
      "cell_type": "markdown",
      "metadata": {
        "id": "BdazVuAxbqlE"
      },
      "source": [
        "Observamos la distribución de la variable target.\n",
        "\n",
        "Para eso creamos un dict a partir de los valores distintos que toma."
      ]
    },
    {
      "cell_type": "code",
      "execution_count": 8,
      "metadata": {
        "colab": {
          "base_uri": "https://localhost:8080/"
        },
        "id": "vgeOefIiSZfD",
        "outputId": "15b44568-a46c-47b6-9f15-3daa63b48308"
      },
      "outputs": [
        {
          "data": {
            "text/plain": [
              "Occupancy\n",
              "0    15810\n",
              "1     4750\n",
              "dtype: int64"
            ]
          },
          "execution_count": 8,
          "metadata": {},
          "output_type": "execute_result"
        }
      ],
      "source": [
        "occupancy.groupby('Occupancy').size()"
      ]
    },
    {
      "cell_type": "code",
      "execution_count": 9,
      "metadata": {
        "colab": {
          "base_uri": "https://localhost:8080/"
        },
        "id": "9R0sekVUklQH",
        "outputId": "f2075ddc-5ae0-4514-ff3a-d67992e91198"
      },
      "outputs": [
        {
          "name": "stdout",
          "output_type": "stream",
          "text": [
            "{0: 15810, 1: 4750}\n"
          ]
        },
        {
          "data": {
            "text/plain": [
              "[0, 1]"
            ]
          },
          "execution_count": 9,
          "metadata": {},
          "output_type": "execute_result"
        }
      ],
      "source": [
        "d=dict(occupancy.groupby('Occupancy').size())\n",
        "k=d.keys()\n",
        "print(d)\n",
        "list(k)"
      ]
    },
    {
      "cell_type": "markdown",
      "metadata": {
        "id": "U7xEYDh2N3aZ"
      },
      "source": [
        "Podemos ver la distribución usando barras"
      ]
    },
    {
      "cell_type": "code",
      "execution_count": 10,
      "metadata": {
        "colab": {
          "base_uri": "https://localhost:8080/",
          "height": 265
        },
        "id": "ev1KilE3SyDz",
        "outputId": "59b219e0-3c9e-4718-b32a-436899077170"
      },
      "outputs": [
        {
          "data": {
            "image/png": "[encoded data removed]",
            "text/plain": [
              "<Figure size 432x288 with 1 Axes>"
            ]
          },
          "metadata": {
            "needs_background": "light"
          },
          "output_type": "display_data"
        }
      ],
      "source": [
        "plt.bar(list(k),d.values(),color=['r','g'])\n",
        "plt.xticks(list(k), ('non-occup.', 'occup.'))\n",
        "plt.show()"
      ]
    },
    {
      "cell_type": "markdown",
      "metadata": {
        "id": "4kRBYXJRN6ad"
      },
      "source": [
        "O podemos usar el pie chart (plt.pie) con d.values() como dato, labels=k y colors =['r','g']"
      ]
    },
    {
      "cell_type": "code",
      "execution_count": 11,
      "metadata": {
        "colab": {
          "base_uri": "https://localhost:8080/",
          "height": 248
        },
        "id": "rjuVp_m2l0SJ",
        "outputId": "015b6ab8-7553-4f82-8da1-9c7485d1df6a"
      },
      "outputs": [
        {
          "data": {
            "image/png": "[encoded data removed]",
            "text/plain": [
              "<Figure size 432x288 with 1 Axes>"
            ]
          },
          "metadata": {},
          "output_type": "display_data"
        }
      ],
      "source": [
        "#<---\n",
        "plt.pie(d.values(),labels=k,colors=['r','g'])\n",
        "plt.show()"
      ]
    },
    {
      "cell_type": "markdown",
      "metadata": {
        "id": "MsmSxnp9SyD0"
      },
      "source": [
        "Analizamos los valores __nulos__ o faltantes del dataset usando el método **isnull** y sumando para ver cuántos hay."
      ]
    },
    {
      "cell_type": "code",
      "execution_count": 12,
      "metadata": {
        "colab": {
          "base_uri": "https://localhost:8080/"
        },
        "id": "-X0xoVdsSyD0",
        "outputId": "7eeb1bb5-eb93-4c67-e206-9620cfddbd53"
      },
      "outputs": [
        {
          "data": {
            "text/plain": [
              "date             0\n",
              "Temperature      0\n",
              "Humidity         0\n",
              "Light            0\n",
              "CO2              0\n",
              "HumidityRatio    0\n",
              "Occupancy        0\n",
              "dtype: int64"
            ]
          },
          "execution_count": 12,
          "metadata": {},
          "output_type": "execute_result"
        }
      ],
      "source": [
        "occupancy.isnull().sum()"
      ]
    },
    {
      "cell_type": "markdown",
      "metadata": {
        "id": "Oeckp0HsSyD1"
      },
      "source": [
        "La variable __date__ es de tipo fecha. Como para los modelos necesitamos variables numéricas, para no descartarla, la transformamos en un número. Podemos usar el día de la semana a la que pertenece. \n",
        "\n",
        "Primero observemos el tipo de dato de la columna:"
      ]
    },
    {
      "cell_type": "code",
      "execution_count": 13,
      "metadata": {
        "colab": {
          "base_uri": "https://localhost:8080/"
        },
        "id": "M3AR0XJsSyD1",
        "outputId": "1d05b616-03ea-45fc-b5b7-4e9811552142"
      },
      "outputs": [
        {
          "name": "stdout",
          "output_type": "stream",
          "text": [
            "0    2015-02-04 17:51:00\n",
            "1    2015-02-04 17:51:59\n",
            "2    2015-02-04 17:53:00\n",
            "Name: date, dtype: object\n"
          ]
        },
        {
          "data": {
            "text/plain": [
              "dtype('O')"
            ]
          },
          "execution_count": 13,
          "metadata": {},
          "output_type": "execute_result"
        }
      ],
      "source": [
        "print(occupancy['date'].head(3))\n",
        "occupancy['date'].dtypes"
      ]
    },
    {
      "cell_type": "markdown",
      "metadata": {
        "id": "U8LUjfDWSyD2"
      },
      "source": [
        "Si bien __date__ representa una fecha, está almacenada como un string. Para poder usar las funciones de fecha necesitamos convertirla a tipo __datetime__. Si hay errores como fechas mal formadas, se pueden evitar con 'coerce'.\n",
        "[Pandas to_datetime](https://pandas.pydata.org/pandas-docs/stable/reference/api/pandas.to_datetime.html)"
      ]
    },
    {
      "cell_type": "code",
      "execution_count": 14,
      "metadata": {
        "colab": {
          "base_uri": "https://localhost:8080/"
        },
        "id": "7pIBJ6gtSyD2",
        "outputId": "17d2e147-43bc-4c64-97c7-371a0ace3781"
      },
      "outputs": [
        {
          "data": {
            "text/plain": [
              "0       2015-02-04 17:51:00\n",
              "1       2015-02-04 17:51:59\n",
              "2       2015-02-04 17:53:00\n",
              "3       2015-02-04 17:54:00\n",
              "4       2015-02-04 17:55:00\n",
              "                ...        \n",
              "20555   2015-02-04 10:38:59\n",
              "20556   2015-02-04 10:40:00\n",
              "20557   2015-02-04 10:40:59\n",
              "20558   2015-02-04 10:41:59\n",
              "20559   2015-02-04 10:43:00\n",
              "Name: date, Length: 20560, dtype: datetime64[ns]"
            ]
          },
          "execution_count": 14,
          "metadata": {},
          "output_type": "execute_result"
        }
      ],
      "source": [
        "occupancy['date']=pd.to_datetime(occupancy['date'],errors='coerce')\n",
        "occupancy['date']"
      ]
    },
    {
      "cell_type": "markdown",
      "metadata": {
        "id": "1H53vS7pTx5A"
      },
      "source": [
        "Ahora que la columna es de tipo date podemos aplicar la función __dt.dayofweek__  \n",
        "[datetime.dayofweek](https://pandas.pydata.org/docs/reference/api/pandas.DatetimeIndex.dayofweek.html)  \n",
        "Notar que la función asume que el 0 es el lunes."
      ]
    },
    {
      "cell_type": "code",
      "execution_count": 15,
      "metadata": {
        "colab": {
          "base_uri": "https://localhost:8080/"
        },
        "id": "r92CyA8ZSyD3",
        "outputId": "abb09b55-730e-46aa-b89a-8c4152bf3f98"
      },
      "outputs": [
        {
          "data": {
            "text/plain": [
              "0    2\n",
              "1    2\n",
              "2    2\n",
              "3    2\n",
              "4    2\n",
              "Name: date, dtype: int64"
            ]
          },
          "execution_count": 15,
          "metadata": {},
          "output_type": "execute_result"
        }
      ],
      "source": [
        "occupancy['date']=occupancy['date'].dt.dayofweek\n",
        "occupancy['date'].head(5)"
      ]
    },
    {
      "cell_type": "markdown",
      "metadata": {
        "id": "t-yJMBbXVtDR"
      },
      "source": [
        "Observamos como se distribuyen los datos de acuerdo a los días de la semana"
      ]
    },
    {
      "cell_type": "code",
      "execution_count": 16,
      "metadata": {
        "colab": {
          "base_uri": "https://localhost:8080/",
          "height": 265
        },
        "id": "LWnhSH7eUI-W",
        "outputId": "0a824b4d-4b1d-4947-cbaa-de7fe3f6ceb3"
      },
      "outputs": [
        {
          "data": {
            "image/png": "[encoded data removed]",
            "text/plain": [
              "<Figure size 432x288 with 1 Axes>"
            ]
          },
          "metadata": {
            "needs_background": "light"
          },
          "output_type": "display_data"
        }
      ],
      "source": [
        "dias=dict(occupancy.groupby('date').size())\n",
        "plt.bar(dias.keys(),dias.values())\n",
        "plt.show()"
      ]
    },
    {
      "cell_type": "markdown",
      "metadata": {
        "id": "TLPf2tvU3dLo"
      },
      "source": [
        "Observamos cómo se distribuyen los datos de acuerdo al día y al valor de occupancy"
      ]
    },
    {
      "cell_type": "code",
      "execution_count": 17,
      "metadata": {
        "colab": {
          "base_uri": "https://localhost:8080/",
          "height": 268
        },
        "id": "zrV4KPZX3YdY",
        "outputId": "e060b5e5-9856-4740-d8b7-e37588278e21"
      },
      "outputs": [
        {
          "data": {
            "image/png": "[encoded data removed]",
            "text/plain": [
              "<Figure size 432x288 with 1 Axes>"
            ]
          },
          "metadata": {
            "needs_background": "light"
          },
          "output_type": "display_data"
        }
      ],
      "source": [
        "#Obtenemos las observaciones cuyo valor de occupancy es 0\n",
        "oc0=occupancy[occupancy['Occupancy']==0]\n",
        "#Obtenemos las observaciones cuyo valor de occupancy es 1\n",
        "oc1=occupancy[occupancy['Occupancy']==1]\n",
        "#Agupamos por el día de la semana cada uno de los dataframes\n",
        "cero=dict(oc0.groupby('date').size())\n",
        "uno=dict(oc1.groupby('date').size())\n",
        "#Observar por qué esto dá error\n",
        "#<---\n",
        "uno[5]=0\n",
        "uno[6]=0\n",
        "#Creamos un dataFrame con los valores agrupados en cada caso\n",
        "df=pd.DataFrame({'0':cero.values(),'1':uno.values()}, index=uno.keys())\n",
        "#Ver con la opción stacked=True\n",
        "df.plot.bar(rot=0)\n",
        "plt.show()"
      ]
    },
    {
      "cell_type": "code",
      "execution_count": 18,
      "metadata": {
        "colab": {
          "base_uri": "https://localhost:8080/"
        },
        "id": "Re2MZJxfUcc_",
        "outputId": "8ef61043-ae3a-4ea0-8dbe-2632d50f6acf"
      },
      "outputs": [
        {
          "data": {
            "text/plain": [
              "{0: 1288, 1: 1190, 2: 409, 3: 783, 4: 1080, 5: 0, 6: 0}"
            ]
          },
          "execution_count": 18,
          "metadata": {},
          "output_type": "execute_result"
        }
      ],
      "source": [
        "uno"
      ]
    },
    {
      "cell_type": "markdown",
      "metadata": {
        "id": "PDjZbxXL8_86"
      },
      "source": [
        "Observamos la distribución de las variables numéricas y analizamos la presencia de outliers"
      ]
    },
    {
      "cell_type": "code",
      "execution_count": 19,
      "metadata": {
        "colab": {
          "base_uri": "https://localhost:8080/",
          "height": 611
        },
        "id": "S-ihSKdyPhws",
        "outputId": "c6e9c252-3f46-454d-e278-ba6a7fbdd6b7"
      },
      "outputs": [
        {
          "data": {
            "image/png": "[encoded data removed]",
            "text/plain": [
              "<Figure size 960x640 with 4 Axes>"
            ]
          },
          "metadata": {
            "needs_background": "light"
          },
          "output_type": "display_data"
        }
      ],
      "source": [
        "fig=plt.figure(figsize=(12, 8), dpi= 80)\n",
        "fig.subplots_adjust(left=0.05, bottom=0.05, right=0.9, top=0.9,wspace=0.5,hspace=0.3)\n",
        "\n",
        "for i in range(1,5):\n",
        "  plt.subplot(2,2,i)\n",
        "  plt.title(occupancy.columns[i])\n",
        "  plt.boxplot(occupancy[occupancy.columns[i]])\n",
        "  plt.grid(axis='y')  \n",
        "plt.show()"
      ]
    },
    {
      "cell_type": "markdown",
      "metadata": {
        "id": "eODLexvW91jv"
      },
      "source": [
        "Calculamos el límite superior de Temperature para saber a partir de que valor se consideran outliers."
      ]
    },
    {
      "cell_type": "code",
      "execution_count": 20,
      "metadata": {
        "colab": {
          "base_uri": "https://localhost:8080/"
        },
        "id": "2urmjfNPrO8O",
        "outputId": "372b1144-0e66-4c74-d43c-507ff9da00f7"
      },
      "outputs": [
        {
          "data": {
            "text/plain": [
              "23.512499999999996"
            ]
          },
          "execution_count": 20,
          "metadata": {},
          "output_type": "execute_result"
        }
      ],
      "source": [
        "ot= occupancy['Temperature'].quantile(0.75) + 1.5*(occupancy['Temperature'].quantile(0.75)-\n",
        "                                                   occupancy['Temperature'].quantile(0.25))\n",
        "ot"
      ]
    },
    {
      "cell_type": "markdown",
      "metadata": {
        "id": "LYdKlG4c9640"
      },
      "source": [
        "Vamos a crear otro dataset pero que no tenga outliers. Copiamos occupancy a oso (occupancy sin outliers)"
      ]
    },
    {
      "cell_type": "code",
      "execution_count": 21,
      "metadata": {
        "id": "nHkNLkEhv2-P"
      },
      "outputs": [],
      "source": [
        "oso=occupancy.copy()\n",
        "oso.loc[oso['Temperature']>ot,'Temperature']=ot"
      ]
    },
    {
      "cell_type": "code",
      "execution_count": 22,
      "metadata": {
        "colab": {
          "base_uri": "https://localhost:8080/"
        },
        "id": "8jkViFfIyMJO",
        "outputId": "5497f6e8-da62-4fd6-c0b4-5b723faec176"
      },
      "outputs": [
        {
          "data": {
            "text/plain": [
              "23.512499999999996"
            ]
          },
          "execution_count": 22,
          "metadata": {},
          "output_type": "execute_result"
        }
      ],
      "source": [
        "oso['Temperature'].max()"
      ]
    },
    {
      "cell_type": "markdown",
      "metadata": {
        "id": "lyRv6BZ74MDW"
      },
      "source": [
        "Generalizamos este procedimiento para el resto de las variables con outliers."
      ]
    },
    {
      "cell_type": "code",
      "execution_count": 23,
      "metadata": {
        "id": "1jjoZdiN4S9C"
      },
      "outputs": [],
      "source": [
        "def sacar_outliers(oso,v):\n",
        "  o= occupancy[v].quantile(0.75) + 1.5*(occupancy[v].quantile(0.75)-\n",
        "                                                   occupancy[v].quantile(0.25))\n",
        "  oso.loc[oso[v]>o,v]=o\n",
        "  return oso\n",
        "\n"
      ]
    },
    {
      "cell_type": "code",
      "execution_count": 24,
      "metadata": {
        "colab": {
          "base_uri": "https://localhost:8080/"
        },
        "id": "BBwBPr7t454B",
        "outputId": "8b51bda0-5723-4a73-f865-b243e39c5a1a"
      },
      "outputs": [
        {
          "data": {
            "text/plain": [
              "1321.6666666666674"
            ]
          },
          "execution_count": 24,
          "metadata": {},
          "output_type": "execute_result"
        }
      ],
      "source": [
        "lista=['Light','CO2']\n",
        "for l in lista:\n",
        "  oso=sacar_outliers(oso,l)\n",
        "\n",
        "oso['CO2'].max()"
      ]
    },
    {
      "cell_type": "markdown",
      "metadata": {
        "id": "vyCmGRzDcxai"
      },
      "source": [
        "Observamos en los boxplots la distribución luego de la modificación."
      ]
    },
    {
      "cell_type": "code",
      "execution_count": 25,
      "metadata": {
        "colab": {
          "base_uri": "https://localhost:8080/",
          "height": 611
        },
        "id": "1pq-di0b51ii",
        "outputId": "ebfa38e9-d74d-44ef-91ae-7c848bea40c2"
      },
      "outputs": [
        {
          "data": {
            "image/png": "[encoded data removed]",
            "text/plain": [
              "<Figure size 960x640 with 4 Axes>"
            ]
          },
          "metadata": {
            "needs_background": "light"
          },
          "output_type": "display_data"
        }
      ],
      "source": [
        "fig=plt.figure(figsize=(12, 8), dpi= 80)\n",
        "fig.subplots_adjust(left=0.05, bottom=0.05, right=0.9, top=0.9,wspace=0.5,hspace=0.3)\n",
        "\n",
        "#<-\n",
        "for i in range(1,5):\n",
        "  plt.subplot(2,2,i)\n",
        "  plt.title(oso.columns[i])\n",
        "  plt.boxplot(oso[oso.columns[i]])\n",
        "  plt.grid(axis='y')  \n",
        "plt.show()"
      ]
    },
    {
      "cell_type": "markdown",
      "metadata": {
        "id": "3_wN0EBnSyD3"
      },
      "source": [
        "## Comenzamos con el árbol\n",
        "Pero primero separamos el conjunto de features del target. __X__ <- variables __y__ <- target"
      ]
    },
    {
      "cell_type": "code",
      "execution_count": 26,
      "metadata": {
        "id": "DGT0mpXhSyD3"
      },
      "outputs": [],
      "source": [
        "y=occupancy['Occupancy']\n",
        "X=occupancy.drop(['Occupancy'],axis=1)"
      ]
    },
    {
      "cell_type": "markdown",
      "metadata": {
        "id": "Hj6-dKL3O_-1"
      },
      "source": [
        "Dividimos el conjunto en entrenamiento y prueba (30\\%) usando la función <a href=\"https://scikit-learn.org/stable/modules/generated/sklearn.model_selection.train_test_split.html\">train_test_split</a>."
      ]
    },
    {
      "cell_type": "code",
      "execution_count": 27,
      "metadata": {
        "id": "MvA5mxktOuep"
      },
      "outputs": [],
      "source": [
        "X_train,X_test,y_train,y_test = train_test_split(X,y,test_size=0.3)"
      ]
    },
    {
      "cell_type": "markdown",
      "metadata": {
        "id": "EuvsGgEZSyD4"
      },
      "source": [
        "Al principio, importamos la librería __tree__ de __sklearn__ y vamos a usar el árbol para clasificar.\n",
        "<a href=\"https://scikit-learn.org/stable/modules/generated/sklearn.tree.DecisionTreeClassifier.html#sklearn.tree.DecisionTreeClassifier\">Documentación de la librería: DecisionTreeClassifier</a>\n",
        "<ol>\n",
        "<li>Creo el modelo</li>\n",
        "<li>Lo ajusto con el conjunto de entrenamiento</li>\n",
        "<li>Graficamos</li>\n",
        "<li>Para conocer su rendimiento observamos Accuracy y Matriz de Confusión</li>\n",
        "</ol>"
      ]
    },
    {
      "cell_type": "code",
      "execution_count": 28,
      "metadata": {
        "colab": {
          "base_uri": "https://localhost:8080/"
        },
        "id": "PcBmXyb6FBu5",
        "outputId": "065d2333-e7c2-4242-d492-0d6d105fe3af"
      },
      "outputs": [
        {
          "data": {
            "text/html": [
              "<style>#sk-container-id-1 {color: black;background-color: white;}#sk-container-id-1 pre{padding: 0;}#sk-container-id-1 div.sk-toggleable {background-color: white;}#sk-container-id-1 label.sk-toggleable__label {cursor: pointer;display: block;width: 100%;margin-bottom: 0;padding: 0.3em;box-sizing: border-box;text-align: center;}#sk-container-id-1 label.sk-toggleable__label-arrow:before {content: \"▸\";float: left;margin-right: 0.25em;color: #696969;}#sk-container-id-1 label.sk-toggleable__label-arrow:hover:before {color: black;}#sk-container-id-1 div.sk-estimator:hover label.sk-toggleable__label-arrow:before {color: black;}#sk-container-id-1 div.sk-toggleable__content {max-height: 0;max-width: 0;overflow: hidden;text-align: left;background-color: #f0f8ff;}#sk-container-id-1 div.sk-toggleable__content pre {margin: 0.2em;color: black;border-radius: 0.25em;background-color: #f0f8ff;}#sk-container-id-1 input.sk-toggleable__control:checked~div.sk-toggleable__content {max-height: 200px;max-width: 100%;overflow: auto;}#sk-container-id-1 input.sk-toggleable__control:checked~label.sk-toggleable__label-arrow:before {content: \"▾\";}#sk-container-id-1 div.sk-estimator input.sk-toggleable__control:checked~label.sk-toggleable__label {background-color: #d4ebff;}#sk-container-id-1 div.sk-label input.sk-toggleable__control:checked~label.sk-toggleable__label {background-color: #d4ebff;}#sk-container-id-1 input.sk-hidden--visually {border: 0;clip: rect(1px 1px 1px 1px);clip: rect(1px, 1px, 1px, 1px);height: 1px;margin: -1px;overflow: hidden;padding: 0;position: absolute;width: 1px;}#sk-container-id-1 div.sk-estimator {font-family: monospace;background-color: #f0f8ff;border: 1px dotted black;border-radius: 0.25em;box-sizing: border-box;margin-bottom: 0.5em;}#sk-container-id-1 div.sk-estimator:hover {background-color: #d4ebff;}#sk-container-id-1 div.sk-parallel-item::after {content: \"\";width: 100%;border-bottom: 1px solid gray;flex-grow: 1;}#sk-container-id-1 div.sk-label:hover label.sk-toggleable__label {background-color: #d4ebff;}#sk-container-id-1 div.sk-serial::before {content: \"\";position: absolute;border-left: 1px solid gray;box-sizing: border-box;top: 0;bottom: 0;left: 50%;z-index: 0;}#sk-container-id-1 div.sk-serial {display: flex;flex-direction: column;align-items: center;background-color: white;padding-right: 0.2em;padding-left: 0.2em;position: relative;}#sk-container-id-1 div.sk-item {position: relative;z-index: 1;}#sk-container-id-1 div.sk-parallel {display: flex;align-items: stretch;justify-content: center;background-color: white;position: relative;}#sk-container-id-1 div.sk-item::before, #sk-container-id-1 div.sk-parallel-item::before {content: \"\";position: absolute;border-left: 1px solid gray;box-sizing: border-box;top: 0;bottom: 0;left: 50%;z-index: -1;}#sk-container-id-1 div.sk-parallel-item {display: flex;flex-direction: column;z-index: 1;position: relative;background-color: white;}#sk-container-id-1 div.sk-parallel-item:first-child::after {align-self: flex-end;width: 50%;}#sk-container-id-1 div.sk-parallel-item:last-child::after {align-self: flex-start;width: 50%;}#sk-container-id-1 div.sk-parallel-item:only-child::after {width: 0;}#sk-container-id-1 div.sk-dashed-wrapped {border: 1px dashed gray;margin: 0 0.4em 0.5em 0.4em;box-sizing: border-box;padding-bottom: 0.4em;background-color: white;}#sk-container-id-1 div.sk-label label {font-family: monospace;font-weight: bold;display: inline-block;line-height: 1.2em;}#sk-container-id-1 div.sk-label-container {text-align: center;}#sk-container-id-1 div.sk-container {/* jupyter's `normalize.less` sets `[hidden] { display: none; }` but bootstrap.min.css set `[hidden] { display: none !important; }` so we also need the `!important` here to be able to override the default hidden behavior on the sphinx rendered scikit-learn.org. See: https://github.com/scikit-learn/scikit-learn/issues/21755 */display: inline-block !important;position: relative;}#sk-container-id-1 div.sk-text-repr-fallback {display: none;}</style><div id=\"sk-container-id-1\" class=\"sk-top-container\"><div class=\"sk-text-repr-fallback\"><pre>DecisionTreeClassifier(max_depth=4)</pre><b>In a Jupyter environment, please rerun this cell to show the HTML representation or trust the notebook. <br />On GitHub, the HTML representation is unable to render, please try loading this page with nbviewer.org.</b></div><div class=\"sk-container\" hidden><div class=\"sk-item\"><div class=\"sk-estimator sk-toggleable\"><input class=\"sk-toggleable__control sk-hidden--visually\" id=\"sk-estimator-id-1\" type=\"checkbox\" checked><label for=\"sk-estimator-id-1\" class=\"sk-toggleable__label sk-toggleable__label-arrow\">DecisionTreeClassifier</label><div class=\"sk-toggleable__content\"><pre>DecisionTreeClassifier(max_depth=4)</pre></div></div></div></div></div>"
            ],
            "text/plain": [
              "DecisionTreeClassifier(max_depth=4)"
            ]
          },
          "execution_count": 28,
          "metadata": {},
          "output_type": "execute_result"
        }
      ],
      "source": [
        "# Usamos la librería tree de sklearn para crear el modelo\n",
        "model = tree.DecisionTreeClassifier(max_depth=4)\n",
        "model"
      ]
    },
    {
      "cell_type": "code",
      "execution_count": 29,
      "metadata": {
        "colab": {
          "base_uri": "https://localhost:8080/"
        },
        "id": "7IEzPFoXFZQA",
        "outputId": "1ccb6135-6023-4588-db45-03110ef4b0f6"
      },
      "outputs": [
        {
          "data": {
            "text/html": [
              "<style>#sk-container-id-2 {color: black;background-color: white;}#sk-container-id-2 pre{padding: 0;}#sk-container-id-2 div.sk-toggleable {background-color: white;}#sk-container-id-2 label.sk-toggleable__label {cursor: pointer;display: block;width: 100%;margin-bottom: 0;padding: 0.3em;box-sizing: border-box;text-align: center;}#sk-container-id-2 label.sk-toggleable__label-arrow:before {content: \"▸\";float: left;margin-right: 0.25em;color: #696969;}#sk-container-id-2 label.sk-toggleable__label-arrow:hover:before {color: black;}#sk-container-id-2 div.sk-estimator:hover label.sk-toggleable__label-arrow:before {color: black;}#sk-container-id-2 div.sk-toggleable__content {max-height: 0;max-width: 0;overflow: hidden;text-align: left;background-color: #f0f8ff;}#sk-container-id-2 div.sk-toggleable__content pre {margin: 0.2em;color: black;border-radius: 0.25em;background-color: #f0f8ff;}#sk-container-id-2 input.sk-toggleable__control:checked~div.sk-toggleable__content {max-height: 200px;max-width: 100%;overflow: auto;}#sk-container-id-2 input.sk-toggleable__control:checked~label.sk-toggleable__label-arrow:before {content: \"▾\";}#sk-container-id-2 div.sk-estimator input.sk-toggleable__control:checked~label.sk-toggleable__label {background-color: #d4ebff;}#sk-container-id-2 div.sk-label input.sk-toggleable__control:checked~label.sk-toggleable__label {background-color: #d4ebff;}#sk-container-id-2 input.sk-hidden--visually {border: 0;clip: rect(1px 1px 1px 1px);clip: rect(1px, 1px, 1px, 1px);height: 1px;margin: -1px;overflow: hidden;padding: 0;position: absolute;width: 1px;}#sk-container-id-2 div.sk-estimator {font-family: monospace;background-color: #f0f8ff;border: 1px dotted black;border-radius: 0.25em;box-sizing: border-box;margin-bottom: 0.5em;}#sk-container-id-2 div.sk-estimator:hover {background-color: #d4ebff;}#sk-container-id-2 div.sk-parallel-item::after {content: \"\";width: 100%;border-bottom: 1px solid gray;flex-grow: 1;}#sk-container-id-2 div.sk-label:hover label.sk-toggleable__label {background-color: #d4ebff;}#sk-container-id-2 div.sk-serial::before {content: \"\";position: absolute;border-left: 1px solid gray;box-sizing: border-box;top: 0;bottom: 0;left: 50%;z-index: 0;}#sk-container-id-2 div.sk-serial {display: flex;flex-direction: column;align-items: center;background-color: white;padding-right: 0.2em;padding-left: 0.2em;position: relative;}#sk-container-id-2 div.sk-item {position: relative;z-index: 1;}#sk-container-id-2 div.sk-parallel {display: flex;align-items: stretch;justify-content: center;background-color: white;position: relative;}#sk-container-id-2 div.sk-item::before, #sk-container-id-2 div.sk-parallel-item::before {content: \"\";position: absolute;border-left: 1px solid gray;box-sizing: border-box;top: 0;bottom: 0;left: 50%;z-index: -1;}#sk-container-id-2 div.sk-parallel-item {display: flex;flex-direction: column;z-index: 1;position: relative;background-color: white;}#sk-container-id-2 div.sk-parallel-item:first-child::after {align-self: flex-end;width: 50%;}#sk-container-id-2 div.sk-parallel-item:last-child::after {align-self: flex-start;width: 50%;}#sk-container-id-2 div.sk-parallel-item:only-child::after {width: 0;}#sk-container-id-2 div.sk-dashed-wrapped {border: 1px dashed gray;margin: 0 0.4em 0.5em 0.4em;box-sizing: border-box;padding-bottom: 0.4em;background-color: white;}#sk-container-id-2 div.sk-label label {font-family: monospace;font-weight: bold;display: inline-block;line-height: 1.2em;}#sk-container-id-2 div.sk-label-container {text-align: center;}#sk-container-id-2 div.sk-container {/* jupyter's `normalize.less` sets `[hidden] { display: none; }` but bootstrap.min.css set `[hidden] { display: none !important; }` so we also need the `!important` here to be able to override the default hidden behavior on the sphinx rendered scikit-learn.org. See: https://github.com/scikit-learn/scikit-learn/issues/21755 */display: inline-block !important;position: relative;}#sk-container-id-2 div.sk-text-repr-fallback {display: none;}</style><div id=\"sk-container-id-2\" class=\"sk-top-container\"><div class=\"sk-text-repr-fallback\"><pre>DecisionTreeClassifier(max_depth=4)</pre><b>In a Jupyter environment, please rerun this cell to show the HTML representation or trust the notebook. <br />On GitHub, the HTML representation is unable to render, please try loading this page with nbviewer.org.</b></div><div class=\"sk-container\" hidden><div class=\"sk-item\"><div class=\"sk-estimator sk-toggleable\"><input class=\"sk-toggleable__control sk-hidden--visually\" id=\"sk-estimator-id-2\" type=\"checkbox\" checked><label for=\"sk-estimator-id-2\" class=\"sk-toggleable__label sk-toggleable__label-arrow\">DecisionTreeClassifier</label><div class=\"sk-toggleable__content\"><pre>DecisionTreeClassifier(max_depth=4)</pre></div></div></div></div></div>"
            ],
            "text/plain": [
              "DecisionTreeClassifier(max_depth=4)"
            ]
          },
          "execution_count": 29,
          "metadata": {},
          "output_type": "execute_result"
        }
      ],
      "source": [
        "#Ajustamos el modelo con nuestros datos\n",
        "model.fit(X_train,y_train)"
      ]
    },
    {
      "cell_type": "code",
      "execution_count": 30,
      "metadata": {
        "colab": {
          "base_uri": "https://localhost:8080/",
          "height": 709
        },
        "id": "0XGLHChbSyD4",
        "outputId": "391ce6ef-e559-4979-feda-5de86205bdcc"
      },
      "outputs": [
        {
          "data": {
            "image/png": "[encoded data removed]",
            "text/plain": [
              "<Figure size 1440x1080 with 1 Axes>"
            ]
          },
          "metadata": {
            "needs_background": "light"
          },
          "output_type": "display_data"
        }
      ],
      "source": [
        "#Creamos un espacio más grande para graficar el árbol\n",
        "fig,ax1 = plt.subplots(1,1,figsize=(20,15))\n",
        "\n",
        "tree.plot_tree(model,ax=ax1, max_depth=4, feature_names=X.columns, class_names=['0','1'],filled=True)\n",
        "plt.show()"
      ]
    },
    {
      "cell_type": "markdown",
      "metadata": {
        "id": "TK8AiUfuSyD5"
      },
      "source": [
        "Probamos el model con los datos para test"
      ]
    },
    {
      "cell_type": "code",
      "execution_count": 31,
      "metadata": {
        "colab": {
          "base_uri": "https://localhost:8080/"
        },
        "id": "XsJxc_cHSyD6",
        "outputId": "76178189-c26e-4855-cb00-30616a75be72"
      },
      "outputs": [
        {
          "data": {
            "text/plain": [
              "array([1, 0, 0, ..., 1, 0, 1])"
            ]
          },
          "execution_count": 31,
          "metadata": {},
          "output_type": "execute_result"
        }
      ],
      "source": [
        "yPred=model.predict(X_test)\n",
        "yPred"
      ]
    },
    {
      "cell_type": "code",
      "execution_count": 32,
      "metadata": {
        "colab": {
          "base_uri": "https://localhost:8080/"
        },
        "id": "x7wAvvMPSyD7",
        "outputId": "269c2ddf-04bf-4f91-e186-940088d0e72b"
      },
      "outputs": [
        {
          "name": "stdout",
          "output_type": "stream",
          "text": [
            "Accuracy Score:  0.9896238651102465\n",
            "Recall Score:  0.9950634696755994\n",
            "Precision Score:  0.9611716621253406\n"
          ]
        },
        {
          "data": {
            "text/plain": [
              "array([[4693,   57],\n",
              "       [   7, 1411]])"
            ]
          },
          "execution_count": 32,
          "metadata": {},
          "output_type": "execute_result"
        }
      ],
      "source": [
        "#las métricas las importamos al principio: confusion_matrix,accuracy_score,recall_score,precision_score\n",
        "print('Accuracy Score: ',accuracy_score(y_test, yPred) )\n",
        "print('Recall Score: ', recall_score(y_test, yPred))\n",
        "print('Precision Score: ', precision_score(y_test, yPred) )\n",
        "\n",
        "#confusion Matrix\n",
        "confusion_matrix(y_test, yPred)"
      ]
    },
    {
      "cell_type": "markdown",
      "metadata": {
        "id": "1t8_uhuISyD7"
      },
      "source": [
        "Podemos mostrar la matriz un poco más clara y también normalizada"
      ]
    },
    {
      "cell_type": "code",
      "execution_count": 33,
      "metadata": {
        "colab": {
          "base_uri": "https://localhost:8080/",
          "height": 334
        },
        "id": "GnUf-EErSyD7",
        "outputId": "cf6a5c04-77ac-4cdd-c444-0fa1601a7b09"
      },
      "outputs": [
        {
          "name": "stderr",
          "output_type": "stream",
          "text": [
            "/home/chris/anaconda3/envs/datacamp/lib/python3.8/site-packages/sklearn/utils/deprecation.py:87: FutureWarning: Function plot_confusion_matrix is deprecated; Function `plot_confusion_matrix` is deprecated in 1.0 and will be removed in 1.2. Use one of the class methods: ConfusionMatrixDisplay.from_predictions or ConfusionMatrixDisplay.from_estimator.\n",
            "  warnings.warn(msg, category=FutureWarning)\n"
          ]
        },
        {
          "data": {
            "image/png": "[encoded data removed]",
            "text/plain": [
              "<Figure size 432x288 with 2 Axes>"
            ]
          },
          "metadata": {
            "needs_background": "light"
          },
          "output_type": "display_data"
        }
      ],
      "source": [
        "#Al principio importamos plot_confusion_matrix\n",
        "clases=['no','si']\n",
        "plot_confusion_matrix(model, X_test, y_test, cmap=plt.cm.Blues,normalize='true',display_labels=clases)\n",
        "plt.show()"
      ]
    },
    {
      "cell_type": "markdown",
      "metadata": {
        "id": "fOagMbHeSyD8"
      },
      "source": [
        "Vamos a evaluar el modelo con Cross Validation. Inicialmente usamos Accuracy como métrica pero podemos usar muchas otras, inclusive podemos crear nuestras métricas. Esto es especialmente útil cuando hacemos regresión.\n",
        "<a href=\"https://scikit-learn.org/stable/modules/model_evaluation.html#the-scoring-parameter-defining-model-evaluation-rules\">Métricas</a>"
      ]
    },
    {
      "cell_type": "code",
      "execution_count": 34,
      "metadata": {
        "colab": {
          "base_uri": "https://localhost:8080/"
        },
        "id": "q6lUbR0xSyD9",
        "outputId": "d018d006-4720-49af-c31e-5e8383215dee"
      },
      "outputs": [
        {
          "data": {
            "text/plain": [
              "{'fit_time': array([0.03966331, 0.03346086, 0.03286529, 0.03081155, 0.02959347,\n",
              "        0.03164291, 0.03610373, 0.02814698, 0.02939558, 0.03104568]),\n",
              " 'score_time': array([0.00237489, 0.00369954, 0.00241613, 0.00252986, 0.00257087,\n",
              "        0.00320172, 0.00322199, 0.00315142, 0.0063765 , 0.00484347]),\n",
              " 'test_score': array([0.99368421, 0.99789474, 0.90315789, 0.99157895, 0.98315789,\n",
              "        0.99789474, 0.99789474, 0.99789474, 0.99368421, 1.        ])}"
            ]
          },
          "execution_count": 34,
          "metadata": {},
          "output_type": "execute_result"
        }
      ],
      "source": [
        "#función cross_validate importada de sklearn.model_selection\n",
        "results = cross_validate(model,X,y, cv=10, scoring='recall')\n",
        "results"
      ]
    },
    {
      "cell_type": "code",
      "execution_count": 35,
      "metadata": {
        "colab": {
          "base_uri": "https://localhost:8080/"
        },
        "id": "0LnbtUBCSyD9",
        "outputId": "becefca8-3a29-415b-c4c4-9ba0f3d81bb8"
      },
      "outputs": [
        {
          "data": {
            "text/plain": [
              "{'fit_time': array([0.03667974, 0.03616881, 0.03354812, 0.02868581, 0.02790761,\n",
              "        0.02844095, 0.03134108, 0.03155351, 0.02843118, 0.02826905]),\n",
              " 'score_time': array([0.00900412, 0.00377202, 0.00470352, 0.00391912, 0.00487328,\n",
              "        0.00426388, 0.00587225, 0.00266576, 0.00304651, 0.00353789]),\n",
              " 'test_ac': array([0.96741245, 0.91001946, 0.97762646, 0.99659533, 0.99027237,\n",
              "        0.91293774, 0.99416342, 0.99367704, 0.98200389, 0.9844358 ]),\n",
              " 'test_rcl': array([0.99368421, 0.98315789, 0.90315789, 0.99157895, 0.98315789,\n",
              "        0.99789474, 0.99789474, 0.99789474, 0.99368421, 1.        ])}"
            ]
          },
          "execution_count": 35,
          "metadata": {},
          "output_type": "execute_result"
        }
      ],
      "source": [
        "mi_score={'ac':'accuracy','rcl':'recall'}\n",
        "results = cross_validate(model, X, y, cv=10, scoring=mi_score)\n",
        "results"
      ]
    },
    {
      "cell_type": "markdown",
      "metadata": {
        "id": "b1yyz6lsSyD9"
      },
      "source": [
        "Probamos el modelo cambiando __gini__ por __entropía__. Creamos __model2__ con <code>criterion='entropy'</code>. Vamos a tener que crear __yPred2__ y calcular las métricas con él."
      ]
    },
    {
      "cell_type": "code",
      "execution_count": 36,
      "metadata": {
        "colab": {
          "base_uri": "https://localhost:8080/"
        },
        "id": "zkvFdNrlSyD9",
        "outputId": "139493ff-5d2a-460d-f4f4-cbb6b11cd228"
      },
      "outputs": [
        {
          "data": {
            "text/html": [
              "<style>#sk-container-id-3 {color: black;background-color: white;}#sk-container-id-3 pre{padding: 0;}#sk-container-id-3 div.sk-toggleable {background-color: white;}#sk-container-id-3 label.sk-toggleable__label {cursor: pointer;display: block;width: 100%;margin-bottom: 0;padding: 0.3em;box-sizing: border-box;text-align: center;}#sk-container-id-3 label.sk-toggleable__label-arrow:before {content: \"▸\";float: left;margin-right: 0.25em;color: #696969;}#sk-container-id-3 label.sk-toggleable__label-arrow:hover:before {color: black;}#sk-container-id-3 div.sk-estimator:hover label.sk-toggleable__label-arrow:before {color: black;}#sk-container-id-3 div.sk-toggleable__content {max-height: 0;max-width: 0;overflow: hidden;text-align: left;background-color: #f0f8ff;}#sk-container-id-3 div.sk-toggleable__content pre {margin: 0.2em;color: black;border-radius: 0.25em;background-color: #f0f8ff;}#sk-container-id-3 input.sk-toggleable__control:checked~div.sk-toggleable__content {max-height: 200px;max-width: 100%;overflow: auto;}#sk-container-id-3 input.sk-toggleable__control:checked~label.sk-toggleable__label-arrow:before {content: \"▾\";}#sk-container-id-3 div.sk-estimator input.sk-toggleable__control:checked~label.sk-toggleable__label {background-color: #d4ebff;}#sk-container-id-3 div.sk-label input.sk-toggleable__control:checked~label.sk-toggleable__label {background-color: #d4ebff;}#sk-container-id-3 input.sk-hidden--visually {border: 0;clip: rect(1px 1px 1px 1px);clip: rect(1px, 1px, 1px, 1px);height: 1px;margin: -1px;overflow: hidden;padding: 0;position: absolute;width: 1px;}#sk-container-id-3 div.sk-estimator {font-family: monospace;background-color: #f0f8ff;border: 1px dotted black;border-radius: 0.25em;box-sizing: border-box;margin-bottom: 0.5em;}#sk-container-id-3 div.sk-estimator:hover {background-color: #d4ebff;}#sk-container-id-3 div.sk-parallel-item::after {content: \"\";width: 100%;border-bottom: 1px solid gray;flex-grow: 1;}#sk-container-id-3 div.sk-label:hover label.sk-toggleable__label {background-color: #d4ebff;}#sk-container-id-3 div.sk-serial::before {content: \"\";position: absolute;border-left: 1px solid gray;box-sizing: border-box;top: 0;bottom: 0;left: 50%;z-index: 0;}#sk-container-id-3 div.sk-serial {display: flex;flex-direction: column;align-items: center;background-color: white;padding-right: 0.2em;padding-left: 0.2em;position: relative;}#sk-container-id-3 div.sk-item {position: relative;z-index: 1;}#sk-container-id-3 div.sk-parallel {display: flex;align-items: stretch;justify-content: center;background-color: white;position: relative;}#sk-container-id-3 div.sk-item::before, #sk-container-id-3 div.sk-parallel-item::before {content: \"\";position: absolute;border-left: 1px solid gray;box-sizing: border-box;top: 0;bottom: 0;left: 50%;z-index: -1;}#sk-container-id-3 div.sk-parallel-item {display: flex;flex-direction: column;z-index: 1;position: relative;background-color: white;}#sk-container-id-3 div.sk-parallel-item:first-child::after {align-self: flex-end;width: 50%;}#sk-container-id-3 div.sk-parallel-item:last-child::after {align-self: flex-start;width: 50%;}#sk-container-id-3 div.sk-parallel-item:only-child::after {width: 0;}#sk-container-id-3 div.sk-dashed-wrapped {border: 1px dashed gray;margin: 0 0.4em 0.5em 0.4em;box-sizing: border-box;padding-bottom: 0.4em;background-color: white;}#sk-container-id-3 div.sk-label label {font-family: monospace;font-weight: bold;display: inline-block;line-height: 1.2em;}#sk-container-id-3 div.sk-label-container {text-align: center;}#sk-container-id-3 div.sk-container {/* jupyter's `normalize.less` sets `[hidden] { display: none; }` but bootstrap.min.css set `[hidden] { display: none !important; }` so we also need the `!important` here to be able to override the default hidden behavior on the sphinx rendered scikit-learn.org. See: https://github.com/scikit-learn/scikit-learn/issues/21755 */display: inline-block !important;position: relative;}#sk-container-id-3 div.sk-text-repr-fallback {display: none;}</style><div id=\"sk-container-id-3\" class=\"sk-top-container\"><div class=\"sk-text-repr-fallback\"><pre>DecisionTreeClassifier(criterion=&#x27;entropy&#x27;, max_depth=4)</pre><b>In a Jupyter environment, please rerun this cell to show the HTML representation or trust the notebook. <br />On GitHub, the HTML representation is unable to render, please try loading this page with nbviewer.org.</b></div><div class=\"sk-container\" hidden><div class=\"sk-item\"><div class=\"sk-estimator sk-toggleable\"><input class=\"sk-toggleable__control sk-hidden--visually\" id=\"sk-estimator-id-3\" type=\"checkbox\" checked><label for=\"sk-estimator-id-3\" class=\"sk-toggleable__label sk-toggleable__label-arrow\">DecisionTreeClassifier</label><div class=\"sk-toggleable__content\"><pre>DecisionTreeClassifier(criterion=&#x27;entropy&#x27;, max_depth=4)</pre></div></div></div></div></div>"
            ],
            "text/plain": [
              "DecisionTreeClassifier(criterion='entropy', max_depth=4)"
            ]
          },
          "execution_count": 36,
          "metadata": {},
          "output_type": "execute_result"
        }
      ],
      "source": [
        "model2 = tree.DecisionTreeClassifier(max_depth=4,criterion='entropy')\n",
        "model2"
      ]
    },
    {
      "cell_type": "markdown",
      "metadata": {
        "id": "NMaW-4COVMxD"
      },
      "source": [
        "Creamos yPred2 usando el método predict sobre X_test"
      ]
    },
    {
      "cell_type": "code",
      "execution_count": 37,
      "metadata": {
        "colab": {
          "base_uri": "https://localhost:8080/"
        },
        "id": "R7ZoPYmPUaqI",
        "outputId": "db99d2fb-8070-4976-c19d-d858ac91dea2"
      },
      "outputs": [
        {
          "data": {
            "text/html": [
              "<style>#sk-container-id-4 {color: black;background-color: white;}#sk-container-id-4 pre{padding: 0;}#sk-container-id-4 div.sk-toggleable {background-color: white;}#sk-container-id-4 label.sk-toggleable__label {cursor: pointer;display: block;width: 100%;margin-bottom: 0;padding: 0.3em;box-sizing: border-box;text-align: center;}#sk-container-id-4 label.sk-toggleable__label-arrow:before {content: \"▸\";float: left;margin-right: 0.25em;color: #696969;}#sk-container-id-4 label.sk-toggleable__label-arrow:hover:before {color: black;}#sk-container-id-4 div.sk-estimator:hover label.sk-toggleable__label-arrow:before {color: black;}#sk-container-id-4 div.sk-toggleable__content {max-height: 0;max-width: 0;overflow: hidden;text-align: left;background-color: #f0f8ff;}#sk-container-id-4 div.sk-toggleable__content pre {margin: 0.2em;color: black;border-radius: 0.25em;background-color: #f0f8ff;}#sk-container-id-4 input.sk-toggleable__control:checked~div.sk-toggleable__content {max-height: 200px;max-width: 100%;overflow: auto;}#sk-container-id-4 input.sk-toggleable__control:checked~label.sk-toggleable__label-arrow:before {content: \"▾\";}#sk-container-id-4 div.sk-estimator input.sk-toggleable__control:checked~label.sk-toggleable__label {background-color: #d4ebff;}#sk-container-id-4 div.sk-label input.sk-toggleable__control:checked~label.sk-toggleable__label {background-color: #d4ebff;}#sk-container-id-4 input.sk-hidden--visually {border: 0;clip: rect(1px 1px 1px 1px);clip: rect(1px, 1px, 1px, 1px);height: 1px;margin: -1px;overflow: hidden;padding: 0;position: absolute;width: 1px;}#sk-container-id-4 div.sk-estimator {font-family: monospace;background-color: #f0f8ff;border: 1px dotted black;border-radius: 0.25em;box-sizing: border-box;margin-bottom: 0.5em;}#sk-container-id-4 div.sk-estimator:hover {background-color: #d4ebff;}#sk-container-id-4 div.sk-parallel-item::after {content: \"\";width: 100%;border-bottom: 1px solid gray;flex-grow: 1;}#sk-container-id-4 div.sk-label:hover label.sk-toggleable__label {background-color: #d4ebff;}#sk-container-id-4 div.sk-serial::before {content: \"\";position: absolute;border-left: 1px solid gray;box-sizing: border-box;top: 0;bottom: 0;left: 50%;z-index: 0;}#sk-container-id-4 div.sk-serial {display: flex;flex-direction: column;align-items: center;background-color: white;padding-right: 0.2em;padding-left: 0.2em;position: relative;}#sk-container-id-4 div.sk-item {position: relative;z-index: 1;}#sk-container-id-4 div.sk-parallel {display: flex;align-items: stretch;justify-content: center;background-color: white;position: relative;}#sk-container-id-4 div.sk-item::before, #sk-container-id-4 div.sk-parallel-item::before {content: \"\";position: absolute;border-left: 1px solid gray;box-sizing: border-box;top: 0;bottom: 0;left: 50%;z-index: -1;}#sk-container-id-4 div.sk-parallel-item {display: flex;flex-direction: column;z-index: 1;position: relative;background-color: white;}#sk-container-id-4 div.sk-parallel-item:first-child::after {align-self: flex-end;width: 50%;}#sk-container-id-4 div.sk-parallel-item:last-child::after {align-self: flex-start;width: 50%;}#sk-container-id-4 div.sk-parallel-item:only-child::after {width: 0;}#sk-container-id-4 div.sk-dashed-wrapped {border: 1px dashed gray;margin: 0 0.4em 0.5em 0.4em;box-sizing: border-box;padding-bottom: 0.4em;background-color: white;}#sk-container-id-4 div.sk-label label {font-family: monospace;font-weight: bold;display: inline-block;line-height: 1.2em;}#sk-container-id-4 div.sk-label-container {text-align: center;}#sk-container-id-4 div.sk-container {/* jupyter's `normalize.less` sets `[hidden] { display: none; }` but bootstrap.min.css set `[hidden] { display: none !important; }` so we also need the `!important` here to be able to override the default hidden behavior on the sphinx rendered scikit-learn.org. See: https://github.com/scikit-learn/scikit-learn/issues/21755 */display: inline-block !important;position: relative;}#sk-container-id-4 div.sk-text-repr-fallback {display: none;}</style><div id=\"sk-container-id-4\" class=\"sk-top-container\"><div class=\"sk-text-repr-fallback\"><pre>DecisionTreeClassifier(criterion=&#x27;entropy&#x27;, max_depth=4)</pre><b>In a Jupyter environment, please rerun this cell to show the HTML representation or trust the notebook. <br />On GitHub, the HTML representation is unable to render, please try loading this page with nbviewer.org.</b></div><div class=\"sk-container\" hidden><div class=\"sk-item\"><div class=\"sk-estimator sk-toggleable\"><input class=\"sk-toggleable__control sk-hidden--visually\" id=\"sk-estimator-id-4\" type=\"checkbox\" checked><label for=\"sk-estimator-id-4\" class=\"sk-toggleable__label sk-toggleable__label-arrow\">DecisionTreeClassifier</label><div class=\"sk-toggleable__content\"><pre>DecisionTreeClassifier(criterion=&#x27;entropy&#x27;, max_depth=4)</pre></div></div></div></div></div>"
            ],
            "text/plain": [
              "DecisionTreeClassifier(criterion='entropy', max_depth=4)"
            ]
          },
          "execution_count": 37,
          "metadata": {},
          "output_type": "execute_result"
        }
      ],
      "source": [
        "model2.fit(X_train,y_train)"
      ]
    },
    {
      "cell_type": "markdown",
      "metadata": {
        "id": "uIIq4ov0VXFU"
      },
      "source": [
        "Observamos los resultados de Accuracy, Recall y Precision más la matriz de confusión."
      ]
    },
    {
      "cell_type": "code",
      "execution_count": 38,
      "metadata": {
        "colab": {
          "base_uri": "https://localhost:8080/"
        },
        "id": "RxIsk7-QUoxg",
        "outputId": "5f3fefa3-a2df-4961-b6aa-5d28a1b8e30f"
      },
      "outputs": [
        {
          "data": {
            "text/plain": [
              "array([1, 0, 0, ..., 1, 0, 1])"
            ]
          },
          "execution_count": 38,
          "metadata": {},
          "output_type": "execute_result"
        }
      ],
      "source": [
        "yPred2=model2.predict(X_test)\n",
        "yPred2"
      ]
    },
    {
      "cell_type": "code",
      "execution_count": 39,
      "metadata": {
        "colab": {
          "base_uri": "https://localhost:8080/",
          "height": 386
        },
        "id": "H-8btHHnYvfN",
        "outputId": "becb9b03-92b4-4b9f-f774-63f6133bd1d4"
      },
      "outputs": [
        {
          "name": "stdout",
          "output_type": "stream",
          "text": [
            "Accuracy Score:  0.9897859922178989\n",
            "Recall Score:  0.9950634696755994\n",
            "Precision Score:  0.961826857532379\n"
          ]
        },
        {
          "name": "stderr",
          "output_type": "stream",
          "text": [
            "/home/chris/anaconda3/envs/datacamp/lib/python3.8/site-packages/sklearn/utils/deprecation.py:87: FutureWarning: Function plot_confusion_matrix is deprecated; Function `plot_confusion_matrix` is deprecated in 1.0 and will be removed in 1.2. Use one of the class methods: ConfusionMatrixDisplay.from_predictions or ConfusionMatrixDisplay.from_estimator.\n",
            "  warnings.warn(msg, category=FutureWarning)\n"
          ]
        },
        {
          "data": {
            "image/png": "[encoded data removed]",
            "text/plain": [
              "<Figure size 432x288 with 2 Axes>"
            ]
          },
          "metadata": {
            "needs_background": "light"
          },
          "output_type": "display_data"
        }
      ],
      "source": [
        "print('Accuracy Score: ',accuracy_score(y_test, yPred2) )\n",
        "print('Recall Score: ', recall_score(y_test, yPred2))\n",
        "print('Precision Score: ', precision_score(y_test, yPred2) )\n",
        "plot_confusion_matrix(model2, X_test, y_test, cmap=plt.cm.Blues,normalize='true',display_labels=clases)\n",
        "plt.show()"
      ]
    },
    {
      "cell_type": "markdown",
      "metadata": {
        "id": "d3dc3i3HSyEA"
      },
      "source": [
        "### Sin outliers\n",
        "Por último, vamos a probar un modelo entrenándolo con datos sin outliers.<br>\n",
        "1. Creamos X3 e y3 usando en dataset __oso__"
      ]
    },
    {
      "cell_type": "code",
      "execution_count": 40,
      "metadata": {
        "id": "d49yq4uBSyEA"
      },
      "outputs": [],
      "source": [
        "y3=oso['Occupancy']\n",
        "X3=oso.drop(['Occupancy'],axis=1)"
      ]
    },
    {
      "cell_type": "markdown",
      "metadata": {
        "id": "4Ok-fp0pS1lO"
      },
      "source": [
        "2. Dividimos el conjunto en __train__ y __test__ 70-30"
      ]
    },
    {
      "cell_type": "code",
      "execution_count": 41,
      "metadata": {
        "id": "JY7xLFT8S1lP"
      },
      "outputs": [],
      "source": [
        "X_train3,X_test3,y_train3,y_test3 = train_test_split(X3,y3,test_size=0.3)"
      ]
    },
    {
      "cell_type": "markdown",
      "metadata": {
        "id": "VS_vYxIFS1lP"
      },
      "source": [
        "3. Creamos model3 con el clasificador ajustado con los datos sin outliers."
      ]
    },
    {
      "cell_type": "code",
      "execution_count": 42,
      "metadata": {
        "id": "mtWgf9KtS1lP"
      },
      "outputs": [
        {
          "data": {
            "text/html": [
              "<style>#sk-container-id-5 {color: black;background-color: white;}#sk-container-id-5 pre{padding: 0;}#sk-container-id-5 div.sk-toggleable {background-color: white;}#sk-container-id-5 label.sk-toggleable__label {cursor: pointer;display: block;width: 100%;margin-bottom: 0;padding: 0.3em;box-sizing: border-box;text-align: center;}#sk-container-id-5 label.sk-toggleable__label-arrow:before {content: \"▸\";float: left;margin-right: 0.25em;color: #696969;}#sk-container-id-5 label.sk-toggleable__label-arrow:hover:before {color: black;}#sk-container-id-5 div.sk-estimator:hover label.sk-toggleable__label-arrow:before {color: black;}#sk-container-id-5 div.sk-toggleable__content {max-height: 0;max-width: 0;overflow: hidden;text-align: left;background-color: #f0f8ff;}#sk-container-id-5 div.sk-toggleable__content pre {margin: 0.2em;color: black;border-radius: 0.25em;background-color: #f0f8ff;}#sk-container-id-5 input.sk-toggleable__control:checked~div.sk-toggleable__content {max-height: 200px;max-width: 100%;overflow: auto;}#sk-container-id-5 input.sk-toggleable__control:checked~label.sk-toggleable__label-arrow:before {content: \"▾\";}#sk-container-id-5 div.sk-estimator input.sk-toggleable__control:checked~label.sk-toggleable__label {background-color: #d4ebff;}#sk-container-id-5 div.sk-label input.sk-toggleable__control:checked~label.sk-toggleable__label {background-color: #d4ebff;}#sk-container-id-5 input.sk-hidden--visually {border: 0;clip: rect(1px 1px 1px 1px);clip: rect(1px, 1px, 1px, 1px);height: 1px;margin: -1px;overflow: hidden;padding: 0;position: absolute;width: 1px;}#sk-container-id-5 div.sk-estimator {font-family: monospace;background-color: #f0f8ff;border: 1px dotted black;border-radius: 0.25em;box-sizing: border-box;margin-bottom: 0.5em;}#sk-container-id-5 div.sk-estimator:hover {background-color: #d4ebff;}#sk-container-id-5 div.sk-parallel-item::after {content: \"\";width: 100%;border-bottom: 1px solid gray;flex-grow: 1;}#sk-container-id-5 div.sk-label:hover label.sk-toggleable__label {background-color: #d4ebff;}#sk-container-id-5 div.sk-serial::before {content: \"\";position: absolute;border-left: 1px solid gray;box-sizing: border-box;top: 0;bottom: 0;left: 50%;z-index: 0;}#sk-container-id-5 div.sk-serial {display: flex;flex-direction: column;align-items: center;background-color: white;padding-right: 0.2em;padding-left: 0.2em;position: relative;}#sk-container-id-5 div.sk-item {position: relative;z-index: 1;}#sk-container-id-5 div.sk-parallel {display: flex;align-items: stretch;justify-content: center;background-color: white;position: relative;}#sk-container-id-5 div.sk-item::before, #sk-container-id-5 div.sk-parallel-item::before {content: \"\";position: absolute;border-left: 1px solid gray;box-sizing: border-box;top: 0;bottom: 0;left: 50%;z-index: -1;}#sk-container-id-5 div.sk-parallel-item {display: flex;flex-direction: column;z-index: 1;position: relative;background-color: white;}#sk-container-id-5 div.sk-parallel-item:first-child::after {align-self: flex-end;width: 50%;}#sk-container-id-5 div.sk-parallel-item:last-child::after {align-self: flex-start;width: 50%;}#sk-container-id-5 div.sk-parallel-item:only-child::after {width: 0;}#sk-container-id-5 div.sk-dashed-wrapped {border: 1px dashed gray;margin: 0 0.4em 0.5em 0.4em;box-sizing: border-box;padding-bottom: 0.4em;background-color: white;}#sk-container-id-5 div.sk-label label {font-family: monospace;font-weight: bold;display: inline-block;line-height: 1.2em;}#sk-container-id-5 div.sk-label-container {text-align: center;}#sk-container-id-5 div.sk-container {/* jupyter's `normalize.less` sets `[hidden] { display: none; }` but bootstrap.min.css set `[hidden] { display: none !important; }` so we also need the `!important` here to be able to override the default hidden behavior on the sphinx rendered scikit-learn.org. See: https://github.com/scikit-learn/scikit-learn/issues/21755 */display: inline-block !important;position: relative;}#sk-container-id-5 div.sk-text-repr-fallback {display: none;}</style><div id=\"sk-container-id-5\" class=\"sk-top-container\"><div class=\"sk-text-repr-fallback\"><pre>DecisionTreeClassifier(max_depth=4)</pre><b>In a Jupyter environment, please rerun this cell to show the HTML representation or trust the notebook. <br />On GitHub, the HTML representation is unable to render, please try loading this page with nbviewer.org.</b></div><div class=\"sk-container\" hidden><div class=\"sk-item\"><div class=\"sk-estimator sk-toggleable\"><input class=\"sk-toggleable__control sk-hidden--visually\" id=\"sk-estimator-id-5\" type=\"checkbox\" checked><label for=\"sk-estimator-id-5\" class=\"sk-toggleable__label sk-toggleable__label-arrow\">DecisionTreeClassifier</label><div class=\"sk-toggleable__content\"><pre>DecisionTreeClassifier(max_depth=4)</pre></div></div></div></div></div>"
            ],
            "text/plain": [
              "DecisionTreeClassifier(max_depth=4)"
            ]
          },
          "execution_count": 42,
          "metadata": {},
          "output_type": "execute_result"
        }
      ],
      "source": [
        "model3 = tree.DecisionTreeClassifier(max_depth=4)\n",
        "model3.fit(X_train3,y_train3)"
      ]
    },
    {
      "cell_type": "markdown",
      "metadata": {
        "id": "lry5NbRnS1lP"
      },
      "source": [
        "4. Creamos yPred3 con la predicción del model3 y mostramos las métricas: Accuracy, Recall, Precision, y la matriz de confusión."
      ]
    },
    {
      "cell_type": "code",
      "execution_count": 43,
      "metadata": {
        "id": "WlNt-iFgIkn5"
      },
      "outputs": [
        {
          "data": {
            "text/plain": [
              "array([0, 0, 0, ..., 0, 0, 0])"
            ]
          },
          "execution_count": 43,
          "metadata": {},
          "output_type": "execute_result"
        }
      ],
      "source": [
        "yPred3=model.predict(X_test3)\n",
        "yPred3"
      ]
    },
    {
      "cell_type": "code",
      "execution_count": 44,
      "metadata": {},
      "outputs": [
        {
          "name": "stdout",
          "output_type": "stream",
          "text": [
            "Accuracy Score:  0.9892996108949417\n",
            "Recall Score:  0.997134670487106\n",
            "Precision Score:  0.9573590096286108\n"
          ]
        },
        {
          "name": "stderr",
          "output_type": "stream",
          "text": [
            "/home/chris/anaconda3/envs/datacamp/lib/python3.8/site-packages/sklearn/utils/deprecation.py:87: FutureWarning: Function plot_confusion_matrix is deprecated; Function `plot_confusion_matrix` is deprecated in 1.0 and will be removed in 1.2. Use one of the class methods: ConfusionMatrixDisplay.from_predictions or ConfusionMatrixDisplay.from_estimator.\n",
            "  warnings.warn(msg, category=FutureWarning)\n"
          ]
        },
        {
          "data": {
            "image/png": "[encoded data removed]",
            "text/plain": [
              "<Figure size 432x288 with 2 Axes>"
            ]
          },
          "metadata": {
            "needs_background": "light"
          },
          "output_type": "display_data"
        }
      ],
      "source": [
        "print('Accuracy Score: ',accuracy_score(y_test3, yPred3) )\n",
        "print('Recall Score: ', recall_score(y_test3, yPred3))\n",
        "print('Precision Score: ', precision_score(y_test3, yPred3) )\n",
        "plot_confusion_matrix(model3, X_test3, y_test3, cmap=plt.cm.Blues,normalize='true',display_labels=clases)\n",
        "plt.show()"
      ]
    },
    {
      "cell_type": "markdown",
      "metadata": {
        "id": "mQdmj_kgIlbf"
      },
      "source": [
        "## Comparamos los resultados\n",
        "Creamos un dataFrame con los nombres de los distintos modelos probados y las métricas de cada uno."
      ]
    },
    {
      "cell_type": "code",
      "execution_count": 45,
      "metadata": {
        "id": "JAbRKff3ZefV"
      },
      "outputs": [
        {
          "name": "stdout",
          "output_type": "stream",
          "text": [
            "Recall Score:  0.9950634696755994\n",
            "Precision Score:  0.9611716621253406\n"
          ]
        }
      ],
      "source": [
        "accuracy_score(y_test, yPred) \n",
        "print('Recall Score: ', recall_score(y_test, yPred))\n",
        "print('Precision Score: ', precision_score(y_test, yPred) )"
      ]
    },
    {
      "cell_type": "code",
      "execution_count": 46,
      "metadata": {
        "colab": {
          "base_uri": "https://localhost:8080/",
          "height": 143
        },
        "id": "mVa0fXoKYdOA",
        "outputId": "59e1ba81-d472-4415-8975-cc9b1316b8b3"
      },
      "outputs": [
        {
          "data": {
            "text/html": [
              "<div>\n",
              "<style scoped>\n",
              "    .dataframe tbody tr th:only-of-type {\n",
              "        vertical-align: middle;\n",
              "    }\n",
              "\n",
              "    .dataframe tbody tr th {\n",
              "        vertical-align: top;\n",
              "    }\n",
              "\n",
              "    .dataframe thead th {\n",
              "        text-align: right;\n",
              "    }\n",
              "</style>\n",
              "<table border=\"1\" class=\"dataframe\">\n",
              "  <thead>\n",
              "    <tr style=\"text-align: right;\">\n",
              "      <th></th>\n",
              "      <th>model1</th>\n",
              "      <th>model2</th>\n",
              "      <th>model3</th>\n",
              "    </tr>\n",
              "  </thead>\n",
              "  <tbody>\n",
              "    <tr>\n",
              "      <th>Accuracy</th>\n",
              "      <td>0.989624</td>\n",
              "      <td>0.989786</td>\n",
              "      <td>0.989300</td>\n",
              "    </tr>\n",
              "    <tr>\n",
              "      <th>Recall</th>\n",
              "      <td>0.995063</td>\n",
              "      <td>0.995063</td>\n",
              "      <td>0.997135</td>\n",
              "    </tr>\n",
              "    <tr>\n",
              "      <th>Precision</th>\n",
              "      <td>0.961172</td>\n",
              "      <td>0.961827</td>\n",
              "      <td>0.957359</td>\n",
              "    </tr>\n",
              "  </tbody>\n",
              "</table>\n",
              "</div>"
            ],
            "text/plain": [
              "             model1    model2    model3\n",
              "Accuracy   0.989624  0.989786  0.989300\n",
              "Recall     0.995063  0.995063  0.997135\n",
              "Precision  0.961172  0.961827  0.957359"
            ]
          },
          "execution_count": 46,
          "metadata": {},
          "output_type": "execute_result"
        }
      ],
      "source": [
        "pd.DataFrame({'model1':[accuracy_score(y_test, yPred),recall_score(y_test, yPred),precision_score(y_test, yPred)],\n",
        " 'model2':[accuracy_score(y_test, yPred2),recall_score(y_test, yPred2),precision_score(y_test, yPred2)],\n",
        " 'model3':[accuracy_score(y_test3, yPred3),recall_score(y_test3, yPred3),precision_score(y_test3, yPred3)]},index=['Accuracy','Recall','Precision'])"
      ]
    }
  ],
  "metadata": {
    "colab": {
      "collapsed_sections": [],
      "name": "Clase04_Markdown_y_árbol.ipynb",
      "provenance": []
    },
    "kernelspec": {
      "display_name": "Python 3.8.13 ('datacamp')",
      "language": "python",
      "name": "python3"
    },
    "language_info": {
      "codemirror_mode": {
        "name": "ipython",
        "version": 3
      },
      "file_extension": ".py",
      "mimetype": "text/x-python",
      "name": "python",
      "nbconvert_exporter": "python",
      "pygments_lexer": "ipython3",
      "version": "3.8.13"
    },
    "vscode": {
      "interpreter": {
        "hash": "7d7dbeb1711c1dccb8cce60042c5bc5c0a3d59246e11fec6876b459dbf8bbb97"
      }
    }
  },
  "nbformat": 4,
  "nbformat_minor": 0
}
